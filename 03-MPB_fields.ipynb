{
 "cells": [
  {
   "cell_type": "markdown",
   "metadata": {},
   "source": [
    "# MPB field profiles\n",
    "\n",
    "Setup as before :"
   ]
  },
  {
   "cell_type": "code",
   "execution_count": 1,
   "metadata": {},
   "outputs": [],
   "source": [
    "# Import meep and mpb (from meep)\n",
    "import meep as mp\n",
    "from meep import mpb\n",
    "\n",
    "# arrays\n",
    "import numpy as np\n",
    "\n",
    "# plotting\n",
    "import matplotlib.pyplot as plt"
   ]
  },
  {
   "cell_type": "code",
   "execution_count": 2,
   "metadata": {},
   "outputs": [],
   "source": [
    "# Parameters for the waveguide\n",
    "w = 0.3  # Si width (um)\n",
    "h = 0.25  # Si height (um)\n",
    "\n",
    "# Materials\n",
    "Si = mp.Medium(index=3.45)\n",
    "SiO2 = mp.Medium(index=1.45)\n",
    "\n",
    "sc_y = 2  # supercell width (um)\n",
    "sc_z = 2  # supercell height (um)\n",
    "resolution = 32  # pixels/um\n",
    "geometry_lattice = mp.Lattice(size=mp.Vector3(0, sc_y, sc_z))\n",
    "\n",
    "# define the 2d blocks for the strip and substrate\n",
    "geometry = [mp.Block(size=mp.Vector3(mp.inf, mp.inf, 0.5 * (sc_z - h)),\n",
    "                     center=mp.Vector3(z=0.25 * (sc_z + h)), material=SiO2),\n",
    "            mp.Block(size=mp.Vector3(mp.inf, w, h), material=Si)]\n",
    "\n",
    "# The k (i.e. beta, i.e. propagation constant) points to look at, in\n",
    "# units of 2*pi/um.  We'll look at num_k points from k_min to k_max.\n",
    "num_k = 30\n",
    "k_min = 0.1\n",
    "k_max = 3.0\n",
    "k_points = mp.interpolate(num_k, [mp.Vector3(k_min), mp.Vector3(k_max)])\n",
    "\n",
    "# Increase this to see more modes.  (The guided ones are the ones below the\n",
    "# light line, i.e. those with frequencies < kmag / 1.45, where kmag\n",
    "# is the corresponding column in the output if you grep for \"freqs:\".)\n",
    "num_bands = 4\n",
    "\n",
    "# ModeSolver object\n",
    "ms = mpb.ModeSolver(\n",
    "    geometry_lattice=geometry_lattice,\n",
    "    geometry=geometry,\n",
    "    # Add new things pertaining to simulation\n",
    "    k_points=k_points,\n",
    "    resolution=resolution,\n",
    "    num_bands=num_bands,\n",
    "    filename_prefix='strip_wvg_fields_'\n",
    "    )"
   ]
  },
  {
   "cell_type": "markdown",
   "metadata": {},
   "source": [
    "We know how the bands look like, so let's now look at the modes at a given frequency, say $1.55\\mu$m. We can proceed inversely : `ms.run()` computes $\\omega(k)$, while `ms.find_k` computes $k(\\omega)$. Here, we will also pass a mpb.output function to the `run()` function, which will output h5 files. This is useful when what is being output is not a single number like before."
   ]
  },
  {
   "cell_type": "code",
   "execution_count": 3,
   "metadata": {},
   "outputs": [
    {
     "name": "stdout",
     "output_type": "stream",
     "text": [
      "Initializing eigensolver data\n",
      "Computing 1 bands with 1e-07 tolerance\n",
      "Working in 3 dimensions.\n",
      "Grid size is 1 x 64 x 64.\n",
      "Solving for 1 bands at a time.\n",
      "Creating Maxwell data...\n",
      "Mesh size is 3.\n",
      "Lattice vectors:\n",
      "     (1, 0, 0)\n",
      "     (0, 2, 0)\n",
      "     (0, 0, 2)\n",
      "Cell volume = 4\n",
      "Reciprocal lattice vectors (/ 2 pi):\n",
      "     (1, -0, 0)\n",
      "     (-0, 0.5, -0)\n",
      "     (0, -0, 0.5)\n",
      "Geometric objects:\n",
      "     block, center = (0,0,0.5625)\n",
      "          size (1e+20,1e+20,0.875)\n",
      "          axes (1,0,0), (0,1,0), (0,0,1)\n",
      "     block, center = (0,0,0)\n",
      "          size (1e+20,0.3,0.25)\n",
      "          axes (1,0,0), (0,1,0), (0,0,1)\n",
      "Geometric object tree has depth 2 and 8 object nodes (vs. 2 actual objects)\n",
      "Initializing epsilon function...\n",
      "Allocating fields...\n",
      "Solving for band polarization: .\n",
      "Initializing fields to random numbers...\n",
      "1 k-points\n",
      "  Vector3<2.2258064516129035, 0.0, 0.0>\n",
      "elapsed time for initialization: 0.03737592697143555\n",
      "solve_kpoint (2.22581,0,0):\n",
      "Solving for bands 1 to 1...\n",
      "Finished solving for bands 1 to 1 after 26 iterations.\n",
      "freqs:, 1, 2.22581, 0, 0, 2.22581, 0.897189\n",
      "elapsed time for k point: 0.06545186042785645\n",
      "total elapsed time for run: 0.10305619239807129\n",
      "done\n",
      "find-k 1 at 2.2258064516129035: 0.25202739626455095\n",
      "Initializing eigensolver data\n",
      "Computing 1 bands with 1e-07 tolerance\n",
      "Working in 3 dimensions.\n",
      "Grid size is 1 x 64 x 64.\n",
      "Solving for 1 bands at a time.\n",
      "Creating Maxwell data...\n",
      "Mesh size is 3.\n",
      "Lattice vectors:\n",
      "     (1, 0, 0)\n",
      "     (0, 2, 0)\n",
      "     (0, 0, 2)\n",
      "Cell volume = 4\n",
      "Reciprocal lattice vectors (/ 2 pi):\n",
      "     (1, -0, 0)\n",
      "     (-0, 0.5, -0)\n",
      "     (0, -0, 0.5)\n",
      "Geometric objects:\n",
      "     block, center = (0,0,0.5625)\n",
      "          size (1e+20,1e+20,0.875)\n",
      "          axes (1,0,0), (0,1,0), (0,0,1)\n",
      "     block, center = (0,0,0)\n",
      "          size (1e+20,0.3,0.25)\n",
      "          axes (1,0,0), (0,1,0), (0,0,1)\n",
      "Geometric object tree has depth 2 and 8 object nodes (vs. 2 actual objects)\n",
      "Initializing epsilon function...\n",
      "Solving for band polarization: .\n",
      "1 k-points\n",
      "  Vector3<1.1208787877518265, 0.0, 0.0>\n",
      "elapsed time for initialization: 0.03221273422241211\n",
      "solve_kpoint (1.12088,0,0):\n",
      "Solving for bands 1 to 1...\n",
      "Finished solving for bands 1 to 1 after 10 iterations.\n",
      "freqs:, 1, 1.12088, 0, 0, 1.12088, 0.663439\n",
      "elapsed time for k point: 0.028414487838745117\n",
      "total elapsed time for run: 0.06072545051574707\n",
      "done\n",
      "find-k 1 at 1.1208787877518265: 0.018277279358564602\n",
      "Initializing eigensolver data\n",
      "Computing 1 bands with 1e-07 tolerance\n",
      "Working in 3 dimensions.\n",
      "Grid size is 1 x 64 x 64.\n",
      "Solving for 1 bands at a time.\n",
      "Creating Maxwell data...\n",
      "Mesh size is 3.\n",
      "Lattice vectors:\n",
      "     (1, 0, 0)\n",
      "     (0, 2, 0)\n",
      "     (0, 0, 2)\n",
      "Cell volume = 4\n",
      "Reciprocal lattice vectors (/ 2 pi):\n",
      "     (1, -0, 0)\n",
      "     (-0, 0.5, -0)\n",
      "     (0, -0, 0.5)\n",
      "Geometric objects:\n",
      "     block, center = (0,0,0.5625)\n",
      "          size (1e+20,1e+20,0.875)\n",
      "          axes (1,0,0), (0,1,0), (0,0,1)\n",
      "     block, center = (0,0,0)\n",
      "          size (1e+20,0.3,0.25)\n",
      "          axes (1,0,0), (0,1,0), (0,0,1)\n",
      "Geometric object tree has depth 2 and 8 object nodes (vs. 2 actual objects)\n",
      "Initializing epsilon function...\n",
      "Solving for band polarization: .\n",
      "1 k-points\n",
      "  Vector3<1.0333483424188465, 0.0, 0.0>\n",
      "elapsed time for initialization: 0.01987433433532715\n",
      "solve_kpoint (1.03335,0,0):\n",
      "Solving for bands 1 to 1...\n",
      "Finished solving for bands 1 to 1 after 9 iterations.\n",
      "freqs:, 1, 1.03335, 0, 0, 1.03335, 0.644604\n",
      "elapsed time for k point: 0.02614903450012207\n",
      "total elapsed time for run: 0.0461115837097168\n",
      "done\n",
      "find-k 1 at 1.0333483424188465: -0.0005576730601923874\n",
      "Initializing eigensolver data\n",
      "Computing 1 bands with 1e-07 tolerance\n",
      "Working in 3 dimensions.\n",
      "Grid size is 1 x 64 x 64.\n",
      "Solving for 1 bands at a time.\n",
      "Creating Maxwell data...\n",
      "Mesh size is 3.\n",
      "Lattice vectors:\n",
      "     (1, 0, 0)\n",
      "     (0, 2, 0)\n",
      "     (0, 0, 2)\n",
      "Cell volume = 4\n",
      "Reciprocal lattice vectors (/ 2 pi):\n",
      "     (1, -0, 0)\n",
      "     (-0, 0.5, -0)\n",
      "     (0, -0, 0.5)\n",
      "Geometric objects:\n",
      "     block, center = (0,0,0.5625)\n",
      "          size (1e+20,1e+20,0.875)\n",
      "          axes (1,0,0), (0,1,0), (0,0,1)\n",
      "     block, center = (0,0,0)\n",
      "          size (1e+20,0.3,0.25)\n",
      "          axes (1,0,0), (0,1,0), (0,0,1)\n",
      "Geometric object tree has depth 2 and 8 object nodes (vs. 2 actual objects)\n",
      "Initializing epsilon function...\n",
      "Solving for band polarization: .\n",
      "1 k-points\n",
      "  Vector3<1.0358415246035255, 0.0, 0.0>\n",
      "elapsed time for initialization: 0.028229713439941406\n",
      "solve_kpoint (1.03584,0,0):\n",
      "Solving for bands 1 to 1...\n",
      "Finished solving for bands 1 to 1 after 4 iterations.\n",
      "freqs:, 1, 1.03584, 0, 0, 1.03584, 0.645161\n",
      "elapsed time for k point: 0.01794576644897461\n",
      "total elapsed time for run: 0.04626154899597168\n",
      "done\n",
      "find-k 1 at 1.0358415246035255: -7.761715165033323e-07\n",
      "Initializing eigensolver data\n",
      "Computing 1 bands with 1e-07 tolerance\n",
      "Working in 3 dimensions.\n",
      "Grid size is 1 x 64 x 64.\n",
      "Solving for 1 bands at a time.\n",
      "Creating Maxwell data...\n",
      "Mesh size is 3.\n",
      "Lattice vectors:\n",
      "     (1, 0, 0)\n",
      "     (0, 2, 0)\n",
      "     (0, 0, 2)\n",
      "Cell volume = 4\n",
      "Reciprocal lattice vectors (/ 2 pi):\n",
      "     (1, -0, 0)\n",
      "     (-0, 0.5, -0)\n",
      "     (0, -0, 0.5)\n",
      "Geometric objects:\n",
      "     block, center = (0,0,0.5625)\n",
      "          size (1e+20,1e+20,0.875)\n",
      "          axes (1,0,0), (0,1,0), (0,0,1)\n",
      "     block, center = (0,0,0)\n",
      "          size (1e+20,0.3,0.25)\n",
      "          axes (1,0,0), (0,1,0), (0,0,1)\n",
      "Geometric object tree has depth 2 and 8 object nodes (vs. 2 actual objects)\n",
      "Initializing epsilon function...\n",
      "Solving for band polarization: .\n",
      "1 k-points\n",
      "  Vector3<1.0358450042121645, 0.0, 0.0>\n",
      "elapsed time for initialization: 0.019337892532348633\n",
      "solve_kpoint (1.03585,0,0):\n",
      "Solving for bands 1 to 1...\n",
      "Finished solving for bands 1 to 1 after 1 iterations.\n",
      "freqs:, 1, 1.03585, 0, 0, 1.03585, 0.645161\n",
      "elapsed time for k point: 0.01607823371887207\n",
      "total elapsed time for run: 0.035500288009643555\n",
      "done\n",
      "find-k 1 at 1.0358450042121645: -4.066686210002501e-09\n",
      "Initializing eigensolver data\n",
      "Computing 1 bands with 1e-07 tolerance\n",
      "Working in 3 dimensions.\n",
      "Grid size is 1 x 64 x 64.\n",
      "Solving for 1 bands at a time.\n",
      "Creating Maxwell data...\n",
      "Mesh size is 3.\n",
      "Lattice vectors:\n",
      "     (1, 0, 0)\n",
      "     (0, 2, 0)\n",
      "     (0, 0, 2)\n",
      "Cell volume = 4\n",
      "Reciprocal lattice vectors (/ 2 pi):\n",
      "     (1, -0, 0)\n",
      "     (-0, 0.5, -0)\n",
      "     (0, -0, 0.5)\n",
      "Geometric objects:\n",
      "     block, center = (0,0,0.5625)\n",
      "          size (1e+20,1e+20,0.875)\n",
      "          axes (1,0,0), (0,1,0), (0,0,1)\n",
      "     block, center = (0,0,0)\n",
      "          size (1e+20,0.3,0.25)\n",
      "          axes (1,0,0), (0,1,0), (0,0,1)\n",
      "Geometric object tree has depth 2 and 8 object nodes (vs. 2 actual objects)\n",
      "Initializing epsilon function...\n",
      "Solving for band polarization: .\n",
      "1 k-points\n",
      "  Vector3<1.0358450224436377, 0.0, 0.0>\n",
      "elapsed time for initialization: 0.029801368713378906\n",
      "solve_kpoint (1.03585,0,0):\n",
      "Solving for bands 1 to 1...\n",
      "Finished solving for bands 1 to 1 after 1 iterations.\n",
      "freqs:, 1, 1.03585, 0, 0, 1.03585, 0.645161\n",
      "elapsed time for k point: 0.005605220794677734\n",
      "Outputting fields to strip_wvg_fields_-flux.v.k01.b01.x.h5...\n",
      "total elapsed time for run: 0.25034308433532715\n",
      "done\n",
      "kvals:, 0.6451612903225806, 1, 1, 0.0, 0.0, 0.0, 1.0, 0.0, 0.0, 1.0358450224436377\n"
     ]
    },
    {
     "data": {
      "text/plain": [
       "[1.0358450224436377]"
      ]
     },
     "execution_count": 3,
     "metadata": {},
     "output_type": "execute_result"
    }
   ],
   "source": [
    "f_mode = 1/1.55   # frequency corresponding to 1.55 um                                                                                                             \n",
    "band_min = 1\n",
    "band_max = 1 # Look at the two lowest modes\n",
    "kdir = mp.Vector3(1)\n",
    "tol = 1e-6\n",
    "kmag_guess = f_mode*3.45\n",
    "kmag_min = f_mode*0.1\n",
    "kmag_max = f_mode*4.0\n",
    "\n",
    "ms.find_k(mp.NO_PARITY, f_mode, band_min, band_max, kdir, tol, kmag_guess,\n",
    "          kmag_min, kmag_max, mpb.output_poynting_x)"
   ]
  },
  {
   "cell_type": "markdown",
   "metadata": {},
   "source": [
    "## Reading the fields\n",
    "\n",
    "http://docs.h5py.org/en/stable/quick.html"
   ]
  },
  {
   "cell_type": "code",
   "execution_count": 4,
   "metadata": {},
   "outputs": [],
   "source": [
    "import h5py\n",
    "f = h5py.File('strip_wvg_fields_-flux.v.k01.b01.x.h5', 'r')"
   ]
  },
  {
   "cell_type": "code",
   "execution_count": 5,
   "metadata": {},
   "outputs": [
    {
     "data": {
      "text/plain": [
       "['Bloch wavevector', 'description', 'lattice vectors', 'x.i', 'x.r']"
      ]
     },
     "execution_count": 5,
     "metadata": {},
     "output_type": "execute_result"
    }
   ],
   "source": [
    "list(f.keys())"
   ]
  },
  {
   "cell_type": "code",
   "execution_count": 78,
   "metadata": {},
   "outputs": [
    {
     "data": {
      "text/plain": [
       "b'v field, kpoint 1, band 1, freq=0.645161'"
      ]
     },
     "execution_count": 78,
     "metadata": {},
     "output_type": "execute_result"
    }
   ],
   "source": [
    "f['description'][()]"
   ]
  },
  {
   "cell_type": "code",
   "execution_count": 79,
   "metadata": {},
   "outputs": [
    {
     "data": {
      "text/plain": [
       "(64, 64)"
      ]
     },
     "execution_count": 79,
     "metadata": {},
     "output_type": "execute_result"
    }
   ],
   "source": [
    "f['x.r'].shape"
   ]
  },
  {
   "cell_type": "code",
   "execution_count": 6,
   "metadata": {},
   "outputs": [],
   "source": [
    "field1 = np.power(f['x.r'], 2) + np.power(f['x.i'], 2)"
   ]
  },
  {
   "cell_type": "code",
   "execution_count": 9,
   "metadata": {},
   "outputs": [
    {
     "name": "stdout",
     "output_type": "stream",
     "text": [
      "epsilon: 1-11.9025, mean 1.68727, harm. mean 1.33783, 47.4609% > 1, 6.30378% \"fill\"\n"
     ]
    },
    {
     "data": {
      "image/png": "[encoded data removed]",
      "text/plain": [
       "<Figure size 432x288 with 2 Axes>"
      ]
     },
     "metadata": {
      "needs_background": "light"
     },
     "output_type": "display_data"
    }
   ],
   "source": [
    "n = np.sqrt(ms.get_epsilon())\n",
    "\n",
    "fig, ax = plt.subplots(figsize=(6, 4))\n",
    "\n",
    "pos = ax.imshow(field1, cmap='RdBu', interpolation='spline36', alpha=0.9)\n",
    "ax.contour(n.T, [1,1.45,3.45], colors='k')\n",
    "cbar = fig.colorbar(pos, ax=ax)\n",
    "cbar.set_label('$|H_z|^2$')\n",
    "ax.set_xlabel('y')\n",
    "ax.set_ylabel('z')\n",
    "plt.show()"
   ]
  },
  {
   "cell_type": "code",
   "execution_count": null,
   "metadata": {},
   "outputs": [],
   "source": []
  }
 ],
 "metadata": {
  "kernelspec": {
   "display_name": "PyMeep",
   "language": "python",
   "name": "pymeep"
  },
  "language_info": {
   "codemirror_mode": {
    "name": "ipython",
    "version": 3
   },
   "file_extension": ".py",
   "mimetype": "text/x-python",
   "name": "python",
   "nbconvert_exporter": "python",
   "pygments_lexer": "ipython3",
   "version": "3.7.6"
  }
 },
 "nbformat": 4,
 "nbformat_minor": 4
}
