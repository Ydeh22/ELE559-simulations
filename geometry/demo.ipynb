{
 "cells": [
  {
   "cell_type": "code",
   "execution_count": 1,
   "metadata": {},
   "outputs": [],
   "source": [
    "import pya\n",
    "\n",
    "from modified_ebeam_pdk import TECHLAYERS\n",
    "from zeropdk.layout import (\n",
    "    layout_box,\n",
    "    layout_waveguide,\n",
    "    layout_rectangle,\n",
    ")"
   ]
  },
  {
   "cell_type": "markdown",
   "metadata": {},
   "source": [
    "First, we will create a mask with our layout tools :"
   ]
  },
  {
   "cell_type": "code",
   "execution_count": 2,
   "metadata": {},
   "outputs": [
    {
     "name": "stdout",
     "output_type": "stream",
     "text": [
      "Wrote to demo_output.gds\n"
     ]
    }
   ],
   "source": [
    "layout = pya.Layout()\n",
    "dbu = layout.dbu = 0.001\n",
    "TOP = layout.create_cell(\"TOP\")\n",
    "\n",
    "origin = pya.DPoint(0, 0)\n",
    "ex = pya.DVector(1, 0)\n",
    "ey = pya.DVector(0, 1)\n",
    "\n",
    "# Parameters\n",
    "dy = 1\n",
    "dy_pp = 1\n",
    "dx = 1\n",
    "rib_width = 0.5\n",
    "slab_width = 2*(dy + dy_pp)\n",
    "\n",
    "# Layout waveguide\n",
    "layout_waveguide(TOP, layout.layer(TECHLAYERS[\"Si\"]), [-dx/2*ex, dx/2*ex], rib_width)\n",
    "layout_waveguide(TOP, layout.layer(TECHLAYERS[\"Si slab\"]), [-dx/2*ex, dx/2*ex], slab_width)\n",
    "\n",
    "# Layout doping\n",
    "layout_box(TOP, layout.layer(TECHLAYERS[\"Si N\"]), -dx/2*ex, dx/2*ex + (dy + dy_pp)*ey, ex)\n",
    "layout_box(TOP, layout.layer(TECHLAYERS[\"Si P\"]), -dx/2*ex,  dx/2*ex - (dy + dy_pp)*ey, ex)\n",
    "\n",
    "# Layout doped contacts\n",
    "layout_box(TOP, layout.layer(TECHLAYERS[\"Si N++\"]), -dx/2*ex + dy*ey, dx/2*ex + (dy + dy_pp)*ey, ex)\n",
    "layout_box(TOP, layout.layer(TECHLAYERS[\"Si P++\"]), -dx/2*ex - dy*ey, dx/2*ex - (dy + dy_pp)*ey, ex)\n",
    "\n",
    "# Layout vias (boundary conditions for simulation)\n",
    "layout_box(TOP, layout.layer(TECHLAYERS[\"VC\"]), -dx/2*ex + (dy + dy_pp - 0.5)*ey, dx/2*ex + (dy + dy_pp)*ey, ex)\n",
    "layout_box(TOP, layout.layer(TECHLAYERS[\"VC\"]), -dx/2*ex - (dy + dy_pp - 0.5)*ey, dx/2*ex - (dy + dy_pp)*ey, ex)\n",
    "\n",
    "# Cross-section simulation layer\n",
    "sim_padding = 1\n",
    "layout_rectangle(TOP, layout.layer(TECHLAYERS[\"sim_crossSection\"]), 0*ex, 0.01, slab_width + sim_padding, ex)\n",
    "\n",
    "print(\"Wrote to demo_output.gds\")\n",
    "layout.write(\"demo_output.gds\")"
   ]
  },
  {
   "cell_type": "markdown",
   "metadata": {},
   "source": [
    "You can use the Desktop app on Adroit to look at your geometry :\n",
    "\n"
   ]
  },
  {
   "cell_type": "markdown",
   "metadata": {},
   "source": [
    "In our technology files (modified_eveam_pdk.py which references a .lyp file), we have added arguments to the layers. Three types are defined, and each have associated parameters :\n",
    "\n",
    "* Si (zmin, zmax) : the silicon layers, and their respective extension outside of the layout plane.\n",
    "* doping (dopinglevel) : layers that dope the silicon and their level, respectively. Positive doping means P-type, and negative doping N-type.\n",
    "* contact : vias connect the silicon to routing metals layers, and are used as boundary condition contacts in electrical simulations.\n",
    "\n",
    "We can use the utility [libGDSII](https://github.com/HomerReid/libGDSII) to convert the mask we just made to a mesh for charge simulations"
   ]
  },
  {
   "cell_type": "code",
   "execution_count": 4,
   "metadata": {},
   "outputs": [
    {
     "name": "stdout",
     "output_type": "stream",
     "text": [
      "Detecting metallization structures on layer   1: ... 1 polygons on layer 1\n",
      "Detecting metallization structures on layer   2: ... 1 polygons on layer 2\n",
      "Detecting metallization structures on layer  20: ... 1 polygons on layer 20\n",
      "Detecting metallization structures on layer  22: ... 1 polygons on layer 22\n",
      "Detecting metallization structures on layer  24: ... 1 polygons on layer 24\n",
      "Detecting metallization structures on layer  26: ... 1 polygons on layer 26\n",
      "Detecting metallization structures on layer  40: ... 2 polygons on layer 40\n",
      "Detecting metallization structures on layer 1000: ... 1 polygons on layer 1000\n",
      "Wrote 9 metallization polygons to demo_output.geo.\n",
      "Thank you for your support.\n"
     ]
    }
   ],
   "source": [
    "!/home/ELE559/libGDSII_install/bin/GDSIIConvert --GMSH demo_output.gds"
   ]
  },
  {
   "cell_type": "code",
   "execution_count": null,
   "metadata": {},
   "outputs": [],
   "source": []
  }
 ],
 "metadata": {
  "hide_input": false,
  "kernelspec": {
   "display_name": "all_tools [~/home/ELE559/anaconda3/envs/all_tools/]",
   "language": "python",
   "name": "conda_all_tools"
  },
  "language_info": {
   "codemirror_mode": {
    "name": "ipython",
    "version": 3
   },
   "file_extension": ".py",
   "mimetype": "text/x-python",
   "name": "python",
   "nbconvert_exporter": "python",
   "pygments_lexer": "ipython3",
   "version": "3.7.6"
  }
 },
 "nbformat": 4,
 "nbformat_minor": 4
}
