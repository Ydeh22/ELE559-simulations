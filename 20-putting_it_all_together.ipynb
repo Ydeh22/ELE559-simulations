{
 "cells": [
  {
   "cell_type": "markdown",
   "metadata": {},
   "source": [
    "# Putting it all together : photonic systems"
   ]
  },
  {
   "cell_type": "markdown",
   "metadata": {},
   "source": [
    "In this notebook, we will :\n",
    "\n",
    "    1) Use zeropdk to create GDS geometries;\n",
    "    2) Use parallel MEEP to visualize them and efficiently simulate their S-parameters to obtain compact models;\n",
    "    3) Network many of these components together to overall circuit behaviour with Photontorch\n",
    "    \n",
    "In particular, we will simulate a multiring filter. Because FDTD simulations of resonant structures take a long time, we will model the rings as networks of bends :\n",
    "\n",
    "!['multirings'](images/multirings.png)\n",
    "\n",
    "Also, we will take very tight rings (bend radius of a few microns), which will require us to actually model the bends instead of simply using a \"straight\" waveguide for the rings."
   ]
  },
  {
   "cell_type": "markdown",
   "metadata": {},
   "source": [
    "# Defining geometries\n",
    "\n",
    "From the block diagram, there are three topologies we will need to model :\n",
    "\n",
    "    1) Quarter ring bends (2-port network)\n",
    "    2) Straight-bend coupling (4-port network)\n",
    "    3) Bend-bend coupling (4-port network)\n",
    "    \n",
    "The straight waveguides will simply be modeled as lossless phase accumulation.\n",
    "\n",
    "## Layer definition\n",
    "\n",
    "I define some layers :"
   ]
  },
  {
   "cell_type": "code",
   "execution_count": 1,
   "metadata": {},
   "outputs": [],
   "source": [
    "import pya\n",
    "import numpy as np\n",
    "\n",
    "COMP_CELL = pya.LayerInfo(0, 0)\n",
    "Si = pya.LayerInfo(1, 0)\n",
    "MEEP_SOURCE1 = pya.LayerInfo(10, 0)\n",
    "MEEP_SOURCE2 = pya.LayerInfo(11, 0)\n",
    "MEEP_PORT1 = pya.LayerInfo(20, 0)\n",
    "MEEP_PORT2 = pya.LayerInfo(21, 0)\n",
    "MEEP_PORT3 = pya.LayerInfo(22, 0)\n",
    "MEEP_PORT4 = pya.LayerInfo(23, 0)"
   ]
  },
  {
   "cell_type": "markdown",
   "metadata": {},
   "source": [
    "## Quarter ring bends\n",
    "\n",
    "### Definition"
   ]
  },
  {
   "cell_type": "code",
   "execution_count": 2,
   "metadata": {},
   "outputs": [],
   "source": [
    "ring_radius = 5 # um\n",
    "ring_width = 0.5 # um"
   ]
  },
  {
   "cell_type": "code",
   "execution_count": 3,
   "metadata": {},
   "outputs": [],
   "source": [
    "from zeropdk.layout import layout_arc, layout_waveguide, layout_path, layout_box\n",
    "\n",
    "layout = pya.Layout()\n",
    "layout.dbu = 0.001\n",
    "TOP = layout.create_cell(\"TOP\")\n",
    "\n",
    "ex = pya.DVector(1, 0)\n",
    "ey = pya.DVector(0, 1)\n",
    "\n",
    "# draw simulation region\n",
    "layout_box(TOP, COMP_CELL, - 0.5*ring_radius*ex - 1.5*ring_radius*ey, 1.5*ring_radius*ex + 0.5*ring_radius*ey, ex)\n",
    "\n",
    "# draw bend\n",
    "layout_arc(TOP, Si, - ring_radius*ey, ring_radius, ring_width, 0, np.pi/2)\n",
    "\n",
    "# Extend the bend to avoid discontinuities\n",
    "layout_waveguide(TOP, Si, [0*ex, - 0.5*ring_radius*ex], ring_width)\n",
    "layout_waveguide(TOP, Si, [-1*ring_radius*ey + ring_radius*ex, -1.5*ring_radius*ey + ring_radius*ex], ring_width)\n",
    "\n",
    "# Add the ports as 0-width paths\n",
    "port_size = ring_width*4\n",
    "layout_path(TOP, MEEP_SOURCE1, [-port_size/2*ey - 0.2*ex, port_size/2*ey - 0.2*ex], 0)\n",
    "layout_path(TOP, MEEP_PORT1, [-port_size/2*ey, port_size/2*ey], 0)\n",
    "layout_path(TOP, MEEP_PORT2, [-1*ring_radius*ey + ring_radius*ex - port_size/2*ex , -1*ring_radius*ey + ring_radius*ex + port_size/2*ex], 0)\n",
    "\n",
    "layout.write('bend_zeropdk.gds')\n",
    "del layout, TOP"
   ]
  },
  {
   "cell_type": "markdown",
   "metadata": {},
   "source": [
    "### Visualization and simulation\n",
    "\n",
    "You can download the GDSII file from the cluster (see Files in MyAdroit dashboard) to see it with your local Klayout. Otherwise, let's get simulating :"
   ]
  },
  {
   "cell_type": "code",
   "execution_count": 4,
   "metadata": {},
   "outputs": [
    {
     "name": "stdout",
     "output_type": "stream",
     "text": [
      "Using MPI version 3.1, 1 processes\n"
     ]
    }
   ],
   "source": [
    "# Import meep and mpb (from meep)\n",
    "import meep as mp\n",
    "from meep import mpb\n",
    "\n",
    "# arrays\n",
    "import numpy as np\n",
    "\n",
    "# plotting\n",
    "import matplotlib.pyplot as plt"
   ]
  },
  {
   "cell_type": "code",
   "execution_count": 5,
   "metadata": {},
   "outputs": [],
   "source": [
    "res = 32        # pixels/μm\n",
    "\n",
    "gdsII_file = 'bend_zeropdk.gds'\n",
    "CELL_LAYER = 0\n",
    "SOURCE_LAYER = 10\n",
    "Si_LAYER = 1\n",
    "PORT1_LAYER = 20\n",
    "PORT2_LAYER = 21\n",
    "\n",
    "t_oxide = 1.0\n",
    "t_Si = 0.22\n",
    "t_SiO2 = 0.78\n",
    "\n",
    "dpml = 1\n",
    "cell_thickness = dpml+t_oxide+t_Si+t_SiO2+dpml\n",
    "si_zmin = 0\n",
    "\n",
    "oxide = mp.Medium(epsilon=2.25)\n",
    "silicon=mp.Medium(epsilon=12)\n",
    "\n",
    "lcen = 1.55\n",
    "fcen = 1/lcen\n",
    "df = 0.2*fcen\n",
    "\n",
    "cell_zmax =  0\n",
    "cell_zmin =  0\n",
    "si_zmax = 0\n",
    "\n",
    "# read cell size, volumes for source region and flux monitors,\n",
    "# and coupler geometry from GDSII file\n",
    "si_layer = mp.get_GDSII_prisms(silicon, gdsII_file, Si_LAYER, si_zmin, si_zmax)\n",
    "\n",
    "cell = mp.GDSII_vol(gdsII_file, CELL_LAYER, cell_zmin, cell_zmax)\n",
    "src_vol = mp.GDSII_vol(gdsII_file, SOURCE_LAYER, si_zmin, si_zmax)\n",
    "p1 = mp.GDSII_vol(gdsII_file, 20, si_zmin, si_zmax)\n",
    "p2 = mp.GDSII_vol(gdsII_file, 21, si_zmin, si_zmax)"
   ]
  },
  {
   "cell_type": "code",
   "execution_count": 48,
   "metadata": {},
   "outputs": [],
   "source": [
    "def unpack_geometry(geometry, wavelength=1.55, indices = [0,0]):\n",
    "    \"\"\"\n",
    "    returns a 3D numpy array of permittivities vs position for plotting\n",
    "    Args:\n",
    "        geometry : a MEEP geometry object\n",
    "        wavelength : the wavelength at which to report permittivity (in microns)\n",
    "        indices : the indices of the permittivity tensor to report\n",
    "    \"\"\"\n",
    "    # Read the geometry object\n",
    "    V = []\n",
    "    if isinstance(geometry, list):\n",
    "        for element in geometry:\n",
    "            eps = element.material.epsilon(wavelength)[indices[0],indices[1]]\n",
    "            for vertex in element.vertices:\n",
    "                V.append([[vertex.x, vertex.y, vertex.z], eps])\n",
    "    else:\n",
    "        eps = geometry.material.epsilon(wavelength)[indices[0],indices[1]]\n",
    "        for vertex in geometry.vertices:\n",
    "            V.append([[vertex.x, vertex.y, vertex.z], eps])\n",
    "                \n",
    "    return V"
   ]
  },
  {
   "cell_type": "code",
   "execution_count": 6,
   "metadata": {},
   "outputs": [
    {
     "name": "stdout",
     "output_type": "stream",
     "text": [
      "-----------\n",
      "Initializing structure...\n",
      "time for choose_chunkdivision = 0.000216961 s\n",
      "Working in 2D dimensions.\n",
      "Computational cell is 10 x 10 x 0 with resolution 32\n",
      "     prism, center = (3.16414,-1.83585,0)\n",
      "          height 0, axis (0,0,1), 132 vertices:\n",
      "          (4.75,-5,0)\n",
      "          (4.749,-4.883,0)\n",
      "          (4.744,-4.767,0)\n",
      "          (4.737,-4.651,0)\n",
      "          (4.727,-4.534,0)\n",
      "          (4.714,-4.419,0)\n",
      "          (4.699,-4.303,0)\n",
      "          (4.68,-4.188,0)\n",
      "          (4.659,-4.073,0)\n",
      "          (4.635,-3.959,0)\n",
      "          (4.608,-3.846,0)\n",
      "          (4.578,-3.733,0)\n",
      "          (4.545,-3.621,0)\n",
      "          (4.51,-3.51,0)\n",
      "          (4.472,-3.4,0)\n",
      "          (4.432,-3.291,0)\n",
      "          (4.388,-3.182,0)\n",
      "          (4.342,-3.075,0)\n",
      "          (4.294,-2.969,0)\n",
      "          (4.243,-2.864,0)\n",
      "          (4.189,-2.761,0)\n",
      "          (4.133,-2.659,0)\n",
      "          (4.074,-2.558,0)\n",
      "          (4.013,-2.459,0)\n",
      "          (3.949,-2.361,0)\n",
      "          (3.884,-2.265,0)\n",
      "          (3.815,-2.17,0)\n",
      "          (3.745,-2.078,0)\n",
      "          (3.672,-1.987,0)\n",
      "          (3.597,-1.897,0)\n",
      "          (3.52,-1.81,0)\n",
      "          (3.44,-1.725,0)\n",
      "          (3.359,-1.641,0)\n",
      "          (3.275,-1.56,0)\n",
      "          (3.19,-1.48,0)\n",
      "          (3.103,-1.403,0)\n",
      "          (3.013,-1.328,0)\n",
      "          (2.922,-1.255,0)\n",
      "          (2.83,-1.185,0)\n",
      "          (2.735,-1.116,0)\n",
      "          (2.639,-1.051,0)\n",
      "          (2.541,-0.987,0)\n",
      "          (2.442,-0.926,0)\n",
      "          (2.341,-0.867,0)\n",
      "          (2.239,-0.811,0)\n",
      "          (2.136,-0.757,0)\n",
      "          (2.031,-0.706,0)\n",
      "          (1.925,-0.658,0)\n",
      "          (1.818,-0.612,0)\n",
      "          (1.709,-0.568,0)\n",
      "          (1.6,-0.528,0)\n",
      "          (1.49,-0.49,0)\n",
      "          (1.379,-0.455,0)\n",
      "          (1.267,-0.422,0)\n",
      "          (1.154,-0.392,0)\n",
      "          (1.041,-0.365,0)\n",
      "          (0.927,-0.341,0)\n",
      "          (0.812,-0.32,0)\n",
      "          (0.697,-0.301,0)\n",
      "          (0.581,-0.286,0)\n",
      "          (0.466,-0.273,0)\n",
      "          (0.349,-0.263,0)\n",
      "          (0.233,-0.256,0)\n",
      "          (0.117,-0.251,0)\n",
      "          (-0.003,-0.25,0)\n",
      "          (0,0.25,0)\n",
      "          (0.004,0.25,0)\n",
      "          (0.129,0.248,0)\n",
      "          (0.258,0.244,0)\n",
      "          (0.386,0.236,0)\n",
      "          (0.515,0.225,0)\n",
      "          (0.643,0.21,0)\n",
      "          (0.77,0.193,0)\n",
      "          (0.898,0.173,0)\n",
      "          (1.024,0.149,0)\n",
      "          (1.15,0.122,0)\n",
      "          (1.276,0.093,0)\n",
      "          (1.4,0.06,0)\n",
      "          (1.524,0.024,0)\n",
      "          (1.647,-0.015,0)\n",
      "          (1.769,-0.057,0)\n",
      "          (1.889,-0.102,0)\n",
      "          (2.009,-0.15,0)\n",
      "          (2.128,-0.2,0)\n",
      "          (2.245,-0.254,0)\n",
      "          (2.36,-0.311,0)\n",
      "          (2.475,-0.37,0)\n",
      "          (2.588,-0.432,0)\n",
      "          (2.699,-0.497,0)\n",
      "          (2.809,-0.565,0)\n",
      "          (2.917,-0.635,0)\n",
      "          (3.023,-0.708,0)\n",
      "          (3.127,-0.783,0)\n",
      "          (3.23,-0.861,0)\n",
      "          (3.331,-0.942,0)\n",
      "          (3.429,-1.025,0)\n",
      "          (3.526,-1.11,0)\n",
      "          (3.62,-1.198,0)\n",
      "          (3.712,-1.288,0)\n",
      "          (3.802,-1.38,0)\n",
      "          (3.89,-1.474,0)\n",
      "          (3.975,-1.571,0)\n",
      "          (4.058,-1.669,0)\n",
      "          (4.139,-1.77,0)\n",
      "          (4.217,-1.873,0)\n",
      "          (4.292,-1.977,0)\n",
      "          (4.365,-2.083,0)\n",
      "          (4.435,-2.191,0)\n",
      "          (4.503,-2.301,0)\n",
      "          (4.568,-2.412,0)\n",
      "          (4.63,-2.525,0)\n",
      "          (4.689,-2.64,0)\n",
      "          (4.746,-2.755,0)\n",
      "          (4.8,-2.872,0)\n",
      "          (4.85,-2.991,0)\n",
      "          (4.898,-3.111,0)\n",
      "          (4.943,-3.231,0)\n",
      "          (4.985,-3.353,0)\n",
      "          (5.024,-3.476,0)\n",
      "          (5.06,-3.6,0)\n",
      "          (5.093,-3.724,0)\n",
      "          (5.122,-3.85,0)\n",
      "          (5.149,-3.976,0)\n",
      "          (5.173,-4.102,0)\n",
      "          (5.193,-4.23,0)\n",
      "          (5.21,-4.357,0)\n",
      "          (5.225,-4.485,0)\n",
      "          (5.236,-4.614,0)\n",
      "          (5.244,-4.742,0)\n",
      "          (5.248,-4.871,0)\n",
      "          (5.25,-4.998,0)\n",
      "          (5.25,-5,0)\n",
      "          dielectric constant epsilon diagonal = (12,12,12)\n",
      "     prism, center = (-1.25,0,0)\n",
      "          height 0, axis (0,0,1), 4 vertices:\n",
      "          (-2.5,-0.25,0)\n",
      "          (-2.5,0.25,0)\n",
      "          (0,0.25,0)\n",
      "          (0,-0.25,0)\n",
      "          dielectric constant epsilon diagonal = (12,12,12)\n",
      "     prism, center = (5,-6.25,0)\n",
      "          height 0, axis (0,0,1), 4 vertices:\n",
      "          (4.75,-7.5,0)\n",
      "          (4.75,-5,0)\n",
      "          (5.25,-5,0)\n",
      "          (5.25,-7.5,0)\n",
      "          dielectric constant epsilon diagonal = (12,12,12)\n",
      "time for set_epsilon = 0.598859 s\n",
      "-----------\n",
      "MPB solved for omega_1(2.2349,0,0) = 0.689209 after 11 iters\n",
      "MPB solved for omega_1(2.07879,0,0) = 0.645516 after 8 iters\n",
      "MPB solved for omega_1(2.07752,0,0) = 0.645161 after 4 iters\n",
      "MPB solved for omega_1(2.07752,0,0) = 0.645161 after 1 iters\n"
     ]
    }
   ],
   "source": [
    "geometry = si_layer\n",
    "\n",
    "sources = [mp.EigenModeSource(src=mp.GaussianSource(fcen,fwidth=df),\n",
    "                              size=src_vol.size,\n",
    "                              center=src_vol.center,\n",
    "                              eig_band=1,\n",
    "                              eig_parity=mp.EVEN_Y+mp.ODD_Z,\n",
    "                              eig_match_freq=True)]\n",
    "\n",
    "# Display simulation object\n",
    "sim = mp.Simulation(resolution=res,\n",
    "                    eps_averaging=False,\n",
    "                    subpixel_maxeval=1,\n",
    "                    subpixel_tol=1,\n",
    "                    cell_size=cell.size,\n",
    "                    boundary_layers=[mp.PML(dpml)],\n",
    "                    sources=sources,\n",
    "                    geometry=geometry,\n",
    "                    geometry_center=mp.Vector3(ring_radius/2, -ring_radius/2))\n",
    "\n",
    "mode1 = sim.add_mode_monitor(fcen, 0, 1, mp.ModeRegion(volume=p1))\n",
    "mode2 = sim.add_mode_monitor(fcen, 0, 1, mp.ModeRegion(volume=p2))\n",
    "\n",
    "sim.init_sim()"
   ]
  },
  {
   "cell_type": "code",
   "execution_count": 7,
   "metadata": {},
   "outputs": [
    {
     "data": {
      "image/png": "[encoded data removed]",
      "text/plain": [
       "<Figure size 600x400 with 1 Axes>"
      ]
     },
     "metadata": {
      "needs_background": "light"
     },
     "output_type": "display_data"
    }
   ],
   "source": [
    "f = plt.figure(dpi=100)\n",
    "sim.plot2D(ax=f.gca())\n",
    "plt.show()"
   ]
  },
  {
   "cell_type": "code",
   "execution_count": 8,
   "metadata": {},
   "outputs": [
    {
     "name": "stdout",
     "output_type": "stream",
     "text": [
      "Meep progress: 99.828125/177.5 = 56.2% done in 4.0s, 3.1s to go\n",
      "on time step 6389 (time=99.8281), 0.000626183 s/step\n",
      "run 0 finished at t = 177.5 (11360 timesteps)\n"
     ]
    }
   ],
   "source": [
    "sim.run(until_after_sources=100)  # We run with a different option, only for some delay after sources are off"
   ]
  },
  {
   "cell_type": "code",
   "execution_count": null,
   "metadata": {},
   "outputs": [],
   "source": []
  }
 ],
 "metadata": {
  "kernelspec": {
   "display_name": "all_tools [~/home/ELE559/anaconda3/envs/all_tools/]",
   "language": "python",
   "name": "conda_all_tools"
  },
  "language_info": {
   "codemirror_mode": {
    "name": "ipython",
    "version": 3
   },
   "file_extension": ".py",
   "mimetype": "text/x-python",
   "name": "python",
   "nbconvert_exporter": "python",
   "pygments_lexer": "ipython3",
   "version": "3.7.6"
  }
 },
 "nbformat": 4,
 "nbformat_minor": 4
}
