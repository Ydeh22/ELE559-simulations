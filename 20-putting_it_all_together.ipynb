{
 "cells": [
  {
   "cell_type": "markdown",
   "metadata": {},
   "source": [
    "# Putting it all together : photonic systems"
   ]
  },
  {
   "cell_type": "markdown",
   "metadata": {},
   "source": [
    "In this notebook, we will :\n",
    "\n",
    "    1) Use zeropdk to create GDS geometries;\n",
    "    2) Use parallel MEEP to visualize them and efficiently simulate their S-parameters to obtain compact models;\n",
    "    3) Network many of these components together to overall circuit behaviour with Photontorch\n",
    "    \n",
    "In particular, we will simulate a multiring filter. Because FDTD simulations of resonant structures take a long time, we will model the rings as networks of bends :"
   ]
  },
  {
   "cell_type": "markdown",
   "metadata": {},
   "source": [
    "# Defining geometries"
   ]
  },
  {
   "cell_type": "code",
   "execution_count": null,
   "metadata": {},
   "outputs": [],
   "source": []
  }
 ],
 "metadata": {
  "kernelspec": {
   "display_name": "all_tools [~/home/ELE559/anaconda3/envs/all_tools/]",
   "language": "python",
   "name": "conda_all_tools"
  },
  "language_info": {
   "codemirror_mode": {
    "name": "ipython",
    "version": 3
   },
   "file_extension": ".py",
   "mimetype": "text/x-python",
   "name": "python",
   "nbconvert_exporter": "python",
   "pygments_lexer": "ipython3",
   "version": "3.7.6"
  }
 },
 "nbformat": 4,
 "nbformat_minor": 4
}
