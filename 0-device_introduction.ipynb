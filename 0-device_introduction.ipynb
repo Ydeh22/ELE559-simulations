{
 "cells": [
  {
   "cell_type": "markdown",
   "metadata": {
    "slideshow": {
     "slide_type": "slide"
    }
   },
   "source": [
    "# Simulations in nanophotonics\n",
    "\n",
    "Why simulate?\n",
    "\n",
    "* Maxwell equations practically exact\n",
    "* Material properties well-known\n",
    "* Length scale not too small\n",
    "* Very mature\n",
    "* Many high-quality black-box softwares\n",
    "* Computer = pre-laboratory. Get effective index, mode profile, transmission, etc. before taping out\n"
   ]
  },
  {
   "cell_type": "markdown",
   "metadata": {
    "slideshow": {
     "slide_type": "slide"
    }
   },
   "source": [
    "# Maxwell's Equations\n",
    "\n",
    "$$ \\nabla \\cdot D = \\rho_f $$\n",
    "$$ \\nabla \\cdot B = 0 $$\n",
    "$$ \\nabla \\times E = -\\frac{\\partial B}{\\partial t} $$\n",
    "$$ \\nabla \\times H = J_f + \\frac{\\partial E}{\\partial t} $$\n",
    "\n",
    "[Taking curl of curls and substituting the divergence equations, we get the wave equations](https://en.wikipedia.org/wiki/Inhomogeneous_electromagnetic_wave_equation) :\n",
    "\n",
    "$$ \\frac{1}{c^2}\\frac{\\partial^2 E}{\\partial t^2} - \\nabla^2 E = -\\left( \\frac{1}{\\epsilon_0}\\nabla\\rho + \\mu_0\\frac{\\partial J}{\\partial t} \\right) $$\n",
    "$$ \\frac{1}{c^2}\\frac{\\partial^2 B}{\\partial t^2} - \\nabla^2 B = \\mu_0\\nabla \\times J $$"
   ]
  },
  {
   "cell_type": "markdown",
   "metadata": {
    "slideshow": {
     "slide_type": "subslide"
    }
   },
   "source": [
    "# How do you solve this?\n",
    "<!---\n",
    "![maxwell](images/solvers.png)\n",
    "\n",
    "Photonic Crystals Molding the Flow of Light - Second Edition John D. Joannopoulos, Steven G. Johnson, Joshua N. Winn & Robert D. Meade\n",
    "\n",
    "<img src=\"images/FDTD.png\" width=\"20%\">\n",
    "https://en.wikipedia.org/wiki/Finite-difference_time-domain_method\n",
    "-->\n",
    "Two main ways we will consider :\n",
    "\n",
    "1. **Time domain** : We can fully solve these equations on some spatial domain by time-stepping. A popular way of doing so is with Finite-Difference Time Domain (FDTD) simulations.  It is a very general method, but time stepping can be prohibitive for structures with sharp spectral features (= broad in time, so long simulation) and for small spatial features which require small time steps (see [Courant stability condition](https://en.wikipedia.org/wiki/Courant%E2%80%93Friedrichs%E2%80%93Lewy_condition)). The two curl equations can be conveniently leapfrogged on a \"[Yee grid](https://en.wikipedia.org/wiki/Finite-difference_time-domain_method)\" of alternating E, B cells on alternate time steps :\n",
    "\n",
    "Know $E$, get rule for updating $B \\rightarrow \\nabla \\times E = -\\frac{\\partial B}{\\partial t} $\n",
    "\n",
    "Know $B$, get rule for updating $E \\rightarrow \\nabla \\times H = J_f + \\frac{\\partial E}{\\partial t} $\n",
    "\n",
    "<img src=\"images/FDTD.png\" width=\"30%\">\n"
   ]
  },
  {
   "cell_type": "markdown",
   "metadata": {},
   "source": [
    "# How do you solve this?\n",
    "\n",
    "Two main ways we will consider :\n",
    "\n",
    "2. **Frequency domain** : We can instead exploit time-translation symmetry to posit \n",
    "\n",
    "$$E(x,y,z,t) = e^{i\\omega t}E(x,y,z) \\text{ and } J(x,y,z,t) = e^{i\\omega t}J(x,y,z) $$\n",
    "\n",
    "Substituting this in the wave equation above, we obtain in the frequency domain a linear algebra problem :\n",
    "\n",
    "E&M\n",
    "$$ \\left[ (\\nabla \\times \\nabla) - \\frac{\\omega^2}{c^2}\\epsilon(x,y,z) \\right] E_\\omega(x,y,z) = i\\omega\\mu_0 J_\\omega(x,y,z) $$\n",
    "Linear algebra $$Ax = b$$\n",
    "\n",
    "If the structure has furthermore some sort of symmetry along some direction, we can use this process again. For instance, for a single unchanging direction (and in this case, no source term i.e. a waveguide) :\n",
    "\n",
    "$$ H(x,y,z,t) = e^{-i(k x - \\omega t)}H_{k,\\omega}(y,z) $$\n",
    "\n",
    "Substituting in the wave equation, this turns into an eigenvalue problem :\n",
    "\n",
    "E&M\n",
    "$$ \\left[ (ik + \\nabla) \\times \\frac{1}{\\epsilon(y,z)}(ik + \\nabla)\\times \\right] H_{k,\\omega}(y,z) = \\frac{\\omega(k)^2}{c^2} H_{k,\\omega}(y,z) $$\n",
    "Linear algebra\n",
    "$$Ax = \\lambda x$$\n",
    "\n",
    "This generalizes to when more than one direction has continuous or discrete symmetry, see e.g. photonic crystals. Powerful numerical linear algebra and numerical computing methods have been developed to tackle these problems, which vary in how the matrices A and vectors x are represented numerically (finite differences, finite elements, spectral decomposition, etc.) and how boundaries are handled.\n",
    "\n",
    "For more reading : Appendix D of Photonic Crystals Molding the Flow of Light - Second Edition John D. Joannopoulos, Steven G. Johnson, Joshua N. Winn & Robert D. Meade"
   ]
  },
  {
   "cell_type": "markdown",
   "metadata": {
    "slideshow": {
     "slide_type": "slide"
    }
   },
   "source": [
    "# What are your options?\n",
    "\n",
    "## Commercial\n",
    "\n",
    "Some I've used, but there are a lot more :\n",
    "[Lumerical](https://www.lumerical.com/), [Synopsys](https://www.synopsys.com/photonic-solutions.html), [PhotonDesign](https://www.photond.com/products.htm). These may be easier to use in a \"production\" environment, and have more support.\n",
    "\n",
    "## Why open-source (MEEP/MPB)?\n",
    "\n",
    "* Free!\n",
    "* Flexible. Good for research.\n",
    "* Transparent. Good for teaching.\n",
    "* Widely-used\n",
    "\n",
    "<img src=\"images/MEEP.PNG\" width=\"40%\">\n",
    "\n",
    "<img src=\"images/MPB.PNG\" width=\"40%\">"
   ]
  },
  {
   "cell_type": "markdown",
   "metadata": {
    "slideshow": {
     "slide_type": "slide"
    }
   },
   "source": [
    " # MEEP and MPB today\n",
    "\n",
    "MEEP and MPB are UNIX-based tools, and have both a Python and Scheme interfaces.\n",
    "\n",
    "* **MEEP : MIT Electromagnetic Equation Propagation**\n",
    "    * \"A time-domain electromagnetic simulation simply evolves Maxwell's equations over time within some finite computational volume, essentially performing a kind of numerical experiment. This can be used to calculate a wide variety of useful quantities. Major applications include:\n",
    "        * Transmittance and Reflectance Spectra — by Fourier-transforming the response to a short pulse, a single simulation can yield the scattering amplitudes over a broadband spectrum.\n",
    "        * Resonant Modes and Frequencies — by analyzing the response of the system to a short pulse, one can extract the frequencies, decay rates, and field patterns of the harmonic modes of lossy and lossless systems including waveguide and cavity modes.\n",
    "        * Field Patterns (e.g. Green's functions) — in response to an arbitrary source via a continuous-wave (CW) input (fixed-ω).\"\n",
    "    \n",
    "    Meep's scriptable interface makes it possible to combine many sorts of computations along with multi-parameter optimization in sequence or in parallel.\" [2]\n",
    "    * Simulates the time evolution of Maxwell's equation in arbitrary (anisotropic, nonlinear, and dispersive electric and magnetic) media, in domains with symmetrical or absorptive (perfectly matched layer) boundary conditions, and in cartesian or cylindrical coordinates.\n",
    "    \n",
    "\n",
    "* **MPB : MIT Periodic Bands**\n",
    "    * \"MPB computes definite-frequency eigenstates, or harmonic modes, of Maxwell's equations in periodic dielectric structures for arbitrary wavevectors, using fully-vectorial and three-dimensional methods. It is applicable to many problems in optics, such as waveguides and resonator systems, and photonic crystals. [1]\n",
    "    * Solves the frequency-domain Maxwell eigenproblem in a planewave basis with periodic boundary conditions"
   ]
  },
  {
   "cell_type": "markdown",
   "metadata": {},
   "source": [
    "# Units in MEEP/MPB\n",
    "\n",
    "Maxwell's Equations are scale-invariant. Therefore, objects in MEEP/MPB are defined in arbitrary units of length \"$a$\", and so are the returned results. See the [docs](https://mpb.readthedocs.io/en/latest/Scheme_Tutorial/#a-few-words-on-units). The following table explicitely shows the conversion (see [this repo](https://github.com/abulnaga1/MPB_Simulations)) :\n",
    "\n",
    "| MEEP/MPB Output | Conversion to Real Units               |\n",
    "|----------|-------------------------|\n",
    "| &omega;<sub>MEEP/MPB</sub>  | &omega; = (2 &pi; c / a ) &omega;<sub>MEEP/MPB</sub> |\n",
    "| k<sub>MEEP/MPB</sub>        | k = (2 &pi; c / a) k<sub>MEEP/MPB</sub>          |\n",
    "| &lambda;<sub>MEEP/MPB</sub> | &lambda; = a / &omega;<sub>MEEP/MPB</sub>             |"
   ]
  },
  {
   "cell_type": "markdown",
   "metadata": {
    "slideshow": {
     "slide_type": "subslide"
    }
   },
   "source": [
    "# Introduction to the Python interface\n",
    "\n",
    "Mostly follow Python syntax for objects, functions, etc.\n",
    "\n",
    "![maxwell](images/python.PNG)\n",
    "\n",
    "Image from https://www.w3schools.com/python/python_classes.asp\n",
    "\n",
    "**MPB** : [ModeSolver class](https://mpb.readthedocs.io/en/latest/Python_User_Interface/#the-modesolver-class)\n",
    "\n",
    "**MEEP** : [Simulation class](https://meep.readthedocs.io/en/latest/Python_User_Interface/#the-simulation-class)\n",
    "\n",
    "\n",
    "### Neat Notebook tricks\n",
    "\n",
    "* Call terminal : !my_commands\n",
    "* Autocomplete/suggest : press tab\n",
    "* Cell magics : %%capture to suppress or capture output, etc."
   ]
  },
  {
   "cell_type": "markdown",
   "metadata": {
    "slideshow": {
     "slide_type": "slide"
    }
   },
   "source": [
    "# References\n",
    "\n",
    "Most of the following is extracted from the Python User Interface and Tutorial pages of :\n",
    "\n",
    "1. https://mpb.readthedocs.io/en/latest/\n",
    "2. https://meep.readthedocs.io/en/latest/\n",
    "\n",
    "The source code (thanks open-source!) itself and examples from the maintainers are also a good source of information :\n",
    "\n",
    "3. https://github.com/NanoComp/meep\n",
    "4. http://www.simpetus.com/projects.html"
   ]
  }
 ],
 "metadata": {
  "kernelspec": {
   "display_name": "mp [~/home/ELE559/anaconda3/envs/mp/]",
   "language": "python",
   "name": "conda_mp"
  },
  "language_info": {
   "codemirror_mode": {
    "name": "ipython",
    "version": 3
   },
   "file_extension": ".py",
   "mimetype": "text/x-python",
   "name": "python",
   "nbconvert_exporter": "python",
   "pygments_lexer": "ipython3",
   "version": "3.7.6"
  }
 },
 "nbformat": 4,
 "nbformat_minor": 4
}
