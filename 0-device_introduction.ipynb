{
 "cells": [
  {
   "cell_type": "markdown",
   "metadata": {
    "slideshow": {
     "slide_type": "slide"
    }
   },
   "source": [
    "# Simulations in nanophotonics\n",
    "\n",
    "Why simulate?\n",
    "\n",
    "* Maxwell equations practically exact\n",
    "* Material properties well-known\n",
    "* Length scale not too small\n",
    "* Very mature\n",
    "* Many high-quality black-box softwares\n",
    "* Computer = pre-laboratory. Get effective index, mode profile, transmission, etc.\n"
   ]
  },
  {
   "cell_type": "markdown",
   "metadata": {
    "slideshow": {
     "slide_type": "slide"
    }
   },
   "source": [
    "# Maxwell's Equations\n",
    "\n",
    "$$ \\nabla \\cdot D = \\rho_f $$\n",
    "$$ \\nabla \\cdot B = 0 $$\n",
    "$$ \\nabla \\times E = -\\frac{\\partial B}{\\partial t} $$\n",
    "$$ \\nabla \\times H = J_f + \\frac{\\partial E}{\\partial t} $$\n",
    "\n",
    "Taking curl of curls and substituting the divergence equations, we get the wave equations :\n",
    "\n",
    "$$ \\frac{1}{c^2}\\frac{\\partial^2 E}{\\partial t^2} - \\nabla^2 E = -\\left( \\frac{1}{\\epsilon_0}\\nabla\\rho + \\mu_0\\frac{\\partial J}{\\partial t} \\right) $$\n",
    "$$ \\frac{1}{c^2}\\frac{\\partial^2 B}{\\partial t^2} - \\nabla^2 B = \\mu_0\\nabla \\times J $$"
   ]
  },
  {
   "cell_type": "markdown",
   "metadata": {
    "slideshow": {
     "slide_type": "subslide"
    }
   },
   "source": [
    "# How do you solve this?\n",
    "<!---\n",
    "![maxwell](images/solvers.png)\n",
    "\n",
    "Photonic Crystals Molding the Flow of Light - Second Edition John D. Joannopoulos, Steven G. Johnson, Joshua N. Winn & Robert D. Meade\n",
    "\n",
    "<img src=\"images/FDTD.png\" width=\"20%\">\n",
    "https://en.wikipedia.org/wiki/Finite-difference_time-domain_method\n",
    "-->\n",
    "Two main ways we will consider. We can fully solve these equations on some spatial domain by time-stepping : a popular way of doing so is with Finite-Difference Time Domain (FDTD) simulations. \n",
    "\n",
    "Otherwise, we can exploit time-translation symmetry to posit $E(x,y,z,t) = e^{i\\omega t}E(x,y,z)$ and $J(x,y,z,t) = e^{i\\omega t}J(x,y,z)$ to obtain a linear algebra problem $Ax = b$ :\n",
    "\n",
    "![maxwell](images/maxwell_source.png)\n",
    "\n",
    "If the structure has furthermore some sort of symmetry along some direction, we can use this process again. For instance, for a single unchanging direction and no source term (a waveguide) :\n",
    "\n",
    "$$ H(x,y,z,t) = e^{-i(k x - \\omega t)}u_k(y,z) $$\n",
    "\n",
    "Looking above, this turns into an eigenproblem $Ax = \\lambda x$ :\n",
    "\n",
    "![maxwell](images/maxwell.png)\n",
    "\n",
    "This generalizes to when more than one direction has some sort of symmetry in the form of photonic crystals. Powerful numerical linear algebra and numerical computing methods have been developed to tackle these problems, with minor differences on how the matrices A and vectors x are represented numerically (finite differences, finite elements, spectral decomposition, etc.).\n",
    "\n",
    "Source : Photonic Crystals Molding the Flow of Light - Second Edition John D. Joannopoulos, Steven G. Johnson, Joshua N. Winn & Robert D. Meade"
   ]
  },
  {
   "cell_type": "markdown",
   "metadata": {
    "slideshow": {
     "slide_type": "slide"
    }
   },
   "source": [
    "# What are your options?\n",
    "\n",
    "## Commercial\n",
    "\n",
    "Some I've used, but there are a lot more :\n",
    "[Lumerical](https://www.lumerical.com/), [Synopsys](https://www.synopsys.com/photonic-solutions.html), [PhotonDesign](https://www.photond.com/products.htm). These may be easier to use in a \"production\" environment, and have more support.\n",
    "\n",
    "## Why open-source (MEEP/MPB)?\n",
    "\n",
    "* Free!\n",
    "* Flexible. Good for research.\n",
    "* Transparent. Good for teaching.\n",
    "* Widely-used\n",
    "\n",
    "<img src=\"images/MEEP.png\" width=\"40%\">\n",
    "\n",
    "<img src=\"images/MPB.PNG\" width=\"40%\">"
   ]
  },
  {
   "cell_type": "markdown",
   "metadata": {
    "slideshow": {
     "slide_type": "slide"
    }
   },
   "source": [
    " # What is PyMEEP?\n",
    "\n",
    "It is the Python wrapper to MEEP and MPB. These tools can also be used from a Scheme interface. \n",
    "\n",
    "* **MPB : MIT Periodic Bands**\n",
    "    * \"MPB computes definite-frequency eigenstates, or harmonic modes, of Maxwell's equations in periodic dielectric structures for arbitrary wavevectors, using fully-vectorial and three-dimensional methods. It is applicable to many problems in optics, such as waveguides and resonator systems, and photonic crystals. [1]\n",
    "    \n",
    "\n",
    "* **MEEP : MIT Electromagnetic Equation Propagation**\n",
    "    * \"A time-domain electromagnetic simulation simply evolves Maxwell's equations over time within some finite computational volume, essentially performing a kind of numerical experiment. This can be used to calculate a wide variety of useful quantities. Major applications include:\n",
    "        * Transmittance and Reflectance Spectra — by Fourier-transforming the response to a short pulse, a single simulation can yield the scattering amplitudes over a broadband spectrum.\n",
    "        * Resonant Modes and Frequencies — by analyzing the response of the system to a short pulse, one can extract the frequencies, decay rates, and field patterns of the harmonic modes of lossy and lossless systems including waveguide and cavity modes.\n",
    "        * Field Patterns (e.g. Green's functions) — in response to an arbitrary source via a continuous-wave (CW) input (fixed-ω).\"\n",
    "    \n",
    "    Meep's scriptable interface makes it possible to combine many sorts of computations along with multi-parameter optimization in sequence or in parallel.\" [2]\n"
   ]
  },
  {
   "cell_type": "markdown",
   "metadata": {},
   "source": [
    "# Units in PyMeep\n",
    "\n",
    "Maxwell's Equations are scale-invariant. Therefore, objects in PyMeep are defined in arbitrary units of length \"$a$\", and so are the returned results. See the [docs](https://mpb.readthedocs.io/en/latest/Scheme_Tutorial/#a-few-words-on-units). The following table explicitely shows the conversion (see [this repo](https://github.com/abulnaga1/MPB_Simulations)) :\n",
    "\n",
    "| MPB Output | Conversion to Real Units               |\n",
    "|----------|-------------------------|\n",
    "| &omega;<sub>mpb</sub>  | &omega; = (2 &pi; c / a ) &omega;<sub>mpb</sub> |\n",
    "| k<sub>mpb</sub>        | k = (2 &pi; c / a) k<sub>mpb</sub>          |\n",
    "| &lambda;<sub>mpb</sub> | &lambda; = a / &omega;<sub>mpb</sub>             |"
   ]
  },
  {
   "cell_type": "markdown",
   "metadata": {
    "slideshow": {
     "slide_type": "subslide"
    }
   },
   "source": [
    "# Introduction to the Python interface\n",
    "\n",
    "Mostly follow Python syntax for objects, functions, etc.\n",
    "\n",
    "![maxwell](images/python.PNG)\n",
    "\n",
    "Image rom https://www.w3schools.com/python/python_classes.asp\n",
    "\n",
    "**MPB** : [ModeSolver class](https://mpb.readthedocs.io/en/latest/Python_User_Interface/#the-modesolver-class)\n",
    "\n",
    "**MEEP** : [Simulation class](https://meep.readthedocs.io/en/latest/Python_User_Interface/#the-simulation-class)\n",
    "\n",
    "\n",
    "### Neat Notebook tricks\n",
    "\n",
    "* Call terminal : !my_commands\n",
    "* Autocomplete/suggest : press tab\n",
    "* Cell magics : %%capture to suppress or capture output, etc."
   ]
  },
  {
   "cell_type": "markdown",
   "metadata": {
    "slideshow": {
     "slide_type": "slide"
    }
   },
   "source": [
    "# References\n",
    "\n",
    "Most of the following is extracted from the Python User Interface and Tutorial pages of :\n",
    "\n",
    "1. https://mpb.readthedocs.io/en/latest/\n",
    "2. https://meep.readthedocs.io/en/latest/\n",
    "\n",
    "The source code (thanks open-source!) itself and examples are also a good source of information :\n",
    "\n",
    "3. https://github.com/NanoComp/meep\n",
    "4. http://www.simpetus.com/projects.html"
   ]
  }
 ],
 "metadata": {
  "kernelspec": {
   "display_name": "mp [~/home/ELE559/anaconda3/envs/mp/]",
   "language": "python",
   "name": "conda_mp"
  },
  "language_info": {
   "codemirror_mode": {
    "name": "ipython",
    "version": 3
   },
   "file_extension": ".py",
   "mimetype": "text/x-python",
   "name": "python",
   "nbconvert_exporter": "python",
   "pygments_lexer": "ipython3",
   "version": "3.7.6"
  }
 },
 "nbformat": 4,
 "nbformat_minor": 4
}
