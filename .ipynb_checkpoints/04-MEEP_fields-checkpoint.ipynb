{
 "cells": [
  {
   "cell_type": "markdown",
   "metadata": {},
   "source": [
    "# MEEP simulations\n",
    "\n",
    "We will look again at a waveguide, but in the time-domain. This will introduce concepts important when doing time-domain simulations."
   ]
  },
  {
   "cell_type": "code",
   "execution_count": 1,
   "metadata": {},
   "outputs": [
    {
     "name": "stdout",
     "output_type": "stream",
     "text": [
      "Using MPI version 3.1, 1 processes\n"
     ]
    }
   ],
   "source": [
    "import meep as mp\n",
    "import numpy as np\n",
    "import matplotlib.pyplot as plt\n",
    "from IPython.display import Video"
   ]
  },
  {
   "cell_type": "markdown",
   "metadata": {},
   "source": [
    "Simple geometry as before :"
   ]
  },
  {
   "cell_type": "code",
   "execution_count": 2,
   "metadata": {},
   "outputs": [],
   "source": [
    "resolution = 50 # pixels/μm\n",
    "cell_size = mp.Vector3(14,14)\n",
    "\n",
    "w = 0.5 # width of waveguide\n",
    "\n",
    "geometry = [mp.Block(center=mp.Vector3(),\n",
    "                     size=mp.Vector3(mp.inf,w,mp.inf),\n",
    "                     material=mp.Medium(epsilon=12))]"
   ]
  },
  {
   "cell_type": "markdown",
   "metadata": {},
   "source": [
    "An important difference from MPB is that we would like to avoid periodic boundary conditions. To do so, we can introduce [perfectly-matched layers](https://en.wikipedia.org/wiki/Perfectly_matched_layer) around the simulation region, see also https://meep.readthedocs.io/en/latest/Perfectly_Matched_Layer/.\n",
    "\n",
    "!['PML'](images/PML.png)"
   ]
  },
  {
   "cell_type": "code",
   "execution_count": 3,
   "metadata": {},
   "outputs": [],
   "source": [
    "pml_layers = [mp.PML(thickness=2)]"
   ]
  },
  {
   "cell_type": "markdown",
   "metadata": {},
   "source": [
    "In the time-domain, we now need to define a way to excite the electromagnetic fields in the system. The most reliable way to do so is with en eigensource (see https://meep.readthedocs.io/en/latest/Python_Tutorials/Eigenmode_Source/). The EigenModeSource object has a location and direction, and during the initialization of the simulation will solve for the requested mode profile with MPB in order to only provide an input for this mode.\n",
    "\n",
    "By sending a time-limited input, multiple frequency components can be represented in the same simulation. Here, we use a Gaussian source (Gaussian time pulse) :"
   ]
  },
  {
   "cell_type": "code",
   "execution_count": 4,
   "metadata": {},
   "outputs": [],
   "source": [
    "fsrc = 0.15 # frequency of eigenmode or constant-amplitude source\n",
    "kx = 0.4    # initial guess for wavevector in x-direction of eigenmode\n",
    "bnum = 1    # band number of eigenmode\n",
    "\n",
    "kpoint = mp.Vector3(kx)\n",
    "\n",
    "sources = [mp.EigenModeSource(src=mp.GaussianSource(fsrc,fwidth=0.2*fsrc),\n",
    "                              center=mp.Vector3(),\n",
    "                              size=mp.Vector3(y=3*w),\n",
    "                              direction=mp.NO_DIRECTION,\n",
    "                              eig_kpoint=kpoint,\n",
    "                              eig_band=bnum,\n",
    "                              #eig_parity=mp.EVEN_Y+mp.ODD_Z,\n",
    "                              eig_match_freq=True)]"
   ]
  },
  {
   "cell_type": "markdown",
   "metadata": {},
   "source": [
    "Defining the simulation object is similar to ModeSolver :"
   ]
  },
  {
   "cell_type": "code",
   "execution_count": 5,
   "metadata": {},
   "outputs": [],
   "source": [
    "sim = mp.Simulation(cell_size=cell_size,\n",
    "                    resolution=resolution,\n",
    "                    boundary_layers=pml_layers,\n",
    "                    sources=sources,\n",
    "                    geometry=geometry,\n",
    "                    symmetries=[mp.Mirror(mp.Y)])"
   ]
  },
  {
   "cell_type": "code",
   "execution_count": 6,
   "metadata": {},
   "outputs": [
    {
     "name": "stdout",
     "output_type": "stream",
     "text": [
      "-----------\n",
      "Initializing structure...\n",
      "Halving computational cell along direction y\n",
      "time for choose_chunkdivision = 0.00280809 s\n",
      "Working in 2D dimensions.\n",
      "Computational cell is 14 x 14 x 0 with resolution 50\n",
      "     block, center = (0,0,0)\n",
      "          size (1e+20,0.5,1e+20)\n",
      "          axes (1,0,0), (0,1,0), (0,0,1)\n",
      "          dielectric constant epsilon diagonal = (12,12,12)\n",
      "time for set_epsilon = 0.322351 s\n",
      "-----------\n",
      "MPB solved for omega_1(0.4,0,0) = 0.165058 after 17 iters\n",
      "MPB solved for omega_1(0.355637,0,0) = 0.149677 after 7 iters\n",
      "MPB solved for omega_1(0.356547,0,0) = 0.15 after 5 iters\n",
      "MPB solved for omega_1(0.356547,0,0) = 0.15 after 2 iters\n"
     ]
    },
    {
     "data": {
      "image/png": "[encoded data removed]",
      "text/plain": [
       "<Figure size 600x400 with 1 Axes>"
      ]
     },
     "metadata": {
      "needs_background": "light"
     },
     "output_type": "display_data"
    }
   ],
   "source": [
    "f = plt.figure(dpi=100)\n",
    "sim.plot2D(ax=f.gca())\n",
    "plt.show()"
   ]
  },
  {
   "cell_type": "markdown",
   "metadata": {},
   "source": [
    "The `run` method will run the simulation until the prescribed condition is met. See https://meep.readthedocs.io/en/latest/Python_User_Interface/#run-and-step-functions."
   ]
  },
  {
   "cell_type": "code",
   "execution_count": 8,
   "metadata": {},
   "outputs": [
    {
     "name": "stdout",
     "output_type": "stream",
     "text": [
      "on time step 5189 (time=51.89), 0.395668 s/step\n",
      "Meep progress: 14.130000610351559/151.88999938964844 = 9.3% done in 4.0s, 39.0s to go\n",
      "on time step 6603 (time=66.03), 0.00283052 s/step\n",
      "Meep progress: 28.15000061035157/151.88999938964844 = 18.5% done in 8.0s, 35.2s to go\n",
      "on time step 8005 (time=80.05), 0.00285594 s/step\n",
      "Meep progress: 42.34000061035157/151.88999938964844 = 27.9% done in 12.0s, 31.1s to go\n",
      "on time step 9425 (time=94.25), 0.00281769 s/step\n",
      "Meep progress: 56.60000061035157/151.88999938964844 = 37.3% done in 16.0s, 27.0s to go\n",
      "on time step 10851 (time=108.51), 0.00280629 s/step\n",
      "Meep progress: 70.39000061035156/151.88999938964844 = 46.3% done in 20.0s, 23.2s to go\n",
      "on time step 12230 (time=122.3), 0.00290218 s/step\n",
      "Meep progress: 84.14000061035156/151.88999938964844 = 55.4% done in 24.0s, 19.3s to go\n",
      "on time step 13606 (time=136.06), 0.00290873 s/step\n",
      "Meep progress: 97.82000061035157/151.88999938964844 = 64.4% done in 28.0s, 15.5s to go\n",
      "on time step 14974 (time=149.74), 0.00292401 s/step\n",
      "run 0 finished at t = 151.89000000000001 (15189 timesteps)\n"
     ]
    }
   ],
   "source": [
    "sim.run(until=100) # Run for some time"
   ]
  },
  {
   "cell_type": "markdown",
   "metadata": {},
   "source": [
    "Simple built-in plotting tools, see https://meep.readthedocs.io/en/latest/Python_User_Interface/#data-visualization :"
   ]
  },
  {
   "cell_type": "code",
   "execution_count": 9,
   "metadata": {},
   "outputs": [
    {
     "data": {
      "image/png": "[encoded data removed]",
      "text/plain": [
       "<Figure size 432x288 with 1 Axes>"
      ]
     },
     "metadata": {
      "needs_background": "light"
     },
     "output_type": "display_data"
    }
   ],
   "source": [
    "sim.plot2D(output_plane=mp.Volume(center=mp.Vector3(), size=mp.Vector3(10,10)),\n",
    "           fields=mp.Ez,\n",
    "           field_parameters={'alpha':0.9})\n",
    "plt.show()"
   ]
  },
  {
   "cell_type": "markdown",
   "metadata": {},
   "source": [
    "There are also options for video : https://meep.readthedocs.io/en/latest/Python_User_Interface/#Animate2D"
   ]
  },
  {
   "cell_type": "code",
   "execution_count": null,
   "metadata": {},
   "outputs": [
    {
     "name": "stdout",
     "output_type": "stream",
     "text": [
      "on time step 10000 (time=100), 0.0271263 s/step\n",
      "Meep progress: 8.570000000000007/383.3333435058594 = 2.2% done in 4.0s, 175.0s to go\n",
      "on time step 11454 (time=114.54), 0.0027522 s/step\n",
      "Meep progress: 21.120000000000005/383.3333435058594 = 5.5% done in 8.0s, 137.3s to go\n",
      "on time step 12608 (time=126.08), 0.00346756 s/step\n",
      "Meep progress: 32.59/383.3333435058594 = 8.5% done in 12.0s, 129.2s to go\n",
      "on time step 13712 (time=137.12), 0.00362363 s/step\n",
      "Meep progress: 41.49000000000001/383.3333435058594 = 10.8% done in 16.0s, 131.9s to go\n",
      "on time step 14560 (time=145.6), 0.00471735 s/step\n",
      "Meep progress: 50.0/383.3333435058594 = 13.0% done in 20.1s, 133.7s to go\n",
      "on time step 15413 (time=154.13), 0.00469381 s/step\n",
      "Meep progress: 58.66/383.3333435058594 = 15.3% done in 24.1s, 133.1s to go\n",
      "on time step 16238 (time=162.38), 0.00485107 s/step\n",
      "Meep progress: 66.0/383.3333435058594 = 17.2% done in 28.1s, 134.9s to go\n",
      "on time step 16933 (time=169.33), 0.00575809 s/step\n",
      "Meep progress: 73.0/383.3333435058594 = 19.0% done in 32.1s, 136.5s to go\n",
      "on time step 17638 (time=176.38), 0.00567839 s/step\n",
      "Meep progress: 80.1/383.3333435058594 = 20.9% done in 36.1s, 136.7s to go\n",
      "on time step 18346 (time=183.46), 0.00565033 s/step\n",
      "Meep progress: 87.13/383.3333435058594 = 22.7% done in 40.1s, 136.4s to go\n",
      "on time step 19045 (time=190.45), 0.00572479 s/step\n",
      "Meep progress: 94.18/383.3333435058594 = 24.6% done in 44.1s, 135.4s to go\n",
      "on time step 19751 (time=197.51), 0.00566743 s/step\n",
      "Meep progress: 101.18/383.3333435058594 = 26.4% done in 48.1s, 134.2s to go\n",
      "on time step 20449 (time=204.49), 0.00573362 s/step\n",
      "Meep progress: 108.14000000000001/383.3333435058594 = 28.2% done in 52.1s, 132.6s to go\n",
      "on time step 21148 (time=211.48), 0.00572551 s/step\n",
      "Meep progress: 115.13/383.3333435058594 = 30.0% done in 56.1s, 130.7s to go\n",
      "on time step 21849 (time=218.49), 0.00570647 s/step\n",
      "Meep progress: 122.09/383.3333435058594 = 31.8% done in 60.1s, 128.6s to go\n",
      "on time step 22580 (time=225.8), 0.00547394 s/step\n",
      "Meep progress: 130.3/383.3333435058594 = 34.0% done in 64.1s, 124.5s to go\n",
      "on time step 23441 (time=234.41), 0.0046478 s/step\n",
      "Meep progress: 138.91/383.3333435058594 = 36.2% done in 68.1s, 119.9s to go\n",
      "on time step 24300 (time=243), 0.00469944 s/step\n",
      "Meep progress: 147.41/383.3333435058594 = 38.5% done in 72.1s, 115.4s to go\n",
      "on time step 25157 (time=251.57), 0.00466816 s/step\n",
      "Meep progress: 155.96/383.3333435058594 = 40.7% done in 76.1s, 111.0s to go\n",
      "on time step 26005 (time=260.05), 0.0047182 s/step\n",
      "Meep progress: 164.51999999999998/383.3333435058594 = 42.9% done in 80.1s, 106.6s to go\n",
      "on time step 26872 (time=268.72), 0.00461631 s/step\n",
      "Meep progress: 173.04000000000002/383.3333435058594 = 45.1% done in 84.1s, 102.2s to go\n",
      "on time step 27729 (time=277.29), 0.00466919 s/step\n",
      "Meep progress: 181.72000000000003/383.3333435058594 = 47.4% done in 88.1s, 97.8s to go\n",
      "on time step 28589 (time=285.89), 0.0046518 s/step\n",
      "Meep progress: 190.16000000000003/383.3333435058594 = 49.6% done in 92.1s, 93.6s to go\n",
      "on time step 29443 (time=294.43), 0.00468762 s/step\n",
      "Meep progress: 198.81/383.3333435058594 = 51.9% done in 96.1s, 89.2s to go\n",
      "on time step 30301 (time=303.01), 0.00466322 s/step\n",
      "Meep progress: 207.45999999999998/383.3333435058594 = 54.1% done in 100.1s, 84.9s to go\n",
      "on time step 31178 (time=311.78), 0.0045613 s/step\n",
      "Meep progress: 216.16000000000003/383.3333435058594 = 56.4% done in 104.1s, 80.5s to go\n",
      "on time step 32034 (time=320.34), 0.0046772 s/step\n",
      "Meep progress: 224.45/383.3333435058594 = 58.6% done in 108.1s, 76.5s to go\n",
      "on time step 32847 (time=328.47), 0.00492605 s/step\n",
      "Meep progress: 232.49/383.3333435058594 = 60.6% done in 112.1s, 72.8s to go\n",
      "on time step 33678 (time=336.78), 0.00481778 s/step\n",
      "Meep progress: 241.16000000000003/383.3333435058594 = 62.9% done in 116.1s, 68.5s to go\n",
      "on time step 34571 (time=345.71), 0.00447949 s/step\n",
      "Meep progress: 249.97000000000003/383.3333435058594 = 65.2% done in 120.1s, 64.1s to go\n",
      "on time step 35400 (time=354), 0.00483187 s/step\n",
      "Meep progress: 258.12/383.3333435058594 = 67.3% done in 124.1s, 60.2s to go\n",
      "on time step 36213 (time=362.13), 0.0049226 s/step\n",
      "Meep progress: 266.38/383.3333435058594 = 69.5% done in 128.1s, 56.3s to go\n",
      "on time step 37077 (time=370.77), 0.00463249 s/step\n",
      "Meep progress: 275.0/383.3333435058594 = 71.7% done in 132.2s, 52.1s to go\n",
      "on time step 38002 (time=380.02), 0.00432686 s/step\n",
      "Normalizing field data...\n"
     ]
    }
   ],
   "source": [
    "f = plt.figure(dpi=100)\n",
    "animate = mp.Animate2D(sim,mp.Ez,f=f,normalize=True)\n",
    "sim.run(mp.at_every(1,animate),until_after_sources=50)\n",
    "plt.close()"
   ]
  },
  {
   "cell_type": "code",
   "execution_count": 9,
   "metadata": {},
   "outputs": [
    {
     "name": "stdout",
     "output_type": "stream",
     "text": [
      "Generating MP4...\n"
     ]
    },
    {
     "data": {
      "text/html": [
       "<video src=\"media/oblique-source-normal.mp4\" controls  >\n",
       "      Your browser does not support the <code>video</code> element.\n",
       "    </video>"
      ],
      "text/plain": [
       "<IPython.core.display.Video object>"
      ]
     },
     "execution_count": 9,
     "metadata": {},
     "output_type": "execute_result"
    }
   ],
   "source": [
    "filename = 'media/oblique-source-normal.mp4'\n",
    "animate.to_mp4(10,filename)\n",
    "Video(filename)"
   ]
  }
 ],
 "metadata": {
  "kernelspec": {
   "display_name": "all_tools [~/home/ELE559/anaconda3/envs/all_tools/]",
   "language": "python",
   "name": "conda_all_tools"
  },
  "language_info": {
   "codemirror_mode": {
    "name": "ipython",
    "version": 3
   },
   "file_extension": ".py",
   "mimetype": "text/x-python",
   "name": "python",
   "nbconvert_exporter": "python",
   "pygments_lexer": "ipython3",
   "version": "3.7.6"
  }
 },
 "nbformat": 4,
 "nbformat_minor": 4
}
