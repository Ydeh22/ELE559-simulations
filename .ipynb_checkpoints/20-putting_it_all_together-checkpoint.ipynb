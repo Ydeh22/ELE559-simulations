{
 "cells": [
  {
   "cell_type": "markdown",
   "metadata": {},
   "source": [
    "# Putting it all together : photonic systems"
   ]
  },
  {
   "cell_type": "markdown",
   "metadata": {},
   "source": [
    "In this notebook, we will :\n",
    "\n",
    "    1) Use zeropdk to create GDS geometries;\n",
    "    2) Use parallel MEEP to visualize them and efficiently simulate their S-parameters to obtain compact models;\n",
    "    3) Network many of these components together to overall circuit behaviour with Photontorch\n",
    "    \n",
    "In particular, we will simulate a multiring filter. Because FDTD simulations of resonant structures take a long time, we will model the rings as networks of bends :\n",
    "\n",
    "!['multirings'](images/multirings.png)\n",
    "\n",
    "Also, we will take very tight rings (bend radius of a few microns), which will require us to actually model the bends instead of simply using a \"straight\" waveguide for the rings."
   ]
  },
  {
   "cell_type": "markdown",
   "metadata": {},
   "source": [
    "# Defining geometries\n",
    "\n",
    "From the block diagram, there are three topologies we will need to model :\n",
    "\n",
    "    1) Quarter ring bends (2-port network)\n",
    "    2) Straight-bend coupling (4-port network)\n",
    "    3) Bend-bend coupling (4-port network)\n",
    "    \n",
    "The straight waveguides will simply be modeled as lossless phase accumulation.\n",
    "\n",
    "## Layer definition\n",
    "\n",
    "I define some layers :"
   ]
  },
  {
   "cell_type": "code",
   "execution_count": 27,
   "metadata": {},
   "outputs": [],
   "source": [
    "Si = pya.LayerInfo(1, 0)\n",
    "MEEP_SOURCE1 = pya.LayerInfo(10, 0)\n",
    "MEEP_SOURCE2 = pya.LayerInfo(11, 0)\n",
    "MEEP_PORT1 = pya.LayerInfo(20, 0)\n",
    "MEEP_PORT2 = pya.LayerInfo(21, 0)\n",
    "MEEP_PORT3 = pya.LayerInfo(22, 0)\n",
    "MEEP_PORT4 = pya.LayerInfo(23, 0)"
   ]
  },
  {
   "cell_type": "markdown",
   "metadata": {},
   "source": [
    "## Quarter ring bends\n",
    "\n",
    "### Definition"
   ]
  },
  {
   "cell_type": "code",
   "execution_count": 28,
   "metadata": {},
   "outputs": [],
   "source": [
    "import pya\n",
    "import numpy as np\n",
    "\n",
    "ring_radius = 5 # um\n",
    "ring_width = 0.5 # um"
   ]
  },
  {
   "cell_type": "code",
   "execution_count": 66,
   "metadata": {},
   "outputs": [],
   "source": [
    "from zeropdk.layout import layout_arc, layout_waveguide\n",
    "\n",
    "layout = pya.Layout()\n",
    "layout.dbu = 0.001\n",
    "TOP = layout.create_cell(\"TOP\")\n",
    "\n",
    "ex = pya.DVector(1, 0)\n",
    "ey = pya.DVector(0, 1)\n",
    "\n",
    "# draw bend\n",
    "layout_arc(\n",
    "    TOP, Si, origin - ring_radius*ey, ring_radius, ring_width, 0, np.pi/2\n",
    ")\n",
    "# Extend the bend to avoid discontinuities\n",
    "layout_waveguide(TOP, Si, [origin, origin - ring_radius*ex], ring_width)\n",
    "layout_waveguide(TOP, Si, [origin - ring_radius*ey + ring_radius*ex, origin - 2*ring_radius*ey + ring_radius*ex], ring_width)\n",
    "\n",
    "layout.write('bend_zeropdk.gds')\n",
    "del layout, TOP"
   ]
  },
  {
   "cell_type": "markdown",
   "metadata": {},
   "source": [
    "### Visualization\n",
    "\n",
    "You could download the GDSII file from the cluster (see Files in MyAdroit dashboard), or just import the GDS with MEEP to look at it :"
   ]
  },
  {
   "cell_type": "code",
   "execution_count": 67,
   "metadata": {},
   "outputs": [],
   "source": [
    "import meep as mp"
   ]
  },
  {
   "cell_type": "code",
   "execution_count": 68,
   "metadata": {},
   "outputs": [],
   "source": [
    "silicon=mp.Medium(epsilon=12)\n",
    "oxide=mp.Medium(epsilon=2.25)\n",
    "\n",
    "res = 50        # pixels/μm\n",
    "dpml = 2"
   ]
  },
  {
   "cell_type": "code",
   "execution_count": 69,
   "metadata": {},
   "outputs": [],
   "source": [
    "gdsII_file = 'bend_zeropdk.gds'\n",
    "\n",
    "CELL_LAYER = 0\n",
    "Si_LAYER = 1\n",
    "\n",
    "Si_bend = mp.get_GDSII_prisms(silicon, gdsII_file, Si_LAYER)\n",
    "\n",
    "cell = mp.Vector3(2*ring_radius,2*ring_radius,0)\n",
    "for geometry in Si_bend:\n",
    "    geometry += mp.Vector3(-1*ring_radius/2,1*ring_radius/2,0)"
   ]
  },
  {
   "cell_type": "code",
   "execution_count": 70,
   "metadata": {},
   "outputs": [
    {
     "name": "stdout",
     "output_type": "stream",
     "text": [
      "-----------\n",
      "Initializing structure...\n",
      "time for choose_chunkdivision = 0.000329971 s\n",
      "Working in 2D dimensions.\n",
      "Computational cell is 10 x 10 x 0 with resolution 50\n",
      "     prism, center = (0.664144,0.664152,0)\n",
      "          height 0, axis (0,0,1), 132 vertices:\n",
      "          (2.25,-2.5,0)\n",
      "          (2.249,-2.383,0)\n",
      "          (2.244,-2.267,0)\n",
      "          (2.237,-2.151,0)\n",
      "          (2.227,-2.034,0)\n",
      "          (2.214,-1.919,0)\n",
      "          (2.199,-1.803,0)\n",
      "          (2.18,-1.688,0)\n",
      "          (2.159,-1.573,0)\n",
      "          (2.135,-1.459,0)\n",
      "          (2.108,-1.346,0)\n",
      "          (2.078,-1.233,0)\n",
      "          (2.045,-1.121,0)\n",
      "          (2.01,-1.01,0)\n",
      "          (1.972,-0.9,0)\n",
      "          (1.932,-0.791,0)\n",
      "          (1.888,-0.682,0)\n",
      "          (1.842,-0.575,0)\n",
      "          (1.794,-0.469,0)\n",
      "          (1.743,-0.364,0)\n",
      "          (1.689,-0.261,0)\n",
      "          (1.633,-0.159,0)\n",
      "          (1.574,-0.058,0)\n",
      "          (1.513,0.041,0)\n",
      "          (1.449,0.139,0)\n",
      "          (1.384,0.235,0)\n",
      "          (1.315,0.33,0)\n",
      "          (1.245,0.422,0)\n",
      "          (1.172,0.513,0)\n",
      "          (1.097,0.603,0)\n",
      "          (1.02,0.69,0)\n",
      "          (0.94,0.775,0)\n",
      "          (0.859,0.859,0)\n",
      "          (0.775,0.94,0)\n",
      "          (0.69,1.02,0)\n",
      "          (0.603,1.097,0)\n",
      "          (0.513,1.172,0)\n",
      "          (0.422,1.245,0)\n",
      "          (0.33,1.315,0)\n",
      "          (0.235,1.384,0)\n",
      "          (0.139,1.449,0)\n",
      "          (0.041,1.513,0)\n",
      "          (-0.058,1.574,0)\n",
      "          (-0.159,1.633,0)\n",
      "          (-0.261,1.689,0)\n",
      "          (-0.364,1.743,0)\n",
      "          (-0.469,1.794,0)\n",
      "          (-0.575,1.842,0)\n",
      "          (-0.682,1.888,0)\n",
      "          (-0.791,1.932,0)\n",
      "          (-0.9,1.972,0)\n",
      "          (-1.01,2.01,0)\n",
      "          (-1.121,2.045,0)\n",
      "          (-1.233,2.078,0)\n",
      "          (-1.346,2.108,0)\n",
      "          (-1.459,2.135,0)\n",
      "          (-1.573,2.159,0)\n",
      "          (-1.688,2.18,0)\n",
      "          (-1.803,2.199,0)\n",
      "          (-1.919,2.214,0)\n",
      "          (-2.034,2.227,0)\n",
      "          (-2.151,2.237,0)\n",
      "          (-2.267,2.244,0)\n",
      "          (-2.383,2.249,0)\n",
      "          (-2.503,2.25,0)\n",
      "          (-2.5,2.75,0)\n",
      "          (-2.496,2.75,0)\n",
      "          (-2.371,2.748,0)\n",
      "          (-2.242,2.744,0)\n",
      "          (-2.114,2.736,0)\n",
      "          (-1.985,2.725,0)\n",
      "          (-1.857,2.71,0)\n",
      "          (-1.73,2.693,0)\n",
      "          (-1.602,2.673,0)\n",
      "          (-1.476,2.649,0)\n",
      "          (-1.35,2.622,0)\n",
      "          (-1.224,2.593,0)\n",
      "          (-1.1,2.56,0)\n",
      "          (-0.976,2.524,0)\n",
      "          (-0.853,2.485,0)\n",
      "          (-0.731,2.443,0)\n",
      "          (-0.611,2.398,0)\n",
      "          (-0.491,2.35,0)\n",
      "          (-0.372,2.3,0)\n",
      "          (-0.255,2.246,0)\n",
      "          (-0.14,2.189,0)\n",
      "          (-0.025,2.13,0)\n",
      "          (0.088,2.068,0)\n",
      "          (0.199,2.003,0)\n",
      "          (0.309,1.935,0)\n",
      "          (0.417,1.865,0)\n",
      "          (0.523,1.792,0)\n",
      "          (0.627,1.717,0)\n",
      "          (0.73,1.639,0)\n",
      "          (0.831,1.558,0)\n",
      "          (0.929,1.475,0)\n",
      "          (1.026,1.39,0)\n",
      "          (1.12,1.302,0)\n",
      "          (1.212,1.212,0)\n",
      "          (1.302,1.12,0)\n",
      "          (1.39,1.026,0)\n",
      "          (1.475,0.929,0)\n",
      "          (1.558,0.831,0)\n",
      "          (1.639,0.73,0)\n",
      "          (1.717,0.627,0)\n",
      "          (1.792,0.523,0)\n",
      "          (1.865,0.417,0)\n",
      "          (1.935,0.309,0)\n",
      "          (2.003,0.199,0)\n",
      "          (2.068,0.088,0)\n",
      "          (2.13,-0.025,0)\n",
      "          (2.189,-0.14,0)\n",
      "          (2.246,-0.255,0)\n",
      "          (2.3,-0.372,0)\n",
      "          (2.35,-0.491,0)\n",
      "          (2.398,-0.611,0)\n",
      "          (2.443,-0.731,0)\n",
      "          (2.485,-0.853,0)\n",
      "          (2.524,-0.976,0)\n",
      "          (2.56,-1.1,0)\n",
      "          (2.593,-1.224,0)\n",
      "          (2.622,-1.35,0)\n",
      "          (2.649,-1.476,0)\n",
      "          (2.673,-1.602,0)\n",
      "          (2.693,-1.73,0)\n",
      "          (2.71,-1.857,0)\n",
      "          (2.725,-1.985,0)\n",
      "          (2.736,-2.114,0)\n",
      "          (2.744,-2.242,0)\n",
      "          (2.748,-2.371,0)\n",
      "          (2.75,-2.498,0)\n",
      "          (2.75,-2.5,0)\n",
      "          dielectric constant epsilon diagonal = (12,12,12)\n",
      "time for set_epsilon = 7.2525 s\n",
      "-----------\n"
     ]
    }
   ],
   "source": [
    "sim = mp.Simulation(resolution=res,\n",
    "                    eps_averaging=True,\n",
    "                    subpixel_maxeval=1,\n",
    "                    subpixel_tol=1,\n",
    "                    boundary_layers=[mp.PML(dpml)],\n",
    "                    geometry=Si_bend,\n",
    "                    cell_size=cell)\n",
    "sim.init_sim()"
   ]
  },
  {
   "cell_type": "code",
   "execution_count": 71,
   "metadata": {},
   "outputs": [
    {
     "data": {
      "image/png": "[encoded data removed]",
      "text/plain": [
       "<Figure size 600x400 with 1 Axes>"
      ]
     },
     "metadata": {
      "needs_background": "light"
     },
     "output_type": "display_data"
    }
   ],
   "source": [
    "import matplotlib.pyplot as plt\n",
    "\n",
    "f = plt.figure(dpi=100)\n",
    "sim.plot2D(ax=f.gca())\n",
    "plt.show()"
   ]
  },
  {
   "cell_type": "code",
   "execution_count": null,
   "metadata": {},
   "outputs": [],
   "source": []
  },
  {
   "cell_type": "code",
   "execution_count": null,
   "metadata": {},
   "outputs": [],
   "source": []
  }
 ],
 "metadata": {
  "kernelspec": {
   "display_name": "all_tools [~/home/ELE559/anaconda3/envs/all_tools/]",
   "language": "python",
   "name": "conda_all_tools"
  },
  "language_info": {
   "codemirror_mode": {
    "name": "ipython",
    "version": 3
   },
   "file_extension": ".py",
   "mimetype": "text/x-python",
   "name": "python",
   "nbconvert_exporter": "python",
   "pygments_lexer": "ipython3",
   "version": "3.7.6"
  }
 },
 "nbformat": 4,
 "nbformat_minor": 4
}
