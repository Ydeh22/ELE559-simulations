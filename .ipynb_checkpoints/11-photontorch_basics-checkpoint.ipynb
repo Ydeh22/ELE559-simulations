{
 "cells": [
  {
   "cell_type": "markdown",
   "metadata": {},
   "source": [
    "# Photontorch basics\n",
    "\n",
    "Fundamentally, we are using tensor objects to represent the scattering matrix of N-port components at different wavelengths. These are networked together in photonic circuit.\n",
    "\n",
    "Imports :"
   ]
  },
  {
   "cell_type": "code",
   "execution_count": 1,
   "metadata": {},
   "outputs": [],
   "source": [
    "%matplotlib inline\n",
    "import numpy as np\n",
    "import matplotlib.pyplot as plt\n",
    "import photontorch as pt"
   ]
  },
  {
   "cell_type": "markdown",
   "metadata": {},
   "source": [
    "## Defining components\n",
    "Following the Photontorch guide verbatim (https://photontorch.com/) :"
   ]
  },
  {
   "cell_type": "markdown",
   "metadata": {},
   "source": [
    "Below an example on how one can define a directional coupler. A component with 4 ports and two parameters: $\\tau$ the transmission and $\\kappa$ the coupling between the arms.\n",
    "\n",
    "### Directional coupler"
   ]
  },
  {
   "cell_type": "markdown",
   "metadata": {},
   "source": [
    "We need to define the S-matrix. A directional coupler with the following port order\n",
    "```\n",
    "3    2\n",
    " \\__/\n",
    " /‾‾\\\n",
    "0    1\n",
    "```\n",
    "has an [S-matrix]( https://en.wikipedia.org/wiki/Power_dividers_and_directional_couplers#S-parameters) that looks as follows:\n",
    "\\begin{align*}\n",
    "S &= \\begin{pmatrix}\n",
    "0 & \\tau & i\\kappa & 0 \\\\\n",
    "\\tau & 0 & 0 & i\\kappa \\\\\n",
    "i\\kappa & 0 & 0 & \\tau \\\\\n",
    "0 & i\\kappa & \\tau & 0\n",
    "\\end{pmatrix}.\n",
    "\\end{align*}\n",
    "\n",
    "This S-matrix thus essentially links ports (0,1) and ports (2,3) with a transmission $\\tau$, while the links (0,2) and (1,3) are characterized with a coupling $\\kappa$.\n",
    "\n",
    "The S-matrix can be defined by defining the method `set_S` of the `DirectionalCoupler` component. This method takes one argument: the empty (all-zero) S-matrix `S` which needs to be filled with elements by that method. The method itself does not return anything.\n",
    "\n",
    "However, there is a catch. One cannot just put these S-matrix elements into the `S`-tensor. First of all, the S-matrix needs to be defined for all wavelengths of the simulation. Therefore, the S-matrix has an extra dimension  to fill different `S`-elements for different wavelengths. The wavelength information can be obtained for the simulation environment, which is saved in the component as `self.env`. \n",
    "Secondly, PyTorch does not support complex tensors, therefore the `S` tensor to fill with elements is split into a real and imaginary part, such that the total shape of `S` is:\n",
    "```\n",
    "    (2, # wavelengths, # ports, # ports)\n",
    "```\n",
    "the `set_S` method can thus be written as follows:"
   ]
  },
  {
   "cell_type": "code",
   "execution_count": 13,
   "metadata": {},
   "outputs": [],
   "source": [
    "class DirectionalCoupler(Component):\n",
    "    num_ports = 4 # this class variable always needs to be defined\n",
    "    def __init__(\n",
    "        self, \n",
    "        tau=np.sqrt(0.5), \n",
    "        kappa=np.sqrt(0.5)\n",
    "        ):\n",
    "        \n",
    "        super(DirectionalCoupler, self).__init__()\n",
    "        self.tau = Parameter(torch.tensor(tau))\n",
    "        self.kappa = Parameter(torch.tensor(kappa))\n",
    "        \n",
    "    def set_S(self, S):\n",
    "        # this won't be used here, but this is how to get the\n",
    "        # wavelengths (and if necessary other information)\n",
    "        # from the simulation environment to be able to calculate\n",
    "        # the appropriate S-matrix elements.\n",
    "        wls = self.env.wavelength\n",
    "        \n",
    "        # real part scattering matrix (transmission):\n",
    "        # (same transmission for all wavelengths)\n",
    "        S[0, :, 0, 1] = S[0, :, 1, 0] = self.tau\n",
    "        S[0, :, 2, 3] = S[0, :, 3, 2] = self.tau\n",
    "\n",
    "        # imag part scattering matrix (coupling):\n",
    "        # (same transmission for all wavelengths)\n",
    "        S[1, :, 0, 2] = S[1, :, 2, 0] = self.kappa\n",
    "        S[1, :, 1, 3] = S[1, :, 3, 1] = self.kappa"
   ]
  },
  {
   "cell_type": "markdown",
   "metadata": {},
   "source": [
    "## Defining circuits\n",
    "\n",
    "Now that we have component, we can make a network like such :"
   ]
  },
  {
   "cell_type": "code",
   "execution_count": null,
   "metadata": {},
   "outputs": [],
   "source": []
  }
 ],
 "metadata": {
  "kernelspec": {
   "display_name": "photontorch [~/home/ELE559/anaconda3/envs/photontorch/]",
   "language": "python",
   "name": "conda_photontorch"
  },
  "language_info": {
   "codemirror_mode": {
    "name": "ipython",
    "version": 3
   },
   "file_extension": ".py",
   "mimetype": "text/x-python",
   "name": "python",
   "nbconvert_exporter": "python",
   "pygments_lexer": "ipython3",
   "version": "3.8.1"
  }
 },
 "nbformat": 4,
 "nbformat_minor": 4
}
