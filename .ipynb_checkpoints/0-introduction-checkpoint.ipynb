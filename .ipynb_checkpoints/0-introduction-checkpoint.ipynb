{
 "cells": [
  {
   "cell_type": "markdown",
   "metadata": {
    "slideshow": {
     "slide_type": "slide"
    }
   },
   "source": [
    "# Simulations in nanophotonics\n",
    "\n",
    "Why simulate?\n",
    "\n",
    "* Maxwell equations practically exact\n",
    "* Material properties well-known\n",
    "* Length scale not too small\n",
    "* Very mature\n",
    "* Many high-quality black-box softwares\n",
    "* Computer = pre-laboratory. Get effective index, mode profile, transmission, etc.\n"
   ]
  },
  {
   "cell_type": "markdown",
   "metadata": {
    "slideshow": {
     "slide_type": "slide"
    }
   },
   "source": [
    "# Maxwell's Equations\n",
    "\n",
    "![maxwell](images/maxwell.png)\n",
    "\n",
    "![maxwell](images/maxwell_source.png)"
   ]
  },
  {
   "cell_type": "markdown",
   "metadata": {
    "slideshow": {
     "slide_type": "subslide"
    }
   },
   "source": [
    "# How do you solve this?\n",
    "\n",
    "![maxwell](images/solvers.png)\n",
    "\n",
    "Photonic Crystals Molding the Flow of Light - Second Edition John D. Joannopoulos, Steven G. Johnson, Joshua N. Winn & Robert D. Meade\n",
    "\n",
    "<img src=\"images/FDTD.png\" width=\"20%\">\n",
    "https://en.wikipedia.org/wiki/Finite-difference_time-domain_method\n",
    "\n"
   ]
  },
  {
   "cell_type": "markdown",
   "metadata": {
    "slideshow": {
     "slide_type": "slide"
    }
   },
   "source": [
    "# What are your options?\n",
    "\n",
    "## Commercial\n",
    "\n",
    "Some I've used, but there are a lot more :\n",
    "[Lumerical](https://www.lumerical.com/), [Synopsys](https://www.synopsys.com/photonic-solutions.html), [PhotonDesign](https://www.photond.com/products.htm). These may be easier to use in a \"production\" environment, and have more support.\n",
    "\n",
    "## Why open-source (MEEP/MPB)?\n",
    "\n",
    "* Free!\n",
    "* Flexible. Good for research.\n",
    "* Transparent. Good for teaching.\n",
    "* Widely-used\n",
    "\n",
    "<img src=\"images/MEEP.png\" width=\"40%\">\n",
    "\n",
    "<img src=\"images/MPB.PNG\" width=\"40%\">"
   ]
  },
  {
   "cell_type": "markdown",
   "metadata": {
    "slideshow": {
     "slide_type": "slide"
    }
   },
   "source": [
    " # What is PyMEEP?\n",
    "\n",
    "It is the Python wrapper to MEEP and MPB. These tools can also be used from a Scheme interface. \n",
    "\n",
    "* **MPB : MIT Periodic Bands**\n",
    "    * \"MPB computes definite-frequency eigenstates, or harmonic modes, of Maxwell's equations in periodic dielectric structures for arbitrary wavevectors, using fully-vectorial and three-dimensional methods. It is applicable to many problems in optics, such as waveguides and resonator systems, and photonic crystals. [1]\n",
    "    \n",
    "\n",
    "* **MEEP : MIT Electromagnetic Equation Propagation**\n",
    "    * \"A time-domain electromagnetic simulation simply evolves Maxwell's equations over time within some finite computational volume, essentially performing a kind of numerical experiment. This can be used to calculate a wide variety of useful quantities. Major applications include:\n",
    "        * Transmittance and Reflectance Spectra — by Fourier-transforming the response to a short pulse, a single simulation can yield the scattering amplitudes over a broadband spectrum.\n",
    "        * Resonant Modes and Frequencies — by analyzing the response of the system to a short pulse, one can extract the frequencies, decay rates, and field patterns of the harmonic modes of lossy and lossless systems including waveguide and cavity modes.\n",
    "        * Field Patterns (e.g. Green's functions) — in response to an arbitrary source via a continuous-wave (CW) input (fixed-ω).\"\n",
    "    \n",
    "    Meep's scriptable interface makes it possible to combine many sorts of computations along with multi-parameter optimization in sequence or in parallel.\" [2]\n"
   ]
  },
  {
   "cell_type": "markdown",
   "metadata": {
    "slideshow": {
     "slide_type": "subslide"
    }
   },
   "source": [
    "# Introduction to the Python interface\n",
    "\n",
    "Mostly follow Python syntax for objects, functions, etc.\n",
    "\n",
    "![maxwell](images/python.PNG)\n",
    "\n",
    "Image rom https://www.w3schools.com/python/python_classes.asp\n",
    "\n",
    "**MPB** : [ModeSolver class](https://mpb.readthedocs.io/en/latest/Python_User_Interface/#the-modesolver-class)\n",
    "\n",
    "**MEEP** : [Simulation class](https://meep.readthedocs.io/en/latest/Python_User_Interface/#the-simulation-class)\n",
    "\n",
    "\n",
    "### Neat Notebook tricks\n",
    "\n",
    "* Call terminal : !my_commands\n",
    "* Autocomplete/suggest : press tab\n",
    "* Cell magics : %%capture to suppress or capture output, etc."
   ]
  },
  {
   "cell_type": "markdown",
   "metadata": {
    "slideshow": {
     "slide_type": "slide"
    }
   },
   "source": [
    "# References\n",
    "\n",
    "Most of the following is extracted from the Python User Interface and Tutorial pages of :\n",
    "\n",
    "1. https://mpb.readthedocs.io/en/latest/\n",
    "2. https://meep.readthedocs.io/en/latest/\n",
    "\n",
    "The source code (thanks open-source!) itself and examples are also a good source of information :\n",
    "\n",
    "3. https://github.com/NanoComp/meep\n",
    "4. http://www.simpetus.com/projects.html"
   ]
  }
 ],
 "metadata": {
  "kernelspec": {
   "display_name": "PyMeep",
   "language": "python",
   "name": "pymeep"
  },
  "language_info": {
   "codemirror_mode": {
    "name": "ipython",
    "version": 3
   },
   "file_extension": ".py",
   "mimetype": "text/x-python",
   "name": "python",
   "nbconvert_exporter": "python",
   "pygments_lexer": "ipython3",
   "version": "3.7.6"
  }
 },
 "nbformat": 4,
 "nbformat_minor": 4
}
