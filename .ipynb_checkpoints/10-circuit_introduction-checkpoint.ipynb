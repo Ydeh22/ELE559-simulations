{
 "cells": [
  {
   "cell_type": "markdown",
   "metadata": {
    "slideshow": {
     "slide_type": "slide"
    }
   },
   "source": [
    "# Photonic circuit simulations\n",
    "\n",
    "At the scale of an entire chip, full electromagnetic simulations become prohibitive. To gain insight on the behaviour of an entire circuit, circuit simulations using **compact models** can instead be performed.\n",
    "\n",
    "In the semiconductor industry, a compact model is a \"computationally efficient description of the terminal properties of a device as a function of terminal voltages\" [(Sivakumar Mudanai (Intel), on Nanohub)](https://nanohub.org/resources/21459/download/2014.06.10-Mudanai-NEEDS.pdf). \n",
    "\n",
    "We can generalize the concept to photonics : a compact model would be an efficient description of the properties of a device as a function of a few parameters such as some geometrical properties (gap of a coupler. radius of a ring resonator, etc.), wavelength, voltage applied, etc. "
   ]
  },
  {
   "cell_type": "markdown",
   "metadata": {},
   "source": [
    "# Ex: compact model for a waveguide\n",
    "\n",
    "For a given silicon photonics technology (fixed Si thickness), a given waveguide can be parametrized by only its width. If the effective index of the waveguide at a given width is known for a range of wavelengths, then a compact model for the waveguide can be obtained.\n",
    "\n",
    "Recall how to obtain this as done in *02-MPB_dispersion.ipynb* :\n",
    "\n",
    "![alt text](http://www.simpetus.com/files/SOI_waveguide_bands.png)\n",
    "(Figure from http://www.simpetus.com/files/SOI_waveguide_bands.png)\n",
    "\n",
    "Remember the general phase velocity $ v_p = \\frac{\\omega}{k_x}  $ (since $x$ is propagation direction here), and define refractive index $n_{eff} = \\frac{c}{v_p}$. Now, we have a dispersion $\\omega(k_x)$ which is determined given a single $\\omega = 2\\pi f = 2\\pi c/\\lambda$. Hence, the ratio $v_p$ changes with wavelength.\n",
    "\n",
    "So for *e.g.* the fundamental mode of a 500-nm rib waveguide, we can get a plot like this :"
   ]
  },
  {
   "cell_type": "markdown",
   "metadata": {},
   "source": [
    "# In general : S-parameters\n",
    "\n",
    "For a general N-port device, the properties we are most often interested in are the elements of the scattering matrix (S-parameters). The concept originated in microwave design, so a good introduction is contained in Ch. 4.3 of [1]. As usual, the main reference for the class [2] has a good chapter on it (Ch. 9).\n",
    "\n",
    "S-parameters relate the complex amplitudes of incoming and outgoing modes of your device :\n",
    "\n",
    "![n-ports](images/N-port.png)\n",
    "\n",
    "\\begin{equation}\n",
    "\\begin{bmatrix}\n",
    "b_1\\\\ \n",
    "b_2\\\\ \n",
    "\\vdots \\\\ \n",
    "b_N\n",
    "\\end{bmatrix} = \\begin{bmatrix}\n",
    "S_{11} & S_{12} & ... & S_{1N} \\\\ \n",
    "S_{21} & S_{22} & ...  & S_{2N} \\\\ \n",
    "\\vdots & \\vdots  & \\ddots & \\vdots \\\\ \n",
    "S_{N1} & S_{N2} & ... & S_{NN}\n",
    "\\end{bmatrix} \\begin{bmatrix}\n",
    "a_1\\\\ \n",
    "a_2\\\\ \n",
    "\\vdots \\\\ \n",
    "a_N\n",
    "\\end{bmatrix}\n",
    "\\end{equation}\n",
    "\n",
    "Hence, by exciting mode $a_j$ and monitoring the outgoing complex amplitude at port $b_i$ (with all other incoming modes $a_k = 0$ for $k\\neq j$), the coefficient $S_{ij}$ can be determined via $S_{ij} = \\frac{b_i}{a_j}$. **The concept of \"mode\" here is abstract, and can represent different physical ports, or different orthogonal spatial modes in the same physical port.** The coefficients $S_{ij}$ can be computed or measured as a function of a few parameters (geometry, wavelength, etc.), yielding a tensor in practice.\n",
    "\n",
    "You already know how to extract S-parameters from FDTD simulations; see notebook *06-MEEP_S_parameters.ipynb*.\n",
    "\n",
    "## Properties and usefulness\n",
    "\n"
   ]
  },
  {
   "cell_type": "markdown",
   "metadata": {
    "slideshow": {
     "slide_type": "slide"
    }
   },
   "source": [
    "# What are your options?\n",
    "\n",
    "## Commercial\n",
    "\n",
    "Some I've used, but there are a lot more :\n",
    "[Lumerical](https://www.lumerical.com/), [Synopsys](https://www.synopsys.com/photonic-solutions.html), . These may be easier to use in a \"production\" environment, and have more support.\n",
    "\n",
    "## Why open-source (MEEP/MPB)?\n",
    "\n",
    "* Free!\n",
    "* Flexible. Good for research.\n",
    "* Transparent. Good for teaching.\n",
    "* Widely-used\n",
    "\n",
    "<img src=\"images/MEEP.png\" width=\"40%\">\n",
    "\n",
    "<img src=\"images/MPB.PNG\" width=\"40%\">"
   ]
  },
  {
   "cell_type": "markdown",
   "metadata": {
    "slideshow": {
     "slide_type": "slide"
    }
   },
   "source": [
    " # What is PyMEEP?\n",
    "\n",
    "It is the Python wrapper to MEEP and MPB. These tools can also be used from a Scheme interface. \n",
    "\n",
    "* **MPB : MIT Periodic Bands**\n",
    "    * \"MPB computes definite-frequency eigenstates, or harmonic modes, of Maxwell's equations in periodic dielectric structures for arbitrary wavevectors, using fully-vectorial and three-dimensional methods. It is applicable to many problems in optics, such as waveguides and resonator systems, and photonic crystals. [1]\n",
    "    \n",
    "\n",
    "* **MEEP : MIT Electromagnetic Equation Propagation**\n",
    "    * \"A time-domain electromagnetic simulation simply evolves Maxwell's equations over time within some finite computational volume, essentially performing a kind of numerical experiment. This can be used to calculate a wide variety of useful quantities. Major applications include:\n",
    "        * Transmittance and Reflectance Spectra — by Fourier-transforming the response to a short pulse, a single simulation can yield the scattering amplitudes over a broadband spectrum.\n",
    "        * Resonant Modes and Frequencies — by analyzing the response of the system to a short pulse, one can extract the frequencies, decay rates, and field patterns of the harmonic modes of lossy and lossless systems including waveguide and cavity modes.\n",
    "        * Field Patterns (e.g. Green's functions) — in response to an arbitrary source via a continuous-wave (CW) input (fixed-ω).\"\n",
    "    \n",
    "    Meep's scriptable interface makes it possible to combine many sorts of computations along with multi-parameter optimization in sequence or in parallel.\" [2]\n"
   ]
  },
  {
   "cell_type": "markdown",
   "metadata": {
    "slideshow": {
     "slide_type": "subslide"
    }
   },
   "source": [
    "# Introduction to the Python interface\n",
    "\n",
    "Mostly follow Python syntax for objects, functions, etc.\n",
    "\n",
    "![maxwell](images/python.PNG)\n",
    "\n",
    "Image rom https://www.w3schools.com/python/python_classes.asp\n",
    "\n",
    "**MPB** : [ModeSolver class](https://mpb.readthedocs.io/en/latest/Python_User_Interface/#the-modesolver-class)\n",
    "\n",
    "**MEEP** : [Simulation class](https://meep.readthedocs.io/en/latest/Python_User_Interface/#the-simulation-class)\n",
    "\n",
    "\n",
    "### Neat Notebook tricks\n",
    "\n",
    "* Call terminal : !my_commands\n",
    "* Autocomplete/suggest : press tab\n",
    "* Cell magics : %%capture to suppress or capture output, etc."
   ]
  },
  {
   "cell_type": "markdown",
   "metadata": {
    "slideshow": {
     "slide_type": "slide"
    }
   },
   "source": [
    "# References\n",
    "\n",
    "1. Pozar, D. M. (1990). Microwave Engineering\n",
    "2. Chrostowski, L., & Hochberg, M. (2015). Photonic circuit modelling. In Silicon Photonics Design: From Devices to Systems (pp. 313-348). Cambridge: Cambridge University Press. "
   ]
  },
  {
   "cell_type": "code",
   "execution_count": null,
   "metadata": {},
   "outputs": [],
   "source": []
  }
 ],
 "metadata": {
  "kernelspec": {
   "display_name": "photontorch [~/home/ELE559/anaconda3/envs/photontorch/]",
   "language": "python",
   "name": "conda_photontorch"
  },
  "language_info": {
   "codemirror_mode": {
    "name": "ipython",
    "version": 3
   },
   "file_extension": ".py",
   "mimetype": "text/x-python",
   "name": "python",
   "nbconvert_exporter": "python",
   "pygments_lexer": "ipython3",
   "version": "3.8.1"
  }
 },
 "nbformat": 4,
 "nbformat_minor": 4
}
