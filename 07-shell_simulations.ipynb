{
 "cells": [
  {
   "cell_type": "markdown",
   "metadata": {},
   "source": [
    "# Simulating from terminal\n",
    "\n",
    "Jupyter Notebooks are great for data exploration, but not so great to launch simulations.\n",
    "\n",
    "You can do everything we just did in a Python script run from the terminal. Create a Python file with your code (with internal saving to files, or outputting output to another file).\n",
    "\n",
    "1. Make sure you are in the MEEP environment by runnig `conda activate mp` (or whatever you named your MEEP environment)\n",
    "2. Run `python strip_wvg_script.py > strip_wvg_script.out`. This runs strip_wvg_script.py and saves the printed text to strip_wvg_script.out.\n",
    "3. Load your data in a Notebook for analysis!"
   ]
  },
  {
   "cell_type": "markdown",
   "metadata": {},
   "source": [
    "If you are calling MEEP, it also has a parallel implementation (faster!). Just use"
   ]
  },
  {
   "cell_type": "code",
   "execution_count": null,
   "metadata": {},
   "outputs": [],
   "source": [
    "!mpirun -np 4 python my_file.py > my_file.out"
   ]
  },
  {
   "cell_type": "markdown",
   "metadata": {},
   "source": [
    "in the command, $np$ is the number of processes (cores). https://meep.readthedocs.io/en/latest/Parallel_Meep/"
   ]
  }
 ],
 "metadata": {
  "kernelspec": {
   "display_name": "all_tools [~/home/ELE559/anaconda3/envs/all_tools/]",
   "language": "python",
   "name": "conda_all_tools"
  },
  "language_info": {
   "codemirror_mode": {
    "name": "ipython",
    "version": 3
   },
   "file_extension": ".py",
   "mimetype": "text/x-python",
   "name": "python",
   "nbconvert_exporter": "python",
   "pygments_lexer": "ipython3",
   "version": "3.7.6"
  }
 },
 "nbformat": 4,
 "nbformat_minor": 4
}
