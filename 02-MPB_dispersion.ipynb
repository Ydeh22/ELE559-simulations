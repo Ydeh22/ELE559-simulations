{
 "cells": [
  {
   "cell_type": "markdown",
   "metadata": {},
   "source": [
    "# MPB ModeSolver\n",
    "\n",
    "Now let's obtain the plot on the right (Figure from [3]) :\n",
    "\n",
    "![alt text](http://www.simpetus.com/files/SOI_waveguide_bands.png)"
   ]
  },
  {
   "cell_type": "code",
   "execution_count": 1,
   "metadata": {},
   "outputs": [],
   "source": [
    "# Import meep and mpb (from meep)\n",
    "import meep as mp\n",
    "from meep import mpb\n",
    "\n",
    "# arrays\n",
    "import numpy as np\n",
    "\n",
    "# plotting\n",
    "import matplotlib.pyplot as plt"
   ]
  },
  {
   "cell_type": "markdown",
   "metadata": {},
   "source": [
    "Start by defining the geometry from last time :"
   ]
  },
  {
   "cell_type": "code",
   "execution_count": 2,
   "metadata": {},
   "outputs": [],
   "source": [
    "# Parameters for the waveguide\n",
    "w = 0.50  # Si width (um)\n",
    "h = 0.22  # Si height (um)\n",
    "\n",
    "# Materials\n",
    "Si = mp.Medium(index=3.45)\n",
    "SiO2 = mp.Medium(index=1.45)\n",
    "\n",
    "sc_y = 2  # supercell width (um)\n",
    "sc_z = 2  # supercell height (um)\n",
    "resolution = 32  # pixels/um\n",
    "geometry_lattice = mp.Lattice(size=mp.Vector3(0, sc_y, sc_z))\n",
    "\n",
    "# define the 2d blocks for the strip and substrate\n",
    "geometry = [mp.Block(size=mp.Vector3(mp.inf, w, h),\n",
    "                     center=mp.Vector3(), material=Si),\n",
    "            mp.Block(size=mp.Vector3(mp.inf, mp.inf, 0.5*(sc_z-h)),\n",
    "                     center=mp.Vector3(z=0.25*(sc_z+h)), material=SiO2)]"
   ]
  },
  {
   "cell_type": "markdown",
   "metadata": {},
   "source": [
    "### Defining the simulation\n",
    "\n",
    "Now, instead of only initializing the geometry, we will load simulation parameters."
   ]
  },
  {
   "cell_type": "code",
   "execution_count": 3,
   "metadata": {},
   "outputs": [],
   "source": [
    "# The k (i.e. beta, i.e. propagation constant) points to look at, in\n",
    "# units of 2*pi/um.  We'll look at num_k points from k_min to k_max.\n",
    "num_k = 20\n",
    "k_min = 0.1\n",
    "k_max = 2.0\n",
    "k_points = mp.interpolate(num_k, [mp.Vector3(k_min), mp.Vector3(k_max)])\n",
    "\n",
    "# Increase this to see more modes.  (The guided ones are the ones below the\n",
    "# light line, i.e. those with frequencies < kmag / 1.45, where kmag\n",
    "# is the corresponding column in the output if you grep for \"freqs:\".)\n",
    "num_bands = 4"
   ]
  },
  {
   "cell_type": "code",
   "execution_count": 4,
   "metadata": {},
   "outputs": [],
   "source": [
    "# ModeSolver object\n",
    "ms = mpb.ModeSolver(\n",
    "    geometry_lattice=geometry_lattice,\n",
    "    geometry=geometry,\n",
    "    # Add new things pertaining to simulation\n",
    "    k_points=k_points,\n",
    "    resolution=resolution,\n",
    "    num_bands=num_bands,\n",
    "    )"
   ]
  },
  {
   "cell_type": "markdown",
   "metadata": {},
   "source": [
    "Now run the simulation. There are many options for what to solve for and what to report, see https://mpb.readthedocs.io/en/latest/Python_User_Interface/#run-functions."
   ]
  },
  {
   "cell_type": "code",
   "execution_count": 5,
   "metadata": {},
   "outputs": [
    {
     "name": "stdout",
     "output_type": "stream",
     "text": [
      "Initializing eigensolver data\n",
      "Computing 4 bands with 1e-07 tolerance\n",
      "Working in 3 dimensions.\n",
      "Grid size is 1 x 64 x 64.\n",
      "Solving for 4 bands at a time.\n",
      "Creating Maxwell data...\n",
      "Mesh size is 3.\n",
      "Lattice vectors:\n",
      "     (1, 0, 0)\n",
      "     (0, 2, 0)\n",
      "     (0, 0, 2)\n",
      "Cell volume = 4\n",
      "Reciprocal lattice vectors (/ 2 pi):\n",
      "     (1, -0, 0)\n",
      "     (-0, 0.5, -0)\n",
      "     (0, -0, 0.5)\n",
      "Geometric objects:\n",
      "     block, center = (0,0,0)\n",
      "          size (1e+20,0.5,0.22)\n",
      "          axes (1,0,0), (0,1,0), (0,0,1)\n",
      "     block, center = (0,0,0.555)\n",
      "          size (1e+20,1e+20,0.89)\n",
      "          axes (1,0,0), (0,1,0), (0,0,1)\n",
      "Geometric object tree has depth 2 and 8 object nodes (vs. 2 actual objects)\n",
      "Initializing epsilon function...\n",
      "Allocating fields...\n",
      "Solving for band polarization: .\n",
      "Initializing fields to random numbers...\n",
      "22 k-points\n",
      "  Vector3<0.1, 0.0, 0.0>\n",
      "  Vector3<0.19047619047619047, 0.0, 0.0>\n",
      "  Vector3<0.28095238095238095, 0.0, 0.0>\n",
      "  Vector3<0.37142857142857144, 0.0, 0.0>\n",
      "  Vector3<0.46190476190476193, 0.0, 0.0>\n",
      "  Vector3<0.5523809523809524, 0.0, 0.0>\n",
      "  Vector3<0.6428571428571428, 0.0, 0.0>\n",
      "  Vector3<0.7333333333333333, 0.0, 0.0>\n",
      "  Vector3<0.8238095238095238, 0.0, 0.0>\n",
      "  Vector3<0.9142857142857143, 0.0, 0.0>\n",
      "  Vector3<1.0047619047619047, 0.0, 0.0>\n",
      "  Vector3<1.0952380952380953, 0.0, 0.0>\n",
      "  Vector3<1.1857142857142857, 0.0, 0.0>\n",
      "  Vector3<1.2761904761904763, 0.0, 0.0>\n",
      "  Vector3<1.3666666666666667, 0.0, 0.0>\n",
      "  Vector3<1.4571428571428573, 0.0, 0.0>\n",
      "  Vector3<1.5476190476190477, 0.0, 0.0>\n",
      "  Vector3<1.638095238095238, 0.0, 0.0>\n",
      "  Vector3<1.7285714285714286, 0.0, 0.0>\n",
      "  Vector3<1.819047619047619, 0.0, 0.0>\n",
      "  Vector3<1.9095238095238096, 0.0, 0.0>\n",
      "  Vector3<2.0, 0.0, 0.0>\n",
      "elapsed time for initialization: 0.015517473220825195\n",
      "solve_kpoint (0.1,0,0):\n",
      "Solving for bands 1 to 4...\n",
      "Finished solving for bands 1 to 4 after 30 iterations.\n",
      "freqs:, 1, 0.1, 0, 0, 0.1, 0.0794202, 0.0849623, 0.297663, 0.37481\n",
      "elapsed time for k point: 0.13807034492492676\n",
      "solve_kpoint (0.190476,0,0):\n",
      "Solving for bands 1 to 4...\n",
      "Finished solving for bands 1 to 4 after 14 iterations.\n",
      "freqs:, 2, 0.190476, 0, 0, 0.190476, 0.150218, 0.160326, 0.324018, 0.383469\n",
      "elapsed time for k point: 0.05554652214050293\n",
      "solve_kpoint (0.280952,0,0):\n",
      "Solving for bands 1 to 4...\n",
      "Finished solving for bands 1 to 4 after 11 iterations.\n",
      "freqs:, 3, 0.280952, 0, 0, 0.280952, 0.219035, 0.232794, 0.36303, 0.398284\n",
      "elapsed time for k point: 0.046803951263427734\n",
      "solve_kpoint (0.371429,0,0):\n",
      "Solving for bands 1 to 4...\n",
      "Finished solving for bands 1 to 4 after 11 iterations.\n",
      "freqs:, 4, 0.371429, 0, 0, 0.371429, 0.284828, 0.301118, 0.410931, 0.417364\n",
      "elapsed time for k point: 0.04655337333679199\n",
      "solve_kpoint (0.461905,0,0):\n",
      "Solving for bands 1 to 4...\n",
      "Finished solving for bands 1 to 4 after 13 iterations.\n",
      "freqs:, 5, 0.461905, 0, 0, 0.461905, 0.34589, 0.36477, 0.440364, 0.463544\n",
      "elapsed time for k point: 0.052527427673339844\n",
      "solve_kpoint (0.552381,0,0):\n",
      "Solving for bands 1 to 4...\n",
      "Finished solving for bands 1 to 4 after 15 iterations.\n",
      "freqs:, 6, 0.552381, 0, 0, 0.552381, 0.398211, 0.424058, 0.470557, 0.516771\n",
      "elapsed time for k point: 0.05847883224487305\n",
      "solve_kpoint (0.642857,0,0):\n",
      "Solving for bands 1 to 4...\n",
      "Finished solving for bands 1 to 4 after 16 iterations.\n",
      "freqs:, 7, 0.642857, 0, 0, 0.642857, 0.436446, 0.479309, 0.513457, 0.567861\n",
      "elapsed time for k point: 0.06135964393615723\n",
      "solve_kpoint (0.733333,0,0):\n",
      "Solving for bands 1 to 4...\n",
      "Finished solving for bands 1 to 4 after 17 iterations.\n",
      "freqs:, 8, 0.733333, 0, 0, 0.733333, 0.463503, 0.529944, 0.566628, 0.615651\n",
      "elapsed time for k point: 0.06601095199584961\n",
      "solve_kpoint (0.82381,0,0):\n",
      "Solving for bands 1 to 4...\n",
      "Finished solving for bands 1 to 4 after 18 iterations.\n",
      "freqs:, 9, 0.82381, 0, 0, 0.82381, 0.485926, 0.574409, 0.623957, 0.66078\n",
      "elapsed time for k point: 0.06747317314147949\n",
      "solve_kpoint (0.914286,0,0):\n",
      "Solving for bands 1 to 4...\n",
      "Finished solving for bands 1 to 4 after 21 iterations.\n",
      "freqs:, 10, 0.914286, 0, 0, 0.914286, 0.506776, 0.611532, 0.682582, 0.698461\n",
      "elapsed time for k point: 0.07629990577697754\n",
      "solve_kpoint (1.00476,0,0):\n",
      "Solving for bands 1 to 4...\n",
      "Finished solving for bands 1 to 4 after 21 iterations.\n",
      "freqs:, 11, 1.00476, 0, 0, 1.00476, 0.527159, 0.642054, 0.725485, 0.740367\n",
      "elapsed time for k point: 0.07693672180175781\n",
      "solve_kpoint (1.09524,0,0):\n",
      "Solving for bands 1 to 4...\n",
      "Finished solving for bands 1 to 4 after 24 iterations.\n",
      "freqs:, 12, 1.09524, 0, 0, 1.09524, 0.547509, 0.667911, 0.747291, 0.775545\n",
      "elapsed time for k point: 0.08504891395568848\n",
      "solve_kpoint (1.18571,0,0):\n",
      "Solving for bands 1 to 4...\n",
      "Finished solving for bands 1 to 4 after 13 iterations.\n",
      "freqs:, 13, 1.18571, 0, 0, 1.18571, 0.568008, 0.690839, 0.766489, 0.796961\n",
      "elapsed time for k point: 0.05281376838684082\n",
      "solve_kpoint (1.27619,0,0):\n",
      "Solving for bands 1 to 4...\n",
      "Finished solving for bands 1 to 4 after 11 iterations.\n",
      "freqs:, 14, 1.27619, 0, 0, 1.27619, 0.588733, 0.711999, 0.784403, 0.816743\n",
      "elapsed time for k point: 0.046945810317993164\n",
      "solve_kpoint (1.36667,0,0):\n",
      "Solving for bands 1 to 4...\n",
      "Finished solving for bands 1 to 4 after 10 iterations.\n",
      "freqs:, 15, 1.36667, 0, 0, 1.36667, 0.609713, 0.732111, 0.80173, 0.835754\n",
      "elapsed time for k point: 0.043984174728393555\n",
      "solve_kpoint (1.45714,0,0):\n",
      "Solving for bands 1 to 4...\n",
      "Finished solving for bands 1 to 4 after 10 iterations.\n",
      "freqs:, 16, 1.45714, 0, 0, 1.45714, 0.630952, 0.751623, 0.818853, 0.854324\n",
      "elapsed time for k point: 0.04348158836364746\n",
      "solve_kpoint (1.54762,0,0):\n",
      "Solving for bands 1 to 4...\n",
      "Finished solving for bands 1 to 4 after 10 iterations.\n",
      "freqs:, 17, 1.54762, 0, 0, 1.54762, 0.652443, 0.770818, 0.83599, 0.872643\n",
      "elapsed time for k point: 0.0436398983001709\n",
      "solve_kpoint (1.6381,0,0):\n",
      "Solving for bands 1 to 4...\n",
      "Finished solving for bands 1 to 4 after 9 iterations.\n",
      "freqs:, 18, 1.6381, 0, 0, 1.6381, 0.674172, 0.78988, 0.853267, 0.890837\n",
      "elapsed time for k point: 0.04073929786682129\n",
      "solve_kpoint (1.72857,0,0):\n",
      "Solving for bands 1 to 4...\n",
      "Finished solving for bands 1 to 4 after 9 iterations.\n",
      "freqs:, 19, 1.72857, 0, 0, 1.72857, 0.696125, 0.808928, 0.870757, 0.908996\n",
      "elapsed time for k point: 0.04059171676635742\n",
      "solve_kpoint (1.81905,0,0):\n",
      "Solving for bands 1 to 4...\n",
      "Finished solving for bands 1 to 4 after 9 iterations.\n",
      "freqs:, 20, 1.81905, 0, 0, 1.81905, 0.718285, 0.828044, 0.888503, 0.927185\n",
      "elapsed time for k point: 0.0409388542175293\n",
      "solve_kpoint (1.90952,0,0):\n",
      "Solving for bands 1 to 4...\n",
      "Finished solving for bands 1 to 4 after 9 iterations.\n",
      "freqs:, 21, 1.90952, 0, 0, 1.90952, 0.740637, 0.847281, 0.906527, 0.945451\n",
      "elapsed time for k point: 0.04106616973876953\n",
      "solve_kpoint (2,0,0):\n",
      "Solving for bands 1 to 4...\n",
      "Finished solving for bands 1 to 4 after 9 iterations.\n",
      "freqs:, 22, 2, 0, 0, 2, 0.763167, 0.866673, 0.924839, 0.963831\n",
      "elapsed time for k point: 0.04073214530944824\n",
      "Band 1 range: 0.07942016624643601 at Vector3<0.1, 0.0, 0.0> to 0.7631671678430058 at Vector3<2.0, 0.0, 0.0>\n",
      "Band 2 range: 0.08496230355143654 at Vector3<0.1, 0.0, 0.0> to 0.8666725405654844 at Vector3<2.0, 0.0, 0.0>\n",
      "Band 3 range: 0.29766264003036447 at Vector3<0.1, 0.0, 0.0> to 0.9248390743934864 at Vector3<2.0, 0.0, 0.0>\n",
      "Band 4 range: 0.37480991768534555 at Vector3<0.1, 0.0, 0.0> to 0.9638311239052704 at Vector3<2.0, 0.0, 0.0>\n",
      "total elapsed time for run: 1.2828874588012695\n",
      "done\n"
     ]
    }
   ],
   "source": [
    "ms.run()"
   ]
  },
  {
   "cell_type": "markdown",
   "metadata": {},
   "source": [
    "It solved, great! We can see from the text output lines like :\n",
    "\n",
    "`solve_kpoint (0.1,0,0):\n",
    "Solving for bands 1 to 4...\n",
    "Finished solving for bands 1 to 4 after 28 iterations.\n",
    "freqs:, 1, 0.1, 0, 0, 0.1, 0.0807582, 0.0855765, 0.3147, 0.394675\n",
    "elapsed time for k point: 0.14001059532165527`\n",
    "\n",
    "This contains our band information. Unfortunately, MPB only keeps in memory one at a time. So we only have access to the last one :"
   ]
  },
  {
   "cell_type": "code",
   "execution_count": 6,
   "metadata": {},
   "outputs": [
    {
     "name": "stdout",
     "output_type": "stream",
     "text": [
      "Vector3<2.0, 0.0, 0.0>\n",
      "[0.7631671678430061, 0.8666725405654846, 0.9248390743934869, 0.9638311239052703]\n"
     ]
    }
   ],
   "source": [
    "print(ms.current_k)\n",
    "print(ms.freqs)"
   ]
  },
  {
   "cell_type": "markdown",
   "metadata": {},
   "source": [
    "So let's do it again, this time capturing the output :"
   ]
  },
  {
   "cell_type": "code",
   "execution_count": 6,
   "metadata": {},
   "outputs": [],
   "source": [
    "%%capture --no-stderr output\n",
    "ms.run()"
   ]
  },
  {
   "cell_type": "code",
   "execution_count": 7,
   "metadata": {},
   "outputs": [
    {
     "data": {
      "text/plain": [
       "['Initializing eigensolver data',\n",
       " 'Computing 4 bands with 1e-07 tolerance',\n",
       " 'Working in 3 dimensions.',\n",
       " 'Grid size is 1 x 64 x 64.',\n",
       " 'Solving for 4 bands at a time.',\n",
       " 'Creating Maxwell data...',\n",
       " 'Mesh size is 3.',\n",
       " 'Lattice vectors:',\n",
       " '     (1, 0, 0)',\n",
       " '     (0, 2, 0)',\n",
       " '     (0, 0, 2)',\n",
       " 'Cell volume = 4',\n",
       " 'Reciprocal lattice vectors (/ 2 pi):',\n",
       " '     (1, -0, 0)',\n",
       " '     (-0, 0.5, -0)',\n",
       " '     (0, -0, 0.5)',\n",
       " 'Geometric objects:',\n",
       " '     block, center = (0,0,0)',\n",
       " '          size (1e+20,0.5,0.22)',\n",
       " '          axes (1,0,0), (0,1,0), (0,0,1)',\n",
       " '     block, center = (0,0,0.555)',\n",
       " '          size (1e+20,1e+20,0.89)',\n",
       " '          axes (1,0,0), (0,1,0), (0,0,1)',\n",
       " 'Geometric object tree has depth 2 and 8 object nodes (vs. 2 actual objects)',\n",
       " 'Initializing epsilon function...',\n",
       " 'Solving for band polarization: .',\n",
       " 'Initializing fields to random numbers...',\n",
       " '22 k-points',\n",
       " '  Vector3<0.1, 0.0, 0.0>',\n",
       " '  Vector3<0.19047619047619047, 0.0, 0.0>',\n",
       " '  Vector3<0.28095238095238095, 0.0, 0.0>',\n",
       " '  Vector3<0.37142857142857144, 0.0, 0.0>',\n",
       " '  Vector3<0.46190476190476193, 0.0, 0.0>',\n",
       " '  Vector3<0.5523809523809524, 0.0, 0.0>',\n",
       " '  Vector3<0.6428571428571428, 0.0, 0.0>',\n",
       " '  Vector3<0.7333333333333333, 0.0, 0.0>',\n",
       " '  Vector3<0.8238095238095238, 0.0, 0.0>',\n",
       " '  Vector3<0.9142857142857143, 0.0, 0.0>',\n",
       " '  Vector3<1.0047619047619047, 0.0, 0.0>',\n",
       " '  Vector3<1.0952380952380953, 0.0, 0.0>',\n",
       " '  Vector3<1.1857142857142857, 0.0, 0.0>',\n",
       " '  Vector3<1.2761904761904763, 0.0, 0.0>',\n",
       " '  Vector3<1.3666666666666667, 0.0, 0.0>',\n",
       " '  Vector3<1.4571428571428573, 0.0, 0.0>',\n",
       " '  Vector3<1.5476190476190477, 0.0, 0.0>',\n",
       " '  Vector3<1.638095238095238, 0.0, 0.0>',\n",
       " '  Vector3<1.7285714285714286, 0.0, 0.0>',\n",
       " '  Vector3<1.819047619047619, 0.0, 0.0>',\n",
       " '  Vector3<1.9095238095238096, 0.0, 0.0>',\n",
       " '  Vector3<2.0, 0.0, 0.0>',\n",
       " 'elapsed time for initialization: 0.0075299739837646484',\n",
       " 'solve_kpoint (0.1,0,0):',\n",
       " 'Solving for bands 1 to 4...',\n",
       " 'Finished solving for bands 1 to 4 after 27 iterations.',\n",
       " 'freqs:, 1, 0.1, 0, 0, 0.1, 0.0794202, 0.0849623, 0.297663, 0.37481',\n",
       " 'elapsed time for k point: 0.08509659767150879',\n",
       " 'solve_kpoint (0.190476,0,0):',\n",
       " 'Solving for bands 1 to 4...',\n",
       " 'Finished solving for bands 1 to 4 after 14 iterations.',\n",
       " 'freqs:, 2, 0.190476, 0, 0, 0.190476, 0.150218, 0.160326, 0.324018, 0.383469',\n",
       " 'elapsed time for k point: 0.047899723052978516',\n",
       " 'solve_kpoint (0.280952,0,0):',\n",
       " 'Solving for bands 1 to 4...',\n",
       " 'Finished solving for bands 1 to 4 after 11 iterations.',\n",
       " 'freqs:, 3, 0.280952, 0, 0, 0.280952, 0.219035, 0.232794, 0.36303, 0.398284',\n",
       " 'elapsed time for k point: 0.03527998924255371',\n",
       " 'solve_kpoint (0.371429,0,0):',\n",
       " 'Solving for bands 1 to 4...',\n",
       " 'Finished solving for bands 1 to 4 after 11 iterations.',\n",
       " 'freqs:, 4, 0.371429, 0, 0, 0.371429, 0.284828, 0.301118, 0.410931, 0.417364',\n",
       " 'elapsed time for k point: 0.0352778434753418',\n",
       " 'solve_kpoint (0.461905,0,0):',\n",
       " 'Solving for bands 1 to 4...',\n",
       " 'Finished solving for bands 1 to 4 after 13 iterations.',\n",
       " 'freqs:, 5, 0.461905, 0, 0, 0.461905, 0.34589, 0.36477, 0.440364, 0.463544',\n",
       " 'elapsed time for k point: 0.04119586944580078',\n",
       " 'solve_kpoint (0.552381,0,0):',\n",
       " 'Solving for bands 1 to 4...',\n",
       " 'Finished solving for bands 1 to 4 after 15 iterations.',\n",
       " 'freqs:, 6, 0.552381, 0, 0, 0.552381, 0.398211, 0.424058, 0.470557, 0.516771',\n",
       " 'elapsed time for k point: 0.04709887504577637',\n",
       " 'solve_kpoint (0.642857,0,0):',\n",
       " 'Solving for bands 1 to 4...',\n",
       " 'Finished solving for bands 1 to 4 after 16 iterations.',\n",
       " 'freqs:, 7, 0.642857, 0, 0, 0.642857, 0.436446, 0.479309, 0.513457, 0.567861',\n",
       " 'elapsed time for k point: 0.050104618072509766',\n",
       " 'solve_kpoint (0.733333,0,0):',\n",
       " 'Solving for bands 1 to 4...',\n",
       " 'Finished solving for bands 1 to 4 after 17 iterations.',\n",
       " 'freqs:, 8, 0.733333, 0, 0, 0.733333, 0.463503, 0.529944, 0.566628, 0.615651',\n",
       " 'elapsed time for k point: 0.0529627799987793',\n",
       " 'solve_kpoint (0.82381,0,0):',\n",
       " 'Solving for bands 1 to 4...',\n",
       " 'Finished solving for bands 1 to 4 after 18 iterations.',\n",
       " 'freqs:, 9, 0.82381, 0, 0, 0.82381, 0.485926, 0.574409, 0.623957, 0.66078',\n",
       " 'elapsed time for k point: 0.05662083625793457',\n",
       " 'solve_kpoint (0.914286,0,0):',\n",
       " 'Solving for bands 1 to 4...',\n",
       " 'Finished solving for bands 1 to 4 after 21 iterations.',\n",
       " 'freqs:, 10, 0.914286, 0, 0, 0.914286, 0.506776, 0.611532, 0.682582, 0.698461',\n",
       " 'elapsed time for k point: 0.06470108032226562',\n",
       " 'solve_kpoint (1.00476,0,0):',\n",
       " 'Solving for bands 1 to 4...',\n",
       " 'Finished solving for bands 1 to 4 after 21 iterations.',\n",
       " 'freqs:, 11, 1.00476, 0, 0, 1.00476, 0.527159, 0.642054, 0.725485, 0.740367',\n",
       " 'elapsed time for k point: 0.06516051292419434',\n",
       " 'solve_kpoint (1.09524,0,0):',\n",
       " 'Solving for bands 1 to 4...',\n",
       " 'Finished solving for bands 1 to 4 after 24 iterations.',\n",
       " 'freqs:, 12, 1.09524, 0, 0, 1.09524, 0.547509, 0.667911, 0.747291, 0.775545',\n",
       " 'elapsed time for k point: 0.07437825202941895',\n",
       " 'solve_kpoint (1.18571,0,0):',\n",
       " 'Solving for bands 1 to 4...',\n",
       " 'Finished solving for bands 1 to 4 after 13 iterations.',\n",
       " 'freqs:, 13, 1.18571, 0, 0, 1.18571, 0.568008, 0.690839, 0.766489, 0.796961',\n",
       " 'elapsed time for k point: 0.04303407669067383',\n",
       " 'solve_kpoint (1.27619,0,0):',\n",
       " 'Solving for bands 1 to 4...',\n",
       " 'Finished solving for bands 1 to 4 after 11 iterations.',\n",
       " 'freqs:, 14, 1.27619, 0, 0, 1.27619, 0.588733, 0.711999, 0.784403, 0.816743',\n",
       " 'elapsed time for k point: 0.0406804084777832',\n",
       " 'solve_kpoint (1.36667,0,0):',\n",
       " 'Solving for bands 1 to 4...',\n",
       " 'Finished solving for bands 1 to 4 after 10 iterations.',\n",
       " 'freqs:, 15, 1.36667, 0, 0, 1.36667, 0.609713, 0.732111, 0.80173, 0.835754',\n",
       " 'elapsed time for k point: 0.03243279457092285',\n",
       " 'solve_kpoint (1.45714,0,0):',\n",
       " 'Solving for bands 1 to 4...',\n",
       " 'Finished solving for bands 1 to 4 after 10 iterations.',\n",
       " 'freqs:, 16, 1.45714, 0, 0, 1.45714, 0.630952, 0.751623, 0.818853, 0.854324',\n",
       " 'elapsed time for k point: 0.03248262405395508',\n",
       " 'solve_kpoint (1.54762,0,0):',\n",
       " 'Solving for bands 1 to 4...',\n",
       " 'Finished solving for bands 1 to 4 after 10 iterations.',\n",
       " 'freqs:, 17, 1.54762, 0, 0, 1.54762, 0.652443, 0.770818, 0.83599, 0.872643',\n",
       " 'elapsed time for k point: 0.03250932693481445',\n",
       " 'solve_kpoint (1.6381,0,0):',\n",
       " 'Solving for bands 1 to 4...',\n",
       " 'Finished solving for bands 1 to 4 after 9 iterations.',\n",
       " 'freqs:, 18, 1.6381, 0, 0, 1.6381, 0.674172, 0.78988, 0.853267, 0.890837',\n",
       " 'elapsed time for k point: 0.029952049255371094',\n",
       " 'solve_kpoint (1.72857,0,0):',\n",
       " 'Solving for bands 1 to 4...',\n",
       " 'Finished solving for bands 1 to 4 after 9 iterations.',\n",
       " 'freqs:, 19, 1.72857, 0, 0, 1.72857, 0.696125, 0.808928, 0.870757, 0.908996',\n",
       " 'elapsed time for k point: 0.029516935348510742',\n",
       " 'solve_kpoint (1.81905,0,0):',\n",
       " 'Solving for bands 1 to 4...',\n",
       " 'Finished solving for bands 1 to 4 after 9 iterations.',\n",
       " 'freqs:, 20, 1.81905, 0, 0, 1.81905, 0.718285, 0.828044, 0.888503, 0.927185',\n",
       " 'elapsed time for k point: 0.029439926147460938',\n",
       " 'solve_kpoint (1.90952,0,0):',\n",
       " 'Solving for bands 1 to 4...',\n",
       " 'Finished solving for bands 1 to 4 after 9 iterations.',\n",
       " 'freqs:, 21, 1.90952, 0, 0, 1.90952, 0.740637, 0.847281, 0.906527, 0.945451',\n",
       " 'elapsed time for k point: 0.0294950008392334',\n",
       " 'solve_kpoint (2,0,0):',\n",
       " 'Solving for bands 1 to 4...',\n",
       " 'Finished solving for bands 1 to 4 after 9 iterations.',\n",
       " 'freqs:, 22, 2, 0, 0, 2, 0.763167, 0.866673, 0.924839, 0.963831',\n",
       " 'elapsed time for k point: 0.029565095901489258',\n",
       " 'Band 1 range: 0.07942016365368101 at Vector3<0.1, 0.0, 0.0> to 0.7631671678430061 at Vector3<2.0, 0.0, 0.0>',\n",
       " 'Band 2 range: 0.08496230254981353 at Vector3<0.1, 0.0, 0.0> to 0.8666725405654854 at Vector3<2.0, 0.0, 0.0>',\n",
       " 'Band 3 range: 0.29766263809524895 at Vector3<0.1, 0.0, 0.0> to 0.924839074393488 at Vector3<2.0, 0.0, 0.0>',\n",
       " 'Band 4 range: 0.37480990708126916 at Vector3<0.1, 0.0, 0.0> to 0.9638311239052701 at Vector3<2.0, 0.0, 0.0>',\n",
       " 'total elapsed time for run: 0.9928672313690186',\n",
       " 'done',\n",
       " '']"
      ]
     },
     "execution_count": 7,
     "metadata": {},
     "output_type": "execute_result"
    }
   ],
   "source": [
    "output_text = output.stdout\n",
    "output_text.split('\\n')"
   ]
  },
  {
   "cell_type": "markdown",
   "metadata": {},
   "source": [
    "### Analyzing the results\n",
    "\n",
    "Let's parse every line that begins with 'freqs :' in the output.\n",
    "\n",
    "Notice the lines all have the same syntax `'freqs:, 22, 2, 0, 0, 2, 0.846477, 0.874081, 1.04852, 1.16543',`\n",
    "\n",
    "i.e. for all the lines that start by 'freqs:' contains all the information we need in the form `freqs:, k index, kx, ky, kz, kmag/2pi, band 1, band 2, band 3, band 4, band 5, band 6, band 7, band 8 ...`. Python's `split` function and treating strings as arrays (slicing and indexing) is handy :"
   ]
  },
  {
   "cell_type": "code",
   "execution_count": 8,
   "metadata": {},
   "outputs": [
    {
     "name": "stdout",
     "output_type": "stream",
     "text": [
      "freqs:, 1, 0.1, 0, 0, 0.1, 0.0794202, 0.0849623, 0.297663, 0.37481\n",
      "['freqs:', '1', '0.1', '0', '0', '0.1', '0.0794202', '0.0849623', '0.297663', '0.37481']\n",
      "freqs:, 2, 0.190476, 0, 0, 0.190476, 0.150218, 0.160326, 0.324018, 0.383469\n",
      "['freqs:', '2', '0.190476', '0', '0', '0.190476', '0.150218', '0.160326', '0.324018', '0.383469']\n",
      "freqs:, 3, 0.280952, 0, 0, 0.280952, 0.219035, 0.232794, 0.36303, 0.398284\n",
      "['freqs:', '3', '0.280952', '0', '0', '0.280952', '0.219035', '0.232794', '0.36303', '0.398284']\n",
      "freqs:, 4, 0.371429, 0, 0, 0.371429, 0.284828, 0.301118, 0.410931, 0.417364\n",
      "['freqs:', '4', '0.371429', '0', '0', '0.371429', '0.284828', '0.301118', '0.410931', '0.417364']\n",
      "freqs:, 5, 0.461905, 0, 0, 0.461905, 0.34589, 0.36477, 0.440364, 0.463544\n",
      "['freqs:', '5', '0.461905', '0', '0', '0.461905', '0.34589', '0.36477', '0.440364', '0.463544']\n",
      "freqs:, 6, 0.552381, 0, 0, 0.552381, 0.398211, 0.424058, 0.470557, 0.516771\n",
      "['freqs:', '6', '0.552381', '0', '0', '0.552381', '0.398211', '0.424058', '0.470557', '0.516771']\n",
      "freqs:, 7, 0.642857, 0, 0, 0.642857, 0.436446, 0.479309, 0.513457, 0.567861\n",
      "['freqs:', '7', '0.642857', '0', '0', '0.642857', '0.436446', '0.479309', '0.513457', '0.567861']\n",
      "freqs:, 8, 0.733333, 0, 0, 0.733333, 0.463503, 0.529944, 0.566628, 0.615651\n",
      "['freqs:', '8', '0.733333', '0', '0', '0.733333', '0.463503', '0.529944', '0.566628', '0.615651']\n",
      "freqs:, 9, 0.82381, 0, 0, 0.82381, 0.485926, 0.574409, 0.623957, 0.66078\n",
      "['freqs:', '9', '0.82381', '0', '0', '0.82381', '0.485926', '0.574409', '0.623957', '0.66078']\n",
      "freqs:, 10, 0.914286, 0, 0, 0.914286, 0.506776, 0.611532, 0.682582, 0.698461\n",
      "['freqs:', '10', '0.914286', '0', '0', '0.914286', '0.506776', '0.611532', '0.682582', '0.698461']\n",
      "freqs:, 11, 1.00476, 0, 0, 1.00476, 0.527159, 0.642054, 0.725485, 0.740367\n",
      "['freqs:', '11', '1.00476', '0', '0', '1.00476', '0.527159', '0.642054', '0.725485', '0.740367']\n",
      "freqs:, 12, 1.09524, 0, 0, 1.09524, 0.547509, 0.667911, 0.747291, 0.775545\n",
      "['freqs:', '12', '1.09524', '0', '0', '1.09524', '0.547509', '0.667911', '0.747291', '0.775545']\n",
      "freqs:, 13, 1.18571, 0, 0, 1.18571, 0.568008, 0.690839, 0.766489, 0.796961\n",
      "['freqs:', '13', '1.18571', '0', '0', '1.18571', '0.568008', '0.690839', '0.766489', '0.796961']\n",
      "freqs:, 14, 1.27619, 0, 0, 1.27619, 0.588733, 0.711999, 0.784403, 0.816743\n",
      "['freqs:', '14', '1.27619', '0', '0', '1.27619', '0.588733', '0.711999', '0.784403', '0.816743']\n",
      "freqs:, 15, 1.36667, 0, 0, 1.36667, 0.609713, 0.732111, 0.80173, 0.835754\n",
      "['freqs:', '15', '1.36667', '0', '0', '1.36667', '0.609713', '0.732111', '0.80173', '0.835754']\n",
      "freqs:, 16, 1.45714, 0, 0, 1.45714, 0.630952, 0.751623, 0.818853, 0.854324\n",
      "['freqs:', '16', '1.45714', '0', '0', '1.45714', '0.630952', '0.751623', '0.818853', '0.854324']\n",
      "freqs:, 17, 1.54762, 0, 0, 1.54762, 0.652443, 0.770818, 0.83599, 0.872643\n",
      "['freqs:', '17', '1.54762', '0', '0', '1.54762', '0.652443', '0.770818', '0.83599', '0.872643']\n",
      "freqs:, 18, 1.6381, 0, 0, 1.6381, 0.674172, 0.78988, 0.853267, 0.890837\n",
      "['freqs:', '18', '1.6381', '0', '0', '1.6381', '0.674172', '0.78988', '0.853267', '0.890837']\n",
      "freqs:, 19, 1.72857, 0, 0, 1.72857, 0.696125, 0.808928, 0.870757, 0.908996\n",
      "['freqs:', '19', '1.72857', '0', '0', '1.72857', '0.696125', '0.808928', '0.870757', '0.908996']\n",
      "freqs:, 20, 1.81905, 0, 0, 1.81905, 0.718285, 0.828044, 0.888503, 0.927185\n",
      "['freqs:', '20', '1.81905', '0', '0', '1.81905', '0.718285', '0.828044', '0.888503', '0.927185']\n",
      "freqs:, 21, 1.90952, 0, 0, 1.90952, 0.740637, 0.847281, 0.906527, 0.945451\n",
      "['freqs:', '21', '1.90952', '0', '0', '1.90952', '0.740637', '0.847281', '0.906527', '0.945451']\n",
      "freqs:, 22, 2, 0, 0, 2, 0.763167, 0.866673, 0.924839, 0.963831\n",
      "['freqs:', '22', '2', '0', '0', '2', '0.763167', '0.866673', '0.924839', '0.963831']\n"
     ]
    }
   ],
   "source": [
    "freqs = []\n",
    "ks = []\n",
    "line_header = \"freqs:\"\n",
    "for ln in output_text.split('\\n'):\n",
    "    if ln.startswith(line_header):\n",
    "        print(ln)\n",
    "        line = ln.split(', ')\n",
    "        print(line)\n",
    "        ks.append([line[2], line[3], line[4]])\n",
    "        freqs.append([line[-4], line[-3], line[-2], line[-1]])\n",
    "        \n",
    "freqs = np.array(freqs, dtype=np.float32)\n",
    "ks = np.array(ks, dtype=np.float32)"
   ]
  },
  {
   "cell_type": "code",
   "execution_count": 9,
   "metadata": {},
   "outputs": [
    {
     "name": "stdout",
     "output_type": "stream",
     "text": [
      "[[0.0794202 0.0849623 0.297663  0.37481  ]\n",
      " [0.150218  0.160326  0.324018  0.383469 ]\n",
      " [0.219035  0.232794  0.36303   0.398284 ]\n",
      " [0.284828  0.301118  0.410931  0.417364 ]\n",
      " [0.34589   0.36477   0.440364  0.463544 ]\n",
      " [0.398211  0.424058  0.470557  0.516771 ]\n",
      " [0.436446  0.479309  0.513457  0.567861 ]\n",
      " [0.463503  0.529944  0.566628  0.615651 ]\n",
      " [0.485926  0.574409  0.623957  0.66078  ]\n",
      " [0.506776  0.611532  0.682582  0.698461 ]\n",
      " [0.527159  0.642054  0.725485  0.740367 ]\n",
      " [0.547509  0.667911  0.747291  0.775545 ]\n",
      " [0.568008  0.690839  0.766489  0.796961 ]\n",
      " [0.588733  0.711999  0.784403  0.816743 ]\n",
      " [0.609713  0.732111  0.80173   0.835754 ]\n",
      " [0.630952  0.751623  0.818853  0.854324 ]\n",
      " [0.652443  0.770818  0.83599   0.872643 ]\n",
      " [0.674172  0.78988   0.853267  0.890837 ]\n",
      " [0.696125  0.808928  0.870757  0.908996 ]\n",
      " [0.718285  0.828044  0.888503  0.927185 ]\n",
      " [0.740637  0.847281  0.906527  0.945451 ]\n",
      " [0.763167  0.866673  0.924839  0.963831 ]]\n",
      "[[0.1      0.       0.      ]\n",
      " [0.190476 0.       0.      ]\n",
      " [0.280952 0.       0.      ]\n",
      " [0.371429 0.       0.      ]\n",
      " [0.461905 0.       0.      ]\n",
      " [0.552381 0.       0.      ]\n",
      " [0.642857 0.       0.      ]\n",
      " [0.733333 0.       0.      ]\n",
      " [0.82381  0.       0.      ]\n",
      " [0.914286 0.       0.      ]\n",
      " [1.00476  0.       0.      ]\n",
      " [1.09524  0.       0.      ]\n",
      " [1.18571  0.       0.      ]\n",
      " [1.27619  0.       0.      ]\n",
      " [1.36667  0.       0.      ]\n",
      " [1.45714  0.       0.      ]\n",
      " [1.54762  0.       0.      ]\n",
      " [1.6381   0.       0.      ]\n",
      " [1.72857  0.       0.      ]\n",
      " [1.81905  0.       0.      ]\n",
      " [1.90952  0.       0.      ]\n",
      " [2.       0.       0.      ]]\n"
     ]
    }
   ],
   "source": [
    "print(freqs)\n",
    "print(ks)"
   ]
  },
  {
   "cell_type": "markdown",
   "metadata": {},
   "source": [
    "We can now plot. Let's add the lightline too :"
   ]
  },
  {
   "cell_type": "code",
   "execution_count": 12,
   "metadata": {},
   "outputs": [
    {
     "data": {
      "text/plain": [
       "<matplotlib.legend.Legend at 0x2aee299cc210>"
      ]
     },
     "execution_count": 12,
     "metadata": {},
     "output_type": "execute_result"
    },
    {
     "data": {
      "image/png": "[encoded data removed]",
      "text/plain": [
       "<Figure size 432x288 with 1 Axes>"
      ]
     },
     "metadata": {
      "needs_background": "light"
     },
     "output_type": "display_data"
    }
   ],
   "source": [
    "fig, ax = plt.subplots()\n",
    "\n",
    "ax.plot(ks[:,0], freqs)\n",
    "ax.plot(ks[:,0], ks[:,0]/1.45, 'k-', linewidth=3, label='SiO2')\n",
    "ax.plot(ks[:,0], ks[:,0]/1, '-', color='gray', linewidth=3, label='Air')\n",
    "ax.plot(ks[:,0], ks[:,0]/3.45, '--', color='gray', linewidth=3, label='Si')\n",
    "ax.set_xlabel('$k_x$')\n",
    "ax.set_ylabel('$\\omega$')\n",
    "ax.set_xlim([0,2])\n",
    "ax.set_ylim([0,1])\n",
    "ax.legend()"
   ]
  },
  {
   "cell_type": "markdown",
   "metadata": {},
   "source": [
    "### Addendum : saving/loading files from Python\n",
    "\n",
    "Google is your friend!"
   ]
  },
  {
   "cell_type": "code",
   "execution_count": 12,
   "metadata": {},
   "outputs": [
    {
     "name": "stdout",
     "output_type": "stream",
     "text": [
      "test\n"
     ]
    }
   ],
   "source": [
    "# Saving text files\n",
    "string = 'test' # could be straight up output.stdout\n",
    "text_file = open(\"output.txt\", \"w\")\n",
    "text_file.write(string)\n",
    "text_file.close()\n",
    "\n",
    "# Loading text files\n",
    "text_file = open(\"output.txt\", \"r\")\n",
    "print(text_file.readline())"
   ]
  },
  {
   "cell_type": "code",
   "execution_count": 13,
   "metadata": {},
   "outputs": [
    {
     "name": "stdout",
     "output_type": "stream",
     "text": [
      "[[0.0794202 0.0849623 0.297663  0.37481  ]\n",
      " [0.150218  0.160326  0.324018  0.383469 ]\n",
      " [0.219035  0.232794  0.36303   0.398284 ]\n",
      " [0.284828  0.301118  0.410931  0.417364 ]\n",
      " [0.34589   0.36477   0.440364  0.463544 ]\n",
      " [0.398211  0.424058  0.470557  0.516771 ]\n",
      " [0.436446  0.479309  0.513457  0.567861 ]\n",
      " [0.463503  0.529944  0.566628  0.615651 ]\n",
      " [0.485926  0.574409  0.623957  0.66078  ]\n",
      " [0.506776  0.611532  0.682582  0.698461 ]\n",
      " [0.527159  0.642054  0.725485  0.740367 ]\n",
      " [0.547509  0.667911  0.747291  0.775545 ]\n",
      " [0.568008  0.690839  0.766489  0.796961 ]\n",
      " [0.588733  0.711999  0.784403  0.816743 ]\n",
      " [0.609713  0.732111  0.80173   0.835754 ]\n",
      " [0.630952  0.751623  0.818853  0.854324 ]\n",
      " [0.652443  0.770818  0.83599   0.872643 ]\n",
      " [0.674172  0.78988   0.853267  0.890837 ]\n",
      " [0.696125  0.808928  0.870757  0.908996 ]\n",
      " [0.718285  0.828044  0.888503  0.927185 ]\n",
      " [0.740637  0.847281  0.906527  0.945451 ]\n",
      " [0.763167  0.866673  0.924839  0.963831 ]]\n"
     ]
    }
   ],
   "source": [
    "# Saving numpy arrays\n",
    "array = freqs\n",
    "np.save('array.npy', array)\n",
    "\n",
    "# Loading numpy arrays\n",
    "array_from_file = np.load('array.npy')\n",
    "print(array_from_file)\n",
    "\n",
    "# Saving general objects : pickle, dill, etc.\n",
    "\n",
    "# MEEP/MPB likes the h5 format; there is also a package for that (see next notebook)\n",
    "# http://docs.h5py.org/en/stable/quick.html"
   ]
  },
  {
   "cell_type": "markdown",
   "metadata": {},
   "source": [
    "# Waveguide parameters\n",
    "\n",
    "There is an inverse-solver that can return the wavevector at a specified frequency (see https://mpb.readthedocs.io/en/latest/Python_User_Interface/#the-inverse-problem-k-as-a-function-of-frequency). It needs a few parameters, since it is an iterative solver :"
   ]
  },
  {
   "cell_type": "code",
   "execution_count": 14,
   "metadata": {},
   "outputs": [],
   "source": [
    "%%capture\n",
    "\n",
    "f_mode = 1/1.55   # frequency corresponding to 1.55 um                                                                                                             \n",
    "band_min = 1\n",
    "band_max = 1 # Look at the lowest mode\n",
    "kdir = mp.Vector3(1)\n",
    "tol = 1e-6\n",
    "kmag_guess = f_mode*3.45\n",
    "kmag_min = f_mode*0.1\n",
    "kmag_max = f_mode*4.0\n",
    "\n",
    "k_fmode = ms.find_k(mp.NO_PARITY, f_mode, band_min, band_max, kdir, tol, kmag_guess,\n",
    "          kmag_min, kmag_max, mpb.output_poynting_x)"
   ]
  },
  {
   "cell_type": "markdown",
   "metadata": {},
   "source": [
    "The dispersion relation yields the effective index :\n",
    "\n",
    "$$ n_{eff} = \\frac{c}{v_{phase}} = \\frac{c}{\\omega/k} = \\frac{ck}{\\omega} $$"
   ]
  },
  {
   "cell_type": "code",
   "execution_count": 15,
   "metadata": {},
   "outputs": [
    {
     "data": {
      "text/plain": [
       "2.3514721959617"
      ]
     },
     "execution_count": 15,
     "metadata": {},
     "output_type": "execute_result"
    }
   ],
   "source": [
    "k_fmode[0] / f_mode"
   ]
  },
  {
   "cell_type": "markdown",
   "metadata": {},
   "source": [
    "This is valid at this wavelength. For higher-order derivatives (group velocity, dispersion parameter, etc.), MPB will NOT give physically accurate results by default as commercial solvers because it does not include material dispersion. This can be accounted for, however, see https://github.com/abulnaga1/MPB_Simulations#material_dispersion."
   ]
  }
 ],
 "metadata": {
  "kernelspec": {
   "display_name": "mp [~/home/ELE559/anaconda3/envs/mp/]",
   "language": "python",
   "name": "conda_mp"
  },
  "language_info": {
   "codemirror_mode": {
    "name": "ipython",
    "version": 3
   },
   "file_extension": ".py",
   "mimetype": "text/x-python",
   "name": "python",
   "nbconvert_exporter": "python",
   "pygments_lexer": "ipython3",
   "version": "3.7.6"
  }
 },
 "nbformat": 4,
 "nbformat_minor": 4
}
