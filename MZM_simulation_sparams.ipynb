{
 "cells": [
  {
   "cell_type": "markdown",
   "metadata": {
    "slideshow": {
     "slide_type": "slide"
    }
   },
   "source": [
    "# Using S-Parameters to simulate whole circuits\n",
    "\n",
    "It is computationally expensive to simulate every device in a circuit simultaneously using MEEP or other FDTD methods. Instead, we can simulate each individual component once in order to generate a table of s-parameters and their corresponding frequencies. With the frequency-dependent s-parameters known for each element in a photonic circuit, we can cascade them together to determine the steady-state behavior of the circuit as a whole.\n",
    "\n",
    "The s-parameters for each device form a matrix of complex numbers (phase and magnitude), with one column per input port and one row per output port. Consecutive photonic circuit elements are cascaded by multiplying the corresponding matrices together:\n"
   ]
  },
  {
   "cell_type": "markdown",
   "metadata": {
    "slideshow": {
     "slide_type": "slide"
    }
   },
   "source": [
    "# Maxwell's Equations\n",
    "\n",
    "Example s-parameter calculation with a 3-component photonic circuit with two external inputs and two external outputs:\n",
    "\n",
    "$$\\left(\\begin{matrix}\n",
    "out_1 \\\\ out_2\n",
    "\\end{matrix}\\right)\n",
    "=\n",
    "\\left(\\begin{matrix}\n",
    "A_{11} & A_{12} & A_{13}\\\\\n",
    "A_{21} & A_{22} & A_{23}\\\\\n",
    "\\end{matrix}\\right)\n",
    "\\left(\\begin{matrix}\n",
    "B_{11}\\\\\n",
    "B_{21}\\\\\n",
    "B_{31}\\\\\n",
    "\\end{matrix}\\right)\n",
    "\\left(\\begin{matrix}\n",
    "C_{11} & C_{12}\\\\\n",
    "\\end{matrix}\\right)\n",
    "\\left(\\begin{matrix}\n",
    "in_1 \\\\ in_2\\\\\n",
    "\\end{matrix}\\right)\n",
    "$$"
   ]
  },
  {
   "cell_type": "markdown",
   "metadata": {
    "slideshow": {
     "slide_type": "subslide"
    }
   },
   "source": [
    "# Simphony\n",
    "Simphony is a python module designed to automate the process of running the s-parameter cascade, with a set of basic photonic building-blocks already included and efficient calculation of frequency-dependent s-parameters for these blocks."
   ]
  },
  {
   "cell_type": "code",
   "execution_count": 1,
   "metadata": {},
   "outputs": [],
   "source": [
    "#Library containing models of basic components\n",
    "from simphony.library import siepic           \n",
    "\n",
    "#Class representing a photonic circuit\n",
    "from simphony.netlist import Subcircuit\n",
    "\n",
    "#Class representing a photonic circuit frequency sweep simulation\n",
    "from simphony.simulation import SweepSimulation\n",
    "\n",
    "#Helper function\n",
    "from simphony.tools import freq2wl\n",
    "\n",
    "import matplotlib.pyplot as plt"
   ]
  },
  {
   "cell_type": "markdown",
   "metadata": {},
   "source": [
    "# Creating a Photonic Circuit\n",
    "\n",
    "A circuit (Subcircuit) is comprised of Elements. Each element is an instance of a Model. Multiple identical elements may be instantiated from the same Model\n",
    "\n",
    "Circuit design approach:\n",
    " - Define each unique Model used\n",
    " - Create Subcircuit\n",
    " - Used Subcircuit.add to automatically instantiate elements from the predefined models\n",
    " \n",
    "Once a circuit is designed, it may be simulated by specifying frequency start and end points"
   ]
  },
  {
   "cell_type": "markdown",
   "metadata": {},
   "source": [
    "# Example: Mach-Zehnder Modulator\n",
    " - Grating coupler on either side\n",
    " - Two couplers with different-lengthed waveguides between them"
   ]
  },
  {
   "cell_type": "code",
   "execution_count": 2,
   "metadata": {},
   "outputs": [],
   "source": [
    "#Define all photonic elements using basic library components\n",
    "gratingCoupler = siepic.ebeam_gc_te1550()\n",
    "longWaveguide  = siepic.ebeam_wg_integral_1550(length=200e-6)\n",
    "shortWaveguide = siepic.ebeam_wg_integral_1550(length=100e-6)\n",
    "coupler        = siepic.ebeam_bdc_te1550() #gap = 2e-7, length=10e-6\n",
    "terminator     = siepic.ebeam_terminator_te1550()"
   ]
  },
  {
   "cell_type": "code",
   "execution_count": 3,
   "metadata": {},
   "outputs": [],
   "source": [
    "#Create the circuit and give it a name\n",
    "circuit = Subcircuit(\"MZM\")\n",
    "\n",
    "#Create each Element from its Model, giving each one a UNIQUE name\n",
    "e = circuit.add([\n",
    "    (gratingCoupler,    \"input\"),\n",
    "    (gratingCoupler, \"secInput\"),\n",
    "    (       coupler, \"splitter\"),\n",
    "    ( longWaveguide,     \"long\"),\n",
    "    (shortWaveguide,    \"short\"),\n",
    "    (       coupler, \"combiner\"),\n",
    "    (gratingCoupler,   \"output\"),\n",
    "    (gratingCoupler,     \"term\")\n",
    "])"
   ]
  },
  {
   "cell_type": "markdown",
   "metadata": {},
   "source": [
    "# Pins\n",
    "\n",
    "Each port of a circuit element is called a pin in Simphony and assigned a name. Pins may be connected together within a subcircuit, and any disconnected pins are available externally as overall inputs/outputs. The default pin names may be found in the documentation at:\n",
    "\n",
    "https://simphonyphotonics.readthedocs.io/en/stable/index.html\n",
    "\n",
    "They are typically of the form \"n1\", \"n2\", \"n3\", etc.\n",
    "\n",
    "It is helpful to assign externally accessibly pins you want to access unique names. The \"n2\" pins of the grating couplers represent their external connections."
   ]
  },
  {
   "cell_type": "code",
   "execution_count": 4,
   "metadata": {},
   "outputs": [],
   "source": [
    "circuit.elements[\"input\"].pins[\"n2\"] = \"input\"\n",
    "circuit.elements[\"secInput\"].pins[\"n2\"] = \"secInput\"\n",
    "circuit.elements[\"output\"].pins[\"n2\"] = \"output\""
   ]
  },
  {
   "cell_type": "markdown",
   "metadata": {},
   "source": [
    "While it is not required, your code can be more sensible if you also assign the pin names of some of the internal elements. These may all be assigned at once:"
   ]
  },
  {
   "cell_type": "code",
   "execution_count": 5,
   "metadata": {},
   "outputs": [],
   "source": [
    "circuit.elements['splitter'].pins = (\"mainInput\", \"secInput\",\n",
    "                                    \"output1\", \"output2\")\n",
    "circuit.elements['combiner'].pins = (\"input1\", \"input2\",\n",
    "                                    \"mainOutput\", \"secOutput\")"
   ]
  },
  {
   "cell_type": "markdown",
   "metadata": {},
   "source": [
    "# Connections\n",
    "Each pin may be connected to one other pin using circuit.connect or circuit.connect_many. Either function accepts a desired connection in the form of a tuple of length 4:\n",
    "\n",
    "(first element name, first element port, connecting element name, connecting element port)\n",
    "\n",
    "The order does not matter"
   ]
  },
  {
   "cell_type": "code",
   "execution_count": 6,
   "metadata": {},
   "outputs": [],
   "source": [
    "# circuit.connect_many([\n",
    "#     (   \"input\",         \"n1\", \"splitter\", \"mainInput\"),\n",
    "#     (\"secInput\",         \"n1\", \"splitter\",  \"secInput\"),\n",
    "#     (\"splitter\",    \"output1\",  \"output\",        \"n1\"),\n",
    "#     (\"splitter\",    \"output2\",    \"term\",        \"n1\"),\n",
    "# ])"
   ]
  },
  {
   "cell_type": "code",
   "execution_count": 7,
   "metadata": {},
   "outputs": [],
   "source": [
    "# circuit.connect_many([\n",
    "#     (   \"input\",         \"n1\", \"output\", \"n1\"),\n",
    "# ])"
   ]
  },
  {
   "cell_type": "code",
   "execution_count": 8,
   "metadata": {},
   "outputs": [],
   "source": [
    "circuit.connect_many([\n",
    "    (   \"input\",         \"n1\", \"splitter\", \"mainInput\"),\n",
    "#    (\"secInput\",         \"n1\", \"splitter\",  \"secInput\"),\n",
    "    (\"splitter\",    \"output1\",     \"long\",        \"n1\"),\n",
    "    (\"splitter\",    \"output2\",    \"short\",        \"n1\"),\n",
    "    (    \"long\",         \"n2\", \"combiner\",    \"input1\"),\n",
    "    (   \"short\",         \"n2\", \"combiner\",    \"input2\"),\n",
    "    (\"combiner\", \"mainOutput\",   \"output\",        \"n1\"),\n",
    "#    (\"combiner\",  \"secOutput\",     \"term\",        \"n1\")\n",
    "])"
   ]
  },
  {
   "cell_type": "markdown",
   "metadata": {},
   "source": [
    "# Simulation\n",
    "\n",
    "With the circuit fully specified, we can now simulate it. We use a SweepSimulation that calculates the input/output relationship for a series of linearly spaced wavelengths:"
   ]
  },
  {
   "cell_type": "code",
   "execution_count": 9,
   "metadata": {},
   "outputs": [],
   "source": [
    "simulation = SweepSimulation(circuit, 1500e-9, 1600e-9)\n",
    "result     = simulation.simulate()"
   ]
  },
  {
   "cell_type": "markdown",
   "metadata": {},
   "source": [
    "# Extract and Plot Data\n",
    "\n",
    "We can extract the data from the result object using the pin names and plot it"
   ]
  },
  {
   "cell_type": "code",
   "execution_count": 10,
   "metadata": {},
   "outputs": [],
   "source": [
    "f, s = result.data(\"input\", \"output\")\n",
    "w = freq2wl(f)"
   ]
  },
  {
   "cell_type": "code",
   "execution_count": 11,
   "metadata": {},
   "outputs": [
    {
     "data": {
      "text/plain": [
       "Text(0, 0.5, 'Output Magnitude Proportion')"
      ]
     },
     "execution_count": 11,
     "metadata": {},
     "output_type": "execute_result"
    },
    {
     "data": {
      "image/png": "[encoded data removed]",
      "text/plain": [
       "<Figure size 432x288 with 1 Axes>"
      ]
     },
     "metadata": {
      "needs_background": "light"
     },
     "output_type": "display_data"
    }
   ],
   "source": [
    "plt.plot(w*10**9,s)\n",
    "plt.title(\"MZM\")\n",
    "plt.xlabel(\"Wavelengths (nm)\")\n",
    "plt.ylabel(\"Output Magnitude Proportion\")"
   ]
  },
  {
   "cell_type": "code",
   "execution_count": null,
   "metadata": {},
   "outputs": [],
   "source": []
  }
 ],
 "metadata": {
  "kernelspec": {
   "display_name": "Python 3",
   "language": "python",
   "name": "python3"
  },
  "language_info": {
   "codemirror_mode": {
    "name": "ipython",
    "version": 3
   },
   "file_extension": ".py",
   "mimetype": "text/x-python",
   "name": "python",
   "nbconvert_exporter": "python",
   "pygments_lexer": "ipython3",
   "version": "3.7.10"
  }
 },
 "nbformat": 4,
 "nbformat_minor": 4
}
