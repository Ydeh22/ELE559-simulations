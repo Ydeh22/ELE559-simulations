{
 "cells": [
  {
   "cell_type": "markdown",
   "metadata": {},
   "source": [
    "# MEEP simulations\n",
    "\n",
    "We will look again at a waveguide, but in the time-domain. This will introduce concepts important when doing time-domain simulations."
   ]
  },
  {
   "cell_type": "code",
   "execution_count": 11,
   "metadata": {},
   "outputs": [],
   "source": [
    "import meep as mp\n",
    "import numpy as np\n",
    "import matplotlib.pyplot as plt\n",
    "from IPython.display import Video"
   ]
  },
  {
   "cell_type": "markdown",
   "metadata": {},
   "source": [
    "Simple geometry as before :"
   ]
  },
  {
   "cell_type": "code",
   "execution_count": 12,
   "metadata": {},
   "outputs": [],
   "source": [
    "resolution = 50 # pixels/μm\n",
    "cell_size = mp.Vector3(14,14)\n",
    "\n",
    "w = 1.0 # width of waveguide\n",
    "\n",
    "geometry = [mp.Block(center=mp.Vector3(),\n",
    "                     size=mp.Vector3(mp.inf,w,mp.inf),\n",
    "                     material=mp.Medium(epsilon=12))]\n",
    "\n",
    "w = 1.0 # width of waveguide\n",
    "\n",
    "geometry = [mp.Block(center=mp.Vector3(),\n",
    "                     size=mp.Vector3(mp.inf,w,mp.inf),\n",
    "                     material=mp.Medium(epsilon=12))]"
   ]
  },
  {
   "cell_type": "markdown",
   "metadata": {},
   "source": [
    "An important difference from MPB is that we would like to avoid periodic boundary conditions. To do so, we can introduce perfectly-matched layers around the simulation region :"
   ]
  },
  {
   "cell_type": "code",
   "execution_count": 13,
   "metadata": {},
   "outputs": [],
   "source": [
    "pml_layers = [mp.PML(thickness=2)]"
   ]
  },
  {
   "cell_type": "markdown",
   "metadata": {},
   "source": [
    "In the time-domain, we now need to define a way to excite the electromagnetic fields in the system. The most reliable way to do so is with en eigensource (see https://meep.readthedocs.io/en/latest/Python_Tutorials/Eigenmode_Source/)."
   ]
  },
  {
   "cell_type": "code",
   "execution_count": 17,
   "metadata": {},
   "outputs": [],
   "source": [
    "fsrc = 0.15 # frequency of eigenmode or constant-amplitude source\n",
    "kx = 0.4    # initial guess for wavevector in x-direction of eigenmode\n",
    "bnum = 1    # band number of eigenmode\n",
    "\n",
    "kpoint = mp.Vector3(kx)\n",
    "\n",
    "sources = [mp.EigenModeSource(src=mp.GaussianSource(fsrc,fwidth=0.2*fsrc),\n",
    "                              center=mp.Vector3(),\n",
    "                              size=mp.Vector3(y=3*w),\n",
    "                              direction=mp.NO_DIRECTION,\n",
    "                              eig_kpoint=kpoint,\n",
    "                              eig_band=bnum,\n",
    "                              eig_parity=mp.EVEN_Y+mp.ODD_Z,\n",
    "                              eig_match_freq=True)]"
   ]
  },
  {
   "cell_type": "markdown",
   "metadata": {},
   "source": [
    "Defining the simulation object is similar to ModeSolver :"
   ]
  },
  {
   "cell_type": "code",
   "execution_count": null,
   "metadata": {},
   "outputs": [],
   "source": [
    "sim = mp.Simulation(cell_size=cell_size,\n",
    "                    resolution=resolution,\n",
    "                    boundary_layers=pml_layers,\n",
    "                    sources=sources,\n",
    "                    geometry=geometry,\n",
    "                    symmetries=[mp.Mirror(mp.Y)])"
   ]
  },
  {
   "cell_type": "code",
   "execution_count": 18,
   "metadata": {},
   "outputs": [
    {
     "name": "stdout",
     "output_type": "stream",
     "text": [
      "-----------\n",
      "Initializing structure...\n",
      "Halving computational cell along direction y\n",
      "time for choose_chunkdivision = 0.000775099 s\n",
      "Working in 2D dimensions.\n",
      "Computational cell is 14 x 14 x 0 with resolution 50\n",
      "     block, center = (0,0,0)\n",
      "          size (1e+20,1,1e+20)\n",
      "          axes (1,0,0), (0,1,0), (0,0,1)\n",
      "          dielectric constant epsilon diagonal = (12,12,12)\n",
      "time for set_epsilon = 0.380896 s\n",
      "-----------\n",
      "MPB solved for omega_1(0.4,0,0) = 0.14249 after 9 iters\n",
      "MPB solved for omega_1(0.426652,0,0) = 0.149974 after 7 iters\n",
      "MPB solved for omega_1(0.426745,0,0) = 0.15 after 4 iters\n",
      "MPB solved for omega_1(0.426745,0,0) = 0.15 after 1 iters\n"
     ]
    },
    {
     "data": {
      "image/png": "[encoded data removed]",
      "text/plain": [
       "<Figure size 600x400 with 1 Axes>"
      ]
     },
     "metadata": {
      "needs_background": "light"
     },
     "output_type": "display_data"
    }
   ],
   "source": [
    "f = plt.figure(dpi=100)\n",
    "sim.plot2D(ax=f.gca())\n",
    "plt.show()"
   ]
  },
  {
   "cell_type": "code",
   "execution_count": 19,
   "metadata": {},
   "outputs": [
    {
     "name": "stdout",
     "output_type": "stream",
     "text": [
      "Meep progress: 26.400000000000002/100.0 = 26.4% done in 4.0s, 11.2s to go\n",
      "on time step 2640 (time=26.4), 0.00151524 s/step\n",
      "Meep progress: 53.03/100.0 = 53.0% done in 8.0s, 7.1s to go\n",
      "on time step 5303 (time=53.03), 0.00150235 s/step\n",
      "Meep progress: 79.71000000000001/100.0 = 79.7% done in 12.0s, 3.1s to go\n",
      "on time step 7971 (time=79.71), 0.00149946 s/step\n",
      "run 0 finished at t = 100.0 (10000 timesteps)\n"
     ]
    },
    {
     "data": {
      "image/png": "[encoded data removed]",
      "text/plain": [
       "<Figure size 432x288 with 1 Axes>"
      ]
     },
     "metadata": {
      "needs_background": "light"
     },
     "output_type": "display_data"
    }
   ],
   "source": [
    "sim.run(until=100)\n",
    "sim.plot2D(output_plane=mp.Volume(center=mp.Vector3(), size=mp.Vector3(10,10)),\n",
    "           fields=mp.Ez,\n",
    "           field_parameters={'alpha':0.9})\n",
    "plt.show()"
   ]
  },
  {
   "cell_type": "code",
   "execution_count": 20,
   "metadata": {},
   "outputs": [
    {
     "name": "stdout",
     "output_type": "stream",
     "text": [
      "on time step 10000 (time=100), 0.0522457 s/step\n",
      "Meep progress: 12.019999999999996/383.3333435058594 = 3.1% done in 4.0s, 123.6s to go\n",
      "on time step 12200 (time=122), 0.00181969 s/step\n",
      "Meep progress: 34.0/383.3333435058594 = 8.9% done in 8.0s, 82.5s to go\n",
      "on time step 14398 (time=143.98), 0.00182029 s/step\n",
      "Meep progress: 55.75/383.3333435058594 = 14.5% done in 12.0s, 70.7s to go\n",
      "on time step 16550 (time=165.5), 0.00185921 s/step\n",
      "Meep progress: 77.5/383.3333435058594 = 20.2% done in 16.0s, 63.3s to go\n",
      "on time step 18727 (time=187.27), 0.00183807 s/step\n",
      "Meep progress: 99.25999999999999/383.3333435058594 = 25.9% done in 20.0s, 57.3s to go\n",
      "on time step 20903 (time=209.03), 0.00183887 s/step\n",
      "Meep progress: 121.00999999999999/383.3333435058594 = 31.6% done in 24.0s, 52.1s to go\n",
      "on time step 23091 (time=230.91), 0.0018288 s/step\n",
      "Meep progress: 142.88/383.3333435058594 = 37.3% done in 28.0s, 47.2s to go\n",
      "on time step 25270 (time=252.7), 0.00183615 s/step\n",
      "Meep progress: 164.62/383.3333435058594 = 42.9% done in 32.0s, 42.6s to go\n",
      "on time step 27443 (time=274.43), 0.001841 s/step\n",
      "Meep progress: 186.42000000000002/383.3333435058594 = 48.6% done in 36.0s, 38.1s to go\n",
      "on time step 29621 (time=296.21), 0.001837 s/step\n",
      "Meep progress: 208.01999999999998/383.3333435058594 = 54.3% done in 40.0s, 33.7s to go\n",
      "on time step 31800 (time=318), 0.00184671 s/step\n",
      "Meep progress: 229.79000000000002/383.3333435058594 = 59.9% done in 44.0s, 29.4s to go\n",
      "on time step 33981 (time=339.81), 0.00183427 s/step\n",
      "Meep progress: 251.70999999999998/383.3333435058594 = 65.7% done in 48.0s, 25.1s to go\n",
      "on time step 36175 (time=361.75), 0.00182335 s/step\n",
      "Meep progress: 273.6/383.3333435058594 = 71.4% done in 52.0s, 20.9s to go\n",
      "Normalizing field data...\n",
      "run 1 finished at t = 383.34000000000003 (38334 timesteps)\n"
     ]
    }
   ],
   "source": [
    "f = plt.figure(dpi=100)\n",
    "animate = mp.Animate2D(sim,mp.Ez,f=f,normalize=True)\n",
    "sim.run(mp.at_every(1,animate),until_after_sources=50)\n",
    "plt.close()"
   ]
  },
  {
   "cell_type": "code",
   "execution_count": 21,
   "metadata": {},
   "outputs": [
    {
     "name": "stdout",
     "output_type": "stream",
     "text": [
      "Generating MP4...\n"
     ]
    },
    {
     "data": {
      "text/html": [
       "<video src=\"media/oblique-source-normal.mp4\" controls  >\n",
       "      Your browser does not support the <code>video</code> element.\n",
       "    </video>"
      ],
      "text/plain": [
       "<IPython.core.display.Video object>"
      ]
     },
     "execution_count": 21,
     "metadata": {},
     "output_type": "execute_result"
    }
   ],
   "source": [
    "filename = 'media/oblique-source-normal.mp4'\n",
    "animate.to_mp4(10,filename)\n",
    "Video(filename)"
   ]
  }
 ],
 "metadata": {
  "kernelspec": {
   "display_name": "PyMeep",
   "language": "python",
   "name": "pymeep"
  },
  "language_info": {
   "codemirror_mode": {
    "name": "ipython",
    "version": 3
   },
   "file_extension": ".py",
   "mimetype": "text/x-python",
   "name": "python",
   "nbconvert_exporter": "python",
   "pygments_lexer": "ipython3",
   "version": "3.7.6"
  }
 },
 "nbformat": 4,
 "nbformat_minor": 4
}
