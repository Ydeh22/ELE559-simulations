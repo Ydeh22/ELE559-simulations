{
 "cells": [
  {
   "cell_type": "markdown",
   "metadata": {},
   "source": [
    "# Waveguide coupler (layout and simulation)\n",
    "\n",
    "The step by step process is the same as the previous notebook:\n",
    "1. Draw a waveguide coupler and save it in a .gds file.\n",
    "2. Load the layout using Meep.\n",
    "3. Setup simulation environment.\n",
    "4. Simulate FDTD and visualize results.\n",
    "5. Compute loss and reflection of the bend."
   ]
  },
  {
   "cell_type": "markdown",
   "metadata": {},
   "source": [
    "## Why is this important?\n",
    "\n",
    "- FDTD simulations take a long time.\n",
    "- This can be compensated by breaking up the simulation in smaller parts\n",
    "- For example, in order to simulate an add-drop microring resonator, we can break it up in bent waveguides and couplers, like in the image below.\n",
    "!['Add/Drop Microring Resonator'](images/add_drop_ring.svg)\n",
    "\n",
    "Last notebook, we simulated a bent waveguide and captured the results in an S-matrix. In this notebook, we will simulate the waveguide coupler. After that, the S-matrices can be used together to compute the response of the microring resonator."
   ]
  },
  {
   "cell_type": "markdown",
   "metadata": {},
   "source": [
    "## Simulation 1\n",
    "\n",
    "- This device has 4 ports, and therefore it will require a 4x4 S-matrix. \n",
    "- It will take multiple FDTD simulations in order to obtain the full 4x4 S matrix.\n",
    "- For example, consider the following source/port configuration:\n",
    "<img alt=\"Waveguide coupler with source at port 1\" src=\"images/waveguide_coupler_source1.svg\" style=\"width: 50%\">\n",
    "- Each simulation ordinarily yields 4 S-numbers, but because of the symmetry of this device, the S values upon swapping ports 1↔3 and 2↔4 should remain the same. For example, $S_{23} = S_{41}$ for all frequencies.\n",
    "\n",
    "In this notebook, we will prepare an FDTD simulation with the source at port 1."
   ]
  },
  {
   "cell_type": "code",
   "execution_count": 1,
   "metadata": {},
   "outputs": [
    {
     "name": "stdout",
     "output_type": "stream",
     "text": [
      "Using MPI version 3.1, 1 processes\n",
      "Meep version: 1.12.0\n"
     ]
    }
   ],
   "source": [
    "# Import meep and mpb (from meep)\n",
    "import meep as mp\n",
    "from meep import mpb\n",
    "\n",
    "# arrays\n",
    "import numpy as np\n",
    "\n",
    "# plotting\n",
    "import matplotlib.pyplot as plt\n",
    "\n",
    "# Debug info\n",
    "print(\"Meep version:\", mp.__version__)"
   ]
  },
  {
   "cell_type": "code",
   "execution_count": 2,
   "metadata": {},
   "outputs": [],
   "source": [
    "import pya\n",
    "import numpy as np\n",
    "\n",
    "SIM_CELL = pya.LayerInfo(0, 0)\n",
    "Si = pya.LayerInfo(1, 0)\n",
    "MEEP_SOURCE = pya.LayerInfo(10, 0)\n",
    "MEEP_PORT1 = pya.LayerInfo(20, 0)\n",
    "MEEP_PORT2 = pya.LayerInfo(21, 0)\n",
    "MEEP_PORT3 = pya.LayerInfo(22, 0)\n",
    "MEEP_PORT4 = pya.LayerInfo(23, 0)"
   ]
  },
  {
   "cell_type": "markdown",
   "metadata": {},
   "source": [
    "## Simulation Parameters"
   ]
  },
  {
   "cell_type": "code",
   "execution_count": 179,
   "metadata": {},
   "outputs": [],
   "source": [
    "ring_radius = 3 # um\n",
    "ring_width = 0.5 # um\n",
    "pml_width = 1.0 # um\n",
    "gap = 0.2 # um\n",
    "src_port_gap = 0.2 # um\n",
    "straight_wg_length = pml_width + 1 # um\n",
    "\n",
    "# Simulation resolution\n",
    "res = 100        # pixels/μm"
   ]
  },
  {
   "cell_type": "markdown",
   "metadata": {},
   "source": [
    "## Step 1. Drawing a waveguide coupler and saving into a temporary .gds file"
   ]
  },
  {
   "cell_type": "code",
   "execution_count": 180,
   "metadata": {
    "scrolled": true
   },
   "outputs": [
    {
     "name": "stdout",
     "output_type": "stream",
     "text": [
      "Produced file /tmp/tmp5hvpm_rs.gds.\n",
      "-rw-r--r-- 1 tlima grad 1.7K Feb 25 13:17 /tmp/tmp5hvpm_rs.gds\r\n"
     ]
    }
   ],
   "source": [
    "from zeropdk.layout import layout_arc, layout_waveguide, layout_path, layout_box\n",
    "from tempfile import NamedTemporaryFile\n",
    "from math import sqrt\n",
    "\n",
    "# Create a temporary filename\n",
    "temp_file = NamedTemporaryFile(delete=False, suffix='.gds')\n",
    "filename = temp_file.name\n",
    "# temp_file = None\n",
    "# filename = \"test.gds\"\n",
    "\n",
    "# Clean existing file\n",
    "!rm {filename}\n",
    "\n",
    "# Instantiate a layout and a top cell\n",
    "layout = pya.Layout()\n",
    "layout.dbu = 0.001\n",
    "TOP = layout.create_cell(\"TOP\")\n",
    "\n",
    "sqrt2 = sqrt(2)\n",
    "\n",
    "# Unit vectors\n",
    "ex = pya.DVector(1, 0)\n",
    "ey = pya.DVector(0, 1)\n",
    "e45 = (ex + ey) / sqrt2\n",
    "e135 = (-ex + ey) / sqrt2\n",
    "\n",
    "# Draw circular bend\n",
    "layout_arc(TOP, Si, - ring_radius*ey, ring_radius, ring_width, 0, np.pi/2)\n",
    "\n",
    "# Extend the bend to avoid discontinuities\n",
    "layout_waveguide(TOP, Si, [0*ex, - straight_wg_length*ex], ring_width)\n",
    "layout_waveguide(TOP, Si, [-1*ring_radius*ey + ring_radius*ex, \n",
    "                           -straight_wg_length * ey - ring_radius*ey + ring_radius*ex], ring_width)\n",
    "\n",
    "# Add the ports as 0-width paths\n",
    "port_size = ring_width * 4.0\n",
    "\n",
    "\n",
    "# Draw add/drop waveguide\n",
    "\n",
    "coupling_point = (ring_radius + gap + ring_width) * e45 - ring_radius * ey\n",
    "add_drop_length = (ring_radius + gap + ring_width) * sqrt2\n",
    "layout_waveguide(TOP, Si, [coupling_point + (add_drop_length + 0.4) * e135,\n",
    "                           coupling_point - (add_drop_length + 0.4) * e135],\n",
    "                ring_width)\n",
    "\n",
    "\n",
    "# Source at port 1\n",
    "layout_path(TOP, MEEP_SOURCE, [coupling_point - port_size/2*ex + (add_drop_length / 2 + src_port_gap) * e135, \n",
    "                               coupling_point + port_size/2*ex + (add_drop_length / 2 + src_port_gap) * e135], 0)\n",
    "\n",
    "# Source at port 2 (alternative)\n",
    "# layout_path(TOP, MEEP_SOURCE, [-port_size/2*ey - src_port_gap*ex, port_size/2*ey - 0.2*ex], 0)\n",
    "\n",
    "# Port 1\n",
    "layout_path(TOP, MEEP_PORT1,   [coupling_point - port_size/2*ex + (add_drop_length / 2) * e135, \n",
    "                                coupling_point + port_size/2*ex  + (add_drop_length / 2) * e135], 0)\n",
    "\n",
    "# Port 2\n",
    "layout_path(TOP, MEEP_PORT2,   [-port_size/2*ey, port_size/2*ey], 0)\n",
    "\n",
    "# Port 3\n",
    "layout_path(TOP, MEEP_PORT3,   [coupling_point - port_size/2*ey - (add_drop_length / 2) * e135, \n",
    "                                coupling_point + port_size/2*ey - (add_drop_length / 2) * e135], 0)\n",
    "# Port 4\n",
    "layout_path(TOP, MEEP_PORT4,   [-1*ring_radius*ey + ring_radius*ex - port_size/2*ex, \n",
    "                                -1*ring_radius*ey + ring_radius*ex + port_size/2*ex], 0)\n",
    "\n",
    "# Draw simulation region\n",
    "layout_box(TOP, SIM_CELL, \n",
    "           -1.0*ring_radius*ey - (pml_width + src_port_gap) * (ex + ey), # Bottom left point \n",
    "           coupling_point + (add_drop_length / 2 + src_port_gap) * e45 + pml_width * (ex + ey),  # Top right point\n",
    "           ex)\n",
    "\n",
    "# Write to file\n",
    "layout.write(filename)\n",
    "layout.write('test.gds')\n",
    "print(f\"Produced file {filename}.\")\n",
    "!ls -lh {filename}"
   ]
  },
  {
   "cell_type": "markdown",
   "metadata": {},
   "source": [
    "## Step 2. Load gds file into meep\n",
    "\n",
    "### Visualization and simulation\n",
    "\n",
    "If you choose a normal filename (not temporary), you can download the GDSII file from the cluster (see Files in MyAdroit dashboard) to see it with your local Klayout. Otherwise, let's get simulating:"
   ]
  },
  {
   "cell_type": "code",
   "execution_count": 181,
   "metadata": {},
   "outputs": [],
   "source": [
    "def round_vector(vector, decimal_places=3):\n",
    "    x = round(vector.x, decimal_places)\n",
    "    y = round(vector.y, decimal_places)\n",
    "    z = round(vector.z, decimal_places)\n",
    "    return mp.Vector3(x, y, z)"
   ]
  },
  {
   "cell_type": "code",
   "execution_count": 182,
   "metadata": {},
   "outputs": [],
   "source": [
    "gdsII_file = filename\n",
    "CELL_LAYER = 0\n",
    "SOURCE_LAYER = 10\n",
    "Si_LAYER = 1\n",
    "PORT1_LAYER = 20\n",
    "PORT2_LAYER = 21\n",
    "PORT3_LAYER = 22\n",
    "PORT4_LAYER = 23\n",
    "\n",
    "t_oxide = 1.0\n",
    "t_Si = 0.22\n",
    "t_SiO2 = 0.78\n",
    "\n",
    "oxide = mp.Medium(epsilon=2.25)\n",
    "silicon=mp.Medium(epsilon=12)\n",
    "\n",
    "lcen = 1.55\n",
    "fcen = 1/lcen\n",
    "df = 0.2*fcen\n",
    "\n",
    "cell_zmax =  0\n",
    "cell_zmin =  0\n",
    "si_zmax = 0\n",
    "si_zmin = 0\n",
    "\n",
    "# read cell size, volumes for source region and flux monitors,\n",
    "# and coupler geometry from GDSII file\n",
    "# WARNING: Once the file is loaded, the prism contents is cached and cannot be reloaded.\n",
    "# SOLUTION: Use a different filename or restart the kernel\n",
    "\n",
    "si_layer = mp.get_GDSII_prisms(silicon, gdsII_file, Si_LAYER, si_zmin, si_zmax)\n",
    "\n",
    "cell = mp.GDSII_vol(gdsII_file, CELL_LAYER, cell_zmin, cell_zmax)\n",
    "src_vol = mp.GDSII_vol(gdsII_file, SOURCE_LAYER, si_zmin, si_zmax)\n",
    "p1 = mp.GDSII_vol(gdsII_file, PORT1_LAYER, si_zmin, si_zmax)\n",
    "p2 = mp.GDSII_vol(gdsII_file, PORT2_LAYER, si_zmin, si_zmax)\n",
    "p3 = mp.GDSII_vol(gdsII_file, PORT3_LAYER, si_zmin, si_zmax)\n",
    "p4 = mp.GDSII_vol(gdsII_file, PORT4_LAYER, si_zmin, si_zmax)\n",
    "\n",
    "\n",
    "sources = [mp.EigenModeSource(src=mp.GaussianSource(fcen,fwidth=df),\n",
    "                              size=src_vol.size,\n",
    "                              center=src_vol.center,\n",
    "                              direction=mp.NO_DIRECTION,\n",
    "                              eig_kpoint=mp.Vector3(1, -1, 0), # -45 degree angle\n",
    "                              eig_band=1,\n",
    "                              eig_parity=mp.NO_PARITY,\n",
    "                              eig_match_freq=True)]\n",
    "\n",
    "# Display simulation object\n",
    "sim = mp.Simulation(resolution=res,\n",
    "                    default_material=oxide,\n",
    "                    eps_averaging=False,\n",
    "#                     subpixel_maxeval=10,\n",
    "#                     subpixel_tol=0.1,\n",
    "                    cell_size=cell.size,\n",
    "                    geometry_center=round_vector(cell.center,2),\n",
    "#                     geometry_center=mp.Vector3(2.20, -0.79,0),\n",
    "                    boundary_layers=[mp.PML(pml_width)],\n",
    "                    sources=sources,\n",
    "                    geometry=si_layer)\n",
    "\n",
    "# Delete file created in previous cell\n",
    "\n",
    "import os\n",
    "if temp_file:\n",
    "    temp_file.close()\n",
    "    os.unlink(filename)"
   ]
  },
  {
   "cell_type": "markdown",
   "metadata": {},
   "source": [
    "## Step 3. Setup simulation environment\n",
    "\n",
    "This will load the python-defined parameters from the previous cell and instantiate a fast, C++ based, simulation environment using meep. It will also compute the eigenmode of the source, in preparation for the FDTD simulation."
   ]
  },
  {
   "cell_type": "code",
   "execution_count": 183,
   "metadata": {
    "scrolled": false
   },
   "outputs": [
    {
     "name": "stdout",
     "output_type": "stream",
     "text": [
      "-----------\n",
      "Initializing structure...\n",
      "time for choose_chunkdivision = 0.000382185 s\n",
      "Working in 2D dimensions.\n",
      "Computational cell is 6.81 x 6.81 x 0 with resolution 100\n",
      "     prism, center = (1.90628,-1.09372,0)\n",
      "          height 0, axis (0,0,1), 122 vertices:\n",
      "          (2.75,-3,0)\n",
      "          (2.749,-2.933,0)\n",
      "          (2.747,-2.865,0)\n",
      "          (2.743,-2.798,0)\n",
      "          (2.737,-2.73,0)\n",
      "          (2.729,-2.663,0)\n",
      "          (2.72,-2.596,0)\n",
      "          (2.71,-2.53,0)\n",
      "          (2.697,-2.464,0)\n",
      "          (2.683,-2.397,0)\n",
      "          (2.668,-2.332,0)\n",
      "          (2.632,-2.202,0)\n",
      "          (2.611,-2.137,0)\n",
      "          (2.589,-2.074,0)\n",
      "          (2.566,-2.01,0)\n",
      "          (2.541,-1.948,0)\n",
      "          (2.514,-1.886,0)\n",
      "          (2.486,-1.824,0)\n",
      "          (2.456,-1.764,0)\n",
      "          (2.425,-1.704,0)\n",
      "          (2.393,-1.645,0)\n",
      "          (2.359,-1.586,0)\n",
      "          (2.287,-1.472,0)\n",
      "          (2.209,-1.362,0)\n",
      "          (2.168,-1.308,0)\n",
      "          (2.126,-1.255,0)\n",
      "          (2.038,-1.153,0)\n",
      "          (1.992,-1.104,0)\n",
      "          (1.945,-1.055,0)\n",
      "          (1.896,-1.008,0)\n",
      "          (1.847,-0.962,0)\n",
      "          (1.745,-0.874,0)\n",
      "          (1.692,-0.832,0)\n",
      "          (1.638,-0.791,0)\n",
      "          (1.528,-0.713,0)\n",
      "          (1.414,-0.641,0)\n",
      "          (1.355,-0.607,0)\n",
      "          (1.296,-0.575,0)\n",
      "          (1.236,-0.544,0)\n",
      "          (1.176,-0.514,0)\n",
      "          (1.114,-0.486,0)\n",
      "          (1.052,-0.459,0)\n",
      "          (0.99,-0.434,0)\n",
      "          (0.926,-0.411,0)\n",
      "          (0.863,-0.389,0)\n",
      "          (0.798,-0.368,0)\n",
      "          (0.668,-0.332,0)\n",
      "          (0.603,-0.317,0)\n",
      "          (0.536,-0.303,0)\n",
      "          (0.47,-0.29,0)\n",
      "          (0.404,-0.28,0)\n",
      "          (0.337,-0.271,0)\n",
      "          (0.27,-0.263,0)\n",
      "          (0.202,-0.257,0)\n",
      "          (0.135,-0.253,0)\n",
      "          (0.067,-0.251,0)\n",
      "          (0,-0.25,0)\n",
      "          (0,0.25,0)\n",
      "          (0.08,0.249,0)\n",
      "          (0.159,0.246,0)\n",
      "          (0.239,0.241,0)\n",
      "          (0.319,0.234,0)\n",
      "          (0.398,0.226,0)\n",
      "          (0.477,0.215,0)\n",
      "          (0.556,0.202,0)\n",
      "          (0.634,0.188,0)\n",
      "          (0.712,0.171,0)\n",
      "          (0.79,0.153,0)\n",
      "          (0.867,0.132,0)\n",
      "          (0.943,0.11,0)\n",
      "          (1.019,0.086,0)\n",
      "          (1.095,0.06,0)\n",
      "          (1.17,0.032,0)\n",
      "          (1.244,0.003,0)\n",
      "          (1.317,-0.029,0)\n",
      "          (1.39,-0.062,0)\n",
      "          (1.461,-0.097,0)\n",
      "          (1.532,-0.134,0)\n",
      "          (1.602,-0.172,0)\n",
      "          (1.671,-0.212,0)\n",
      "          (1.739,-0.254,0)\n",
      "          (1.806,-0.298,0)\n",
      "          (1.871,-0.343,0)\n",
      "          (1.936,-0.39,0)\n",
      "          (2,-0.438,0)\n",
      "          (2.062,-0.488,0)\n",
      "          (2.123,-0.539,0)\n",
      "          (2.183,-0.592,0)\n",
      "          (2.241,-0.646,0)\n",
      "          (2.298,-0.702,0)\n",
      "          (2.354,-0.759,0)\n",
      "          (2.408,-0.817,0)\n",
      "          (2.461,-0.877,0)\n",
      "          (2.512,-0.938,0)\n",
      "          (2.562,-1,0)\n",
      "          (2.61,-1.064,0)\n",
      "          (2.657,-1.129,0)\n",
      "          (2.702,-1.194,0)\n",
      "          (2.746,-1.261,0)\n",
      "          (2.788,-1.329,0)\n",
      "          (2.828,-1.398,0)\n",
      "          (2.866,-1.468,0)\n",
      "          (2.903,-1.539,0)\n",
      "          (2.938,-1.61,0)\n",
      "          (2.971,-1.683,0)\n",
      "          (3.003,-1.756,0)\n",
      "          (3.032,-1.83,0)\n",
      "          (3.06,-1.905,0)\n",
      "          (3.086,-1.981,0)\n",
      "          (3.11,-2.057,0)\n",
      "          (3.132,-2.133,0)\n",
      "          (3.153,-2.21,0)\n",
      "          (3.171,-2.288,0)\n",
      "          (3.188,-2.366,0)\n",
      "          (3.202,-2.444,0)\n",
      "          (3.215,-2.523,0)\n",
      "          (3.226,-2.602,0)\n",
      "          (3.234,-2.681,0)\n",
      "          (3.241,-2.761,0)\n",
      "          (3.246,-2.841,0)\n",
      "          (3.249,-2.92,0)\n",
      "          (3.25,-3,0)\n",
      "          dielectric constant epsilon diagonal = (12,12,12)\n",
      "     prism, center = (-1,0,0)\n",
      "          height 0, axis (0,0,1), 4 vertices:\n",
      "          (-2,-0.25,0)\n",
      "          (-2,0.25,0)\n",
      "          (0,0.25,0)\n",
      "          (0,-0.25,0)\n",
      "          dielectric constant epsilon diagonal = (12,12,12)\n",
      "     prism, center = (3,-4,0)\n",
      "          height 0, axis (0,0,1), 4 vertices:\n",
      "          (2.75,-5,0)\n",
      "          (2.75,-3,0)\n",
      "          (3.25,-3,0)\n",
      "          (3.25,-5,0)\n",
      "          dielectric constant epsilon diagonal = (12,12,12)\n",
      "     prism, center = (2.61625,-0.38375,0)\n",
      "          height 0, axis (0,0,1), 4 vertices:\n",
      "          (6.422,-4.543,0)\n",
      "          (-1.543,3.422,0)\n",
      "          (-1.19,3.776,0)\n",
      "          (6.776,-4.19,0)\n",
      "          dielectric constant epsilon diagonal = (12,12,12)\n",
      "time for set_epsilon = 1.58425 s\n",
      "-----------\n",
      "MPB solved for omega_1(1,-2,0) = 0.453447 after 20 iters\n",
      "MPB solved for omega_1(1.48753,-2.97506,0) = 0.645654 after 10 iters\n",
      "MPB solved for omega_1(1.48629,-2.97257,0) = 0.645161 after 6 iters\n",
      "MPB solved for omega_1(1.48629,-2.97257,0) = 0.645161 after 1 iters\n"
     ]
    }
   ],
   "source": [
    "sim.reset_meep()\n",
    "\n",
    "# Could add monitors at many frequencies by looping over fcen\n",
    "# Means one FDTD for many results!\n",
    "mode1 = sim.add_mode_monitor(fcen, df, 10, mp.ModeRegion(volume=p1))\n",
    "mode2 = sim.add_mode_monitor(fcen, df, 10, mp.ModeRegion(volume=p2))\n",
    "mode3 = sim.add_mode_monitor(fcen, df, 10, mp.ModeRegion(volume=p3))\n",
    "mode4 = sim.add_mode_monitor(fcen, df, 10, mp.ModeRegion(volume=p4))\n",
    "\n",
    "# Let's store the frequencies that were generated by this mode monitor\n",
    "mode1_freqs = np.array(mp.get_eigenmode_freqs(mode1))\n",
    "mode2_freqs = np.array(mp.get_eigenmode_freqs(mode2))\n",
    "mode3_freqs = np.array(mp.get_eigenmode_freqs(mode3))\n",
    "mode4_freqs = np.array(mp.get_eigenmode_freqs(mode4))\n",
    "\n",
    "sim.init_sim()"
   ]
  },
  {
   "cell_type": "markdown",
   "metadata": {},
   "source": [
    "### Verify if there are numerical errors.\n",
    "- You should see a clean black and white plot.\n",
    "- If there are other weird structures, try increasing the resolution."
   ]
  },
  {
   "cell_type": "code",
   "execution_count": 184,
   "metadata": {
    "scrolled": false
   },
   "outputs": [
    {
     "data": {
      "image/png": "[encoded data removed]",
      "text/plain": [
       "<Figure size 432x288 with 2 Axes>"
      ]
     },
     "metadata": {
      "needs_background": "light"
     },
     "output_type": "display_data"
    }
   ],
   "source": [
    "eps_data = sim.get_array(center=cell.center, size=cell.size, component=mp.Dielectric)\n",
    "plt.figure()\n",
    "plt.imshow(eps_data.transpose(), interpolation='spline36', cmap='binary', origin='lower')\n",
    "plt.colorbar()\n",
    "plt.show()"
   ]
  },
  {
   "cell_type": "markdown",
   "metadata": {},
   "source": [
    "### Verify that the structure makes sense.\n",
    "\n",
    "Things to check:\n",
    "- Are the sources and ports outside the PML?\n",
    "- Are dimensions correct?\n",
    "- Is the simulation region unnecessarily large?"
   ]
  },
  {
   "cell_type": "code",
   "execution_count": 185,
   "metadata": {
    "scrolled": false
   },
   "outputs": [
    {
     "data": {
      "image/png": "[encoded data removed]",
      "text/plain": [
       "<Figure size 600x400 with 1 Axes>"
      ]
     },
     "metadata": {
      "needs_background": "light"
     },
     "output_type": "display_data"
    }
   ],
   "source": [
    "# If there is a warning that reads \"The specified user volume\n",
    "# is larger than the simulation domain and has been truncated\",\n",
    "# It has to do with some numerical errors between python and meep.\n",
    "# Ignore.\n",
    "# sim.init_sim()\n",
    "\n",
    "f = plt.figure(dpi=100)\n",
    "sim.plot2D(ax=f.gca())\n",
    "plt.show()"
   ]
  },
  {
   "cell_type": "markdown",
   "metadata": {},
   "source": [
    "Looks pretty good. Simulations at the high enough resolution required to avoid spurious reflections in the bend are very slow! This can be sped up quite a bit by running the code in parallel from the terminal. Later, we will put this notebook's code into a script and run it in parallel."
   ]
  },
  {
   "cell_type": "markdown",
   "metadata": {},
   "source": [
    "## Step 4. Simulate FDTD and Animate results\n",
    "\n",
    "More detailed meep documentation available [here](https://meep.readthedocs.io/en/latest/Python_Tutorials/Basics/#transmittance-spectrum-of-a-waveguide-bend)."
   ]
  },
  {
   "cell_type": "code",
   "execution_count": 186,
   "metadata": {},
   "outputs": [],
   "source": [
    "# Set to true to compute animation (may take a lot of memory)\n",
    "compute_animation = True"
   ]
  },
  {
   "cell_type": "code",
   "execution_count": 187,
   "metadata": {
    "scrolled": false
   },
   "outputs": [
    {
     "name": "stdout",
     "output_type": "stream",
     "text": [
      "Stop condition: decay to 0.1% of peak value in the last 15.5 time units.\n"
     ]
    },
    {
     "name": "stderr",
     "output_type": "stream",
     "text": [
      "/home/ELE559/anaconda3/envs/all_tools/lib/python3.7/site-packages/meep/visualization.py:197: UserWarning: The specified user volume is larger than the simulation domain and has been truncated.\n",
      "  warnings.warn('The specified user volume is larger than the simulation domain and has been truncated.')\n"
     ]
    },
    {
     "name": "stdout",
     "output_type": "stream",
     "text": [
      "on time step 376 (time=1.88), 0.0106476 s/step\n"
     ]
    },
    {
     "name": "stderr",
     "output_type": "stream",
     "text": [
      "/home/ELE559/anaconda3/envs/all_tools/lib/python3.7/site-packages/meep/visualization.py:197: UserWarning: The specified user volume is larger than the simulation domain and has been truncated.\n",
      "  warnings.warn('The specified user volume is larger than the simulation domain and has been truncated.')\n"
     ]
    },
    {
     "name": "stdout",
     "output_type": "stream",
     "text": [
      "on time step 1029 (time=5.145), 0.00612757 s/step\n",
      "on time step 1691 (time=8.455), 0.00604794 s/step\n",
      "on time step 2356 (time=11.78), 0.00601961 s/step\n",
      "on time step 3011 (time=15.055), 0.00610869 s/step\n",
      "field decay(t = 15.505): 1.6275283764504445e-10 / 1.6275283764504445e-10 = 1.0\n",
      "on time step 3676 (time=18.38), 0.00601976 s/step\n",
      "on time step 4342 (time=21.71), 0.00601294 s/step\n",
      "on time step 5005 (time=25.025), 0.00603868 s/step\n",
      "on time step 5670 (time=28.35), 0.006016 s/step\n",
      "field decay(t = 31.01): 2.165800723822152e-06 / 2.165800723822152e-06 = 1.0\n",
      "on time step 6333 (time=31.665), 0.00603361 s/step\n",
      "on time step 6999 (time=34.995), 0.00601325 s/step\n",
      "on time step 7661 (time=38.305), 0.00604626 s/step\n",
      "on time step 8326 (time=41.63), 0.00601913 s/step\n",
      "on time step 8991 (time=44.955), 0.00601684 s/step\n",
      "field decay(t = 46.515): 1.2175114634136154e-05 / 1.2175114634136154e-05 = 1.0\n",
      "on time step 9652 (time=48.26), 0.00605538 s/step\n",
      "on time step 10316 (time=51.58), 0.00602433 s/step\n",
      "on time step 10981 (time=54.905), 0.00601627 s/step\n",
      "on time step 11642 (time=58.21), 0.00605204 s/step\n",
      "on time step 12307 (time=61.535), 0.00601734 s/step\n",
      "field decay(t = 62.02): 2.470085742718856e-05 / 2.470085742718856e-05 = 1.0\n",
      "on time step 12971 (time=64.855), 0.00603032 s/step\n",
      "on time step 13632 (time=68.16), 0.00605672 s/step\n",
      "on time step 14297 (time=71.485), 0.00601816 s/step\n",
      "on time step 14961 (time=74.805), 0.00602722 s/step\n",
      "field decay(t = 77.525): 1.798867549884007e-05 / 2.470085742718856e-05 = 0.7282611768383269\n",
      "on time step 15622 (time=78.11), 0.00605225 s/step\n",
      "on time step 16287 (time=81.435), 0.00602094 s/step\n",
      "on time step 16952 (time=84.76), 0.00601929 s/step\n",
      "on time step 17615 (time=88.075), 0.00604134 s/step\n",
      "on time step 18280 (time=91.4), 0.00602117 s/step\n",
      "field decay(t = 93.03): 3.8101989456609693e-06 / 2.470085742718856e-05 = 0.15425371191637394\n",
      "on time step 18945 (time=94.725), 0.00602069 s/step\n",
      "on time step 19607 (time=98.035), 0.00604583 s/step\n",
      "on time step 20273 (time=101.365), 0.00601459 s/step\n",
      "on time step 20938 (time=104.69), 0.00601687 s/step\n",
      "on time step 21600 (time=108), 0.00604895 s/step\n",
      "field decay(t = 108.535): 1.6514802731607998e-08 / 2.470085742718856e-05 = 0.0006685922859272868\n",
      "Normalizing field data...\n",
      "run 0 finished at t = 108.535 (21707 timesteps)\n"
     ]
    }
   ],
   "source": [
    "# Setup and run the simulation\n",
    "\n",
    "# The following line defines a stopping condition depending on the square\n",
    "# of the amplitude of the Ez field at the port 2.\n",
    "print(f\"Stop condition: decay to 0.1% of peak value in the last {2.0/df:.1f} time units.\")\n",
    "stop_condition = mp.stop_when_fields_decayed(2.0/df,mp.Ez,p2.center,1e-3)\n",
    "if compute_animation:\n",
    "    f = plt.figure(dpi=100)\n",
    "    animate = mp.Animate2D(sim,mp.Ez,f=f,normalize=True)\n",
    "    sim.run(mp.at_every(1,animate), until_after_sources=stop_condition)\n",
    "    plt.close()\n",
    "else:\n",
    "    sim.run(until_after_sources=stop_condition)"
   ]
  },
  {
   "cell_type": "markdown",
   "metadata": {},
   "source": [
    "### Visualize results\n",
    "\n",
    "Things to check:\n",
    "- Was the simulation time long enough for the pulse to travel through port2 in its entirety? Given the automatic stop condition, this should be the case."
   ]
  },
  {
   "cell_type": "code",
   "execution_count": 205,
   "metadata": {},
   "outputs": [
    {
     "name": "stdout",
     "output_type": "stream",
     "text": [
      "Generating MP4...\n"
     ]
    },
    {
     "data": {
      "text/html": [
       "<video src=\"media/bend.mp4\" controls  >\n",
       "      Your browser does not support the <code>video</code> element.\n",
       "    </video>"
      ],
      "text/plain": [
       "<IPython.core.display.Video object>"
      ]
     },
     "metadata": {},
     "output_type": "display_data"
    }
   ],
   "source": [
    "from IPython.display import Video, display\n",
    "animate.to_mp4(10, 'media/bend.mp4')\n",
    "display(Video('media/bend.mp4'))"
   ]
  },
  {
   "cell_type": "raw",
   "metadata": {
    "scrolled": false
   },
   "source": [
    "from IPython.display import Video, display\n",
    "if compute_animation:\n",
    "    # Save video as gif\n",
    "    animate.to_mp4(10, 'media/bend.mp4')\n",
    "    # Play video\n",
    "    display(animate.to_jshtml(10))\n",
    "else:\n",
    "    # Load pre-computed video from .gif\n",
    "    display(Video('media/bend.mp4'))"
   ]
  },
  {
   "cell_type": "markdown",
   "metadata": {},
   "source": [
    "## Step 5. Compute loss and reflection of the bend"
   ]
  },
  {
   "cell_type": "code",
   "execution_count": 198,
   "metadata": {
    "scrolled": false
   },
   "outputs": [
    {
     "name": "stdout",
     "output_type": "stream",
     "text": [
      "MPB solved for omega_1(0.707107,-1.41421,0) = 0.338155 after 19 iters\n",
      "MPB solved for omega_1(1.31728,-2.63456,0) = 0.57859 after 11 iters\n",
      "MPB solved for omega_1(1.32249,-2.64498,0) = 0.580645 after 8 iters\n",
      "MPB solved for omega_1(1.32249,-2.64498,0) = 0.580645 after 1 iters\n",
      "Dominant planewave for band 1: (1.322491,-1.322491,0.000000)\n",
      "MPB solved for omega_1(0.707107,-1.41421,0) = 0.338155 after 17 iters\n",
      "MPB solved for omega_1(1.35336,-2.70672,0) = 0.592829 after 11 iters\n",
      "MPB solved for omega_1(1.35881,-2.71763,0) = 0.594982 after 8 iters\n",
      "MPB solved for omega_1(1.35881,-2.71763,0) = 0.594982 after 1 iters\n",
      "Dominant planewave for band 1: (1.358813,-1.358813,0.000000)\n",
      "MPB solved for omega_1(0.707107,-1.41421,0) = 0.338155 after 16 iters\n",
      "MPB solved for omega_1(1.38943,-2.77887,0) = 0.607075 after 11 iters\n",
      "MPB solved for omega_1(1.39511,-2.79023,0) = 0.609319 after 8 iters\n",
      "MPB solved for omega_1(1.39511,-2.79023,0) = 0.609319 after 1 iters\n",
      "Dominant planewave for band 1: (1.395114,-1.395114,0.000000)\n",
      "MPB solved for omega_1(0.707107,-1.41421,0) = 0.338155 after 16 iters\n",
      "MPB solved for omega_1(1.42551,-2.85102,0) = 0.62133 after 11 iters\n",
      "MPB solved for omega_1(1.4314,-2.86279,0) = 0.623656 after 8 iters\n",
      "MPB solved for omega_1(1.43139,-2.86279,0) = 0.623656 after 1 iters\n",
      "Dominant planewave for band 1: (1.431395,-1.431395,0.000000)\n",
      "MPB solved for omega_1(0.707107,-1.41421,0) = 0.338155 after 17 iters\n",
      "MPB solved for omega_1(1.46159,-2.92317,0) = 0.635593 after 11 iters\n",
      "MPB solved for omega_1(1.46765,-2.93531,0) = 0.637993 after 8 iters\n",
      "MPB solved for omega_1(1.46765,-2.93531,0) = 0.637993 after 1 iters\n",
      "Dominant planewave for band 1: (1.467654,-1.467654,0.000000)\n",
      "MPB solved for omega_1(0.707107,-1.41421,0) = 0.338155 after 18 iters\n",
      "MPB solved for omega_1(1.49766,-2.99532,0) = 0.649864 after 11 iters\n",
      "MPB solved for omega_1(1.50389,-3.00779,0) = 0.65233 after 8 iters\n",
      "MPB solved for omega_1(1.50389,-3.00778,0) = 0.65233 after 1 iters\n",
      "Dominant planewave for band 1: (1.503892,-1.503892,0.000000)\n",
      "MPB solved for omega_1(0.707107,-1.41421,0) = 0.338155 after 15 iters\n",
      "MPB solved for omega_1(1.53374,-3.06747,0) = 0.664144 after 12 iters\n",
      "MPB solved for omega_1(1.54011,-3.08022,0) = 0.666667 after 8 iters\n",
      "MPB solved for omega_1(1.54011,-3.08022,0) = 0.666667 after 1 iters\n",
      "Dominant planewave for band 1: (1.540110,-1.540110,0.000000)\n",
      "MPB solved for omega_1(0.707107,-1.41421,0) = 0.338155 after 16 iters\n",
      "MPB solved for omega_1(1.56981,-3.13963,0) = 0.678431 after 12 iters\n",
      "MPB solved for omega_1(1.57631,-3.15261,0) = 0.681004 after 8 iters\n",
      "MPB solved for omega_1(1.57631,-3.15261,0) = 0.681004 after 1 iters\n",
      "Dominant planewave for band 1: (1.576306,-1.576306,0.000000)\n",
      "MPB solved for omega_1(0.707107,-1.41421,0) = 0.338155 after 15 iters\n",
      "MPB solved for omega_1(1.60589,-3.21178,0) = 0.692727 after 12 iters\n",
      "MPB solved for omega_1(1.61248,-3.22496,0) = 0.695341 after 8 iters\n",
      "MPB solved for omega_1(1.61248,-3.22496,0) = 0.695341 after 1 iters\n",
      "Dominant planewave for band 1: (1.612482,-1.612482,0.000000)\n",
      "MPB solved for omega_1(0.707107,-1.41421,0) = 0.338155 after 15 iters\n",
      "MPB solved for omega_1(1.64196,-3.28393,0) = 0.707031 after 12 iters\n",
      "MPB solved for omega_1(1.64864,-3.29728,0) = 0.709678 after 8 iters\n",
      "MPB solved for omega_1(1.64864,-3.29727,0) = 0.709677 after 1 iters\n",
      "Dominant planewave for band 1: (1.648637,-1.648637,0.000000)\n",
      "MPB solved for omega_1(2.01141,0,0) = 0.618698 after 29 iters\n",
      "MPB solved for omega_1(1.87532,0,0) = 0.580676 after 10 iters\n",
      "MPB solved for omega_1(1.87521,0,0) = 0.580645 after 4 iters\n",
      "MPB solved for omega_1(1.87521,0,0) = 0.580645 after 1 iters\n",
      "Dominant planewave for band 1: (1.875210,-0.000000,0.000000)\n",
      "MPB solved for omega_1(2.06108,0,0) = 0.632588 after 26 iters\n",
      "MPB solved for omega_1(1.92666,0,0) = 0.595012 after 10 iters\n",
      "MPB solved for omega_1(1.92655,0,0) = 0.594982 after 4 iters\n",
      "MPB solved for omega_1(1.92655,0,0) = 0.594982 after 1 iters\n",
      "Dominant planewave for band 1: (1.926553,-0.000000,0.000000)\n",
      "MPB solved for omega_1(2.11074,0,0) = 0.646487 after 33 iters\n",
      "MPB solved for omega_1(1.97797,0,0) = 0.609348 after 10 iters\n",
      "MPB solved for omega_1(1.97786,0,0) = 0.609319 after 4 iters\n",
      "MPB solved for omega_1(1.97786,0,0) = 0.609319 after 1 iters\n",
      "Dominant planewave for band 1: (1.977864,-0.000000,0.000000)\n",
      "MPB solved for omega_1(2.16041,0,0) = 0.660393 after 36 iters\n",
      "MPB solved for omega_1(2.02924,0,0) = 0.623684 after 10 iters\n",
      "MPB solved for omega_1(2.02915,0,0) = 0.623656 after 4 iters\n",
      "MPB solved for omega_1(2.02915,0,0) = 0.623656 after 1 iters\n",
      "Dominant planewave for band 1: (2.029145,-0.000000,0.000000)\n",
      "MPB solved for omega_1(2.21007,0,0) = 0.674307 after 30 iters\n",
      "MPB solved for omega_1(2.08049,0,0) = 0.63802 after 11 iters\n",
      "MPB solved for omega_1(2.08039,0,0) = 0.637993 after 3 iters\n",
      "MPB solved for omega_1(2.08039,0,0) = 0.637993 after 1 iters\n",
      "Dominant planewave for band 1: (2.080395,-0.000000,0.000000)\n",
      "MPB solved for omega_1(2.25974,0,0) = 0.68823 after 28 iters\n",
      "MPB solved for omega_1(2.13171,0,0) = 0.652356 after 10 iters\n",
      "MPB solved for omega_1(2.13161,0,0) = 0.65233 after 3 iters\n",
      "MPB solved for omega_1(2.13161,0,0) = 0.65233 after 1 iters\n",
      "Dominant planewave for band 1: (2.131614,-0.000000,0.000000)\n",
      "MPB solved for omega_1(2.3094,0,0) = 0.70216 after 37 iters\n",
      "MPB solved for omega_1(2.18289,0,0) = 0.666692 after 10 iters\n",
      "MPB solved for omega_1(2.1828,0,0) = 0.666667 after 3 iters\n",
      "MPB solved for omega_1(2.1828,0,0) = 0.666667 after 1 iters\n",
      "Dominant planewave for band 1: (2.182803,-0.000000,0.000000)\n",
      "MPB solved for omega_1(2.35907,0,0) = 0.716097 after 35 iters\n",
      "MPB solved for omega_1(2.23405,0,0) = 0.681028 after 10 iters\n",
      "MPB solved for omega_1(2.23396,0,0) = 0.681004 after 3 iters\n",
      "MPB solved for omega_1(2.23396,0,0) = 0.681004 after 1 iters\n",
      "Dominant planewave for band 1: (2.233962,-0.000000,0.000000)\n",
      "MPB solved for omega_1(2.40873,0,0) = 0.730042 after 39 iters\n",
      "MPB solved for omega_1(2.28517,0,0) = 0.695364 after 10 iters\n",
      "MPB solved for omega_1(2.28509,0,0) = 0.695341 after 3 iters\n",
      "MPB solved for omega_1(2.28509,0,0) = 0.695341 after 1 iters\n",
      "Dominant planewave for band 1: (2.285092,-0.000000,0.000000)\n",
      "MPB solved for omega_1(2.45839,0,0) = 0.743995 after 24 iters\n",
      "MPB solved for omega_1(2.33627,0,0) = 0.7097 after 10 iters\n",
      "MPB solved for omega_1(2.33619,0,0) = 0.709677 after 3 iters\n",
      "MPB solved for omega_1(2.33619,0,0) = 0.709677 after 1 iters\n",
      "Dominant planewave for band 1: (2.336193,-0.000000,0.000000)\n",
      "MPB solved for omega_1(1.41421,-0.707107,0) = 0.338155 after 16 iters\n",
      "MPB solved for omega_1(2.63456,-1.31728,0) = 0.57859 after 11 iters\n",
      "MPB solved for omega_1(2.64498,-1.32249,0) = 0.580645 after 8 iters\n",
      "MPB solved for omega_1(2.64498,-1.32249,0) = 0.580645 after 1 iters\n",
      "Dominant planewave for band 1: (1.322491,-1.322491,0.000000)\n",
      "MPB solved for omega_1(1.41421,-0.707107,0) = 0.338155 after 16 iters\n",
      "MPB solved for omega_1(2.70672,-1.35336,0) = 0.592829 after 11 iters\n",
      "MPB solved for omega_1(2.71763,-1.35881,0) = 0.594982 after 8 iters\n",
      "MPB solved for omega_1(2.71763,-1.35881,0) = 0.594982 after 1 iters\n",
      "Dominant planewave for band 1: (1.358813,-1.358813,0.000000)\n",
      "MPB solved for omega_1(1.41421,-0.707107,0) = 0.338155 after 16 iters\n",
      "MPB solved for omega_1(2.77887,-1.38943,0) = 0.607075 after 11 iters\n",
      "MPB solved for omega_1(2.79023,-1.39511,0) = 0.609319 after 8 iters\n",
      "MPB solved for omega_1(2.79023,-1.39511,0) = 0.609319 after 1 iters\n",
      "Dominant planewave for band 1: (1.395114,-1.395114,0.000000)\n",
      "MPB solved for omega_1(1.41421,-0.707107,0) = 0.338155 after 17 iters\n",
      "MPB solved for omega_1(2.85102,-1.42551,0) = 0.62133 after 11 iters\n",
      "MPB solved for omega_1(2.86279,-1.4314,0) = 0.623656 after 8 iters\n",
      "MPB solved for omega_1(2.86279,-1.43139,0) = 0.623656 after 1 iters\n",
      "Dominant planewave for band 1: (1.431395,-1.431395,0.000000)\n",
      "MPB solved for omega_1(1.41421,-0.707107,0) = 0.338155 after 17 iters\n",
      "MPB solved for omega_1(2.92317,-1.46159,0) = 0.635593 after 11 iters\n",
      "MPB solved for omega_1(2.93531,-1.46765,0) = 0.637993 after 8 iters\n",
      "MPB solved for omega_1(2.93531,-1.46765,0) = 0.637993 after 1 iters\n",
      "Dominant planewave for band 1: (1.467654,-1.467654,0.000000)\n",
      "MPB solved for omega_1(1.41421,-0.707107,0) = 0.338155 after 18 iters\n",
      "MPB solved for omega_1(2.99532,-1.49766,0) = 0.649864 after 11 iters\n"
     ]
    },
    {
     "name": "stdout",
     "output_type": "stream",
     "text": [
      "MPB solved for omega_1(3.00779,-1.50389,0) = 0.65233 after 8 iters\n",
      "MPB solved for omega_1(3.00778,-1.50389,0) = 0.65233 after 1 iters\n",
      "Dominant planewave for band 1: (1.503892,-1.503892,0.000000)\n",
      "MPB solved for omega_1(1.41421,-0.707107,0) = 0.338155 after 17 iters\n",
      "MPB solved for omega_1(3.06747,-1.53374,0) = 0.664144 after 12 iters\n",
      "MPB solved for omega_1(3.08022,-1.54011,0) = 0.666667 after 8 iters\n",
      "MPB solved for omega_1(3.08022,-1.54011,0) = 0.666667 after 1 iters\n",
      "Dominant planewave for band 1: (1.540110,-1.540110,0.000000)\n",
      "MPB solved for omega_1(1.41421,-0.707107,0) = 0.338155 after 17 iters\n",
      "MPB solved for omega_1(3.13963,-1.56981,0) = 0.678431 after 12 iters\n",
      "MPB solved for omega_1(3.15261,-1.57631,0) = 0.681004 after 8 iters\n",
      "MPB solved for omega_1(3.15261,-1.57631,0) = 0.681004 after 1 iters\n",
      "Dominant planewave for band 1: (1.576306,-1.576306,0.000000)\n",
      "MPB solved for omega_1(1.41421,-0.707107,0) = 0.338155 after 15 iters\n",
      "MPB solved for omega_1(3.21178,-1.60589,0) = 0.692727 after 12 iters\n",
      "MPB solved for omega_1(3.22496,-1.61248,0) = 0.695341 after 8 iters\n",
      "MPB solved for omega_1(3.22496,-1.61248,0) = 0.695341 after 1 iters\n",
      "Dominant planewave for band 1: (1.612482,-1.612482,0.000000)\n",
      "MPB solved for omega_1(1.41421,-0.707107,0) = 0.338155 after 15 iters\n",
      "MPB solved for omega_1(3.28393,-1.64196,0) = 0.707031 after 12 iters\n",
      "MPB solved for omega_1(3.29728,-1.64864,0) = 0.709678 after 8 iters\n",
      "MPB solved for omega_1(3.29727,-1.64864,0) = 0.709677 after 1 iters\n",
      "Dominant planewave for band 1: (1.648637,-1.648637,0.000000)\n",
      "MPB solved for omega_1(0,2.01141,0) = 0.618698 after 27 iters\n",
      "MPB solved for omega_1(0,1.87532,0) = 0.580676 after 7 iters\n",
      "MPB solved for omega_1(0,1.87521,0) = 0.580645 after 3 iters\n",
      "MPB solved for omega_1(0,1.87521,0) = 0.580645 after 1 iters\n",
      "Dominant planewave for band 1: (0.000000,1.875210,0.000000)\n",
      "MPB solved for omega_1(0,2.06108,0) = 0.632588 after 23 iters\n",
      "MPB solved for omega_1(0,1.92666,0) = 0.595012 after 7 iters\n",
      "MPB solved for omega_1(0,1.92655,0) = 0.594982 after 3 iters\n",
      "MPB solved for omega_1(0,1.92655,0) = 0.594982 after 1 iters\n",
      "Dominant planewave for band 1: (0.000000,1.926553,0.000000)\n",
      "MPB solved for omega_1(0,2.11074,0) = 0.646487 after 29 iters\n",
      "MPB solved for omega_1(0,1.97797,0) = 0.609348 after 7 iters\n",
      "MPB solved for omega_1(0,1.97786,0) = 0.609319 after 3 iters\n",
      "MPB solved for omega_1(0,1.97786,0) = 0.609319 after 1 iters\n",
      "Dominant planewave for band 1: (0.000000,1.977864,0.000000)\n",
      "MPB solved for omega_1(0,2.16041,0) = 0.660393 after 30 iters\n",
      "MPB solved for omega_1(0,2.02924,0) = 0.623684 after 7 iters\n",
      "MPB solved for omega_1(0,2.02915,0) = 0.623656 after 3 iters\n",
      "MPB solved for omega_1(0,2.02915,0) = 0.623656 after 1 iters\n",
      "Dominant planewave for band 1: (0.000000,2.029145,0.000000)\n",
      "MPB solved for omega_1(0,2.21007,0) = 0.674307 after 32 iters\n",
      "MPB solved for omega_1(0,2.08049,0) = 0.63802 after 7 iters\n",
      "MPB solved for omega_1(0,2.08039,0) = 0.637993 after 3 iters\n",
      "MPB solved for omega_1(0,2.08039,0) = 0.637993 after 1 iters\n",
      "Dominant planewave for band 1: (0.000000,2.080395,0.000000)\n",
      "MPB solved for omega_1(0,2.25974,0) = 0.68823 after 33 iters\n",
      "MPB solved for omega_1(0,2.13171,0) = 0.652356 after 7 iters\n",
      "MPB solved for omega_1(0,2.13161,0) = 0.65233 after 3 iters\n",
      "MPB solved for omega_1(0,2.13161,0) = 0.65233 after 1 iters\n",
      "Dominant planewave for band 1: (0.000000,2.131614,0.000000)\n",
      "MPB solved for omega_1(0,2.3094,0) = 0.70216 after 27 iters\n",
      "MPB solved for omega_1(0,2.18289,0) = 0.666692 after 7 iters\n",
      "MPB solved for omega_1(0,2.1828,0) = 0.666667 after 3 iters\n",
      "MPB solved for omega_1(0,2.1828,0) = 0.666667 after 1 iters\n",
      "Dominant planewave for band 1: (0.000000,2.182803,0.000000)\n",
      "MPB solved for omega_1(0,2.35907,0) = 0.716097 after 32 iters\n",
      "MPB solved for omega_1(0,2.23405,0) = 0.681028 after 7 iters\n",
      "MPB solved for omega_1(0,2.23396,0) = 0.681004 after 3 iters\n",
      "MPB solved for omega_1(0,2.23396,0) = 0.681004 after 1 iters\n",
      "Dominant planewave for band 1: (0.000000,2.233962,0.000000)\n",
      "MPB solved for omega_1(0,2.40873,0) = 0.730042 after 26 iters\n",
      "MPB solved for omega_1(0,2.28517,0) = 0.695364 after 6 iters\n",
      "MPB solved for omega_1(0,2.28509,0) = 0.695341 after 3 iters\n",
      "MPB solved for omega_1(0,2.28509,0) = 0.695341 after 1 iters\n",
      "Dominant planewave for band 1: (0.000000,2.285092,0.000000)\n",
      "MPB solved for omega_1(0,2.45839,0) = 0.743995 after 26 iters\n",
      "MPB solved for omega_1(0,2.33627,0) = 0.7097 after 6 iters\n",
      "MPB solved for omega_1(0,2.33619,0) = 0.709677 after 3 iters\n",
      "MPB solved for omega_1(0,2.33619,0) = 0.709677 after 1 iters\n",
      "Dominant planewave for band 1: (0.000000,2.336193,0.000000)\n",
      "----------------------------------\n",
      "Parameters: radius=3.0\n",
      "Frequencies: [0.58064516 0.59498208 0.609319   0.62365591 0.63799283 0.65232975\n",
      " 0.66666667 0.68100358 0.6953405  0.70967742]\n",
      "Transmitted fraction: [0.9963536  0.99667632 0.99682773 0.99680556 0.99651141 0.99593052\n",
      " 0.9950706  0.99398548 0.99268431 0.99121819]\n",
      "Reflected fraction: [2.88280945e-04 1.81412951e-04 1.00076440e-04 2.80457236e-05\n",
      " 1.47943743e-05 1.18203997e-05 4.52640052e-05 1.48170028e-04\n",
      " 1.39139563e-04 3.26222414e-04]\n"
     ]
    }
   ],
   "source": [
    "# Every mode monitor measures the power flowing through it in either the forward or backward direction\n",
    "kpoint135 = mp.Vector3(x=1).rotate(mp.Vector3(z=1), np.radians(-45))\n",
    "\n",
    "eig_mode1 = sim.get_eigenmode_coefficients(mode1, [1], eig_parity=mp.NO_PARITY, direction=mp.NO_DIRECTION, kpoint_func=lambda f,n: kpoint135)\n",
    "eig_mode2 = sim.get_eigenmode_coefficients(mode2, [1], eig_parity=mp.NO_PARITY)\n",
    "eig_mode3 = sim.get_eigenmode_coefficients(mode3, [1], eig_parity=mp.NO_PARITY, direction=mp.NO_DIRECTION, kpoint_func=lambda f,n: kpoint135)\n",
    "eig_mode4 = sim.get_eigenmode_coefficients(mode4, [1], eig_parity=mp.NO_PARITY)\n",
    "\n",
    "# First, we need to figure out which direction the \"dominant planewave\" k-vector is\n",
    "# We can pick the first frequency (0) for that, assuming that for all simulated frequencies,\n",
    "# The dominant k-vector will point in the same direction.\n",
    "k1 = eig_mode1.kdom[0]\n",
    "k2 = eig_mode2.kdom[0]\n",
    "k3 = eig_mode3.kdom[0]\n",
    "k4 = eig_mode4.kdom[0]\n",
    "\n",
    "# eig_mode.alpha[0,0,0] corresponds to the forward direction, whereas\n",
    "# eig_mode.alpha[0,0,1] corresponds to the backward direction\n",
    "\n",
    "# For port 1, we are interested in the -y direction, so if k1.y is positive, select 1, otherwise 0\n",
    "idx = (k1.y > 0) * 1\n",
    "p1_thru_coeff = eig_mode1.alpha[0,:,idx]\n",
    "p1_reflected_coeff = eig_mode1.alpha[0,:,1-idx]\n",
    "\n",
    "# For port 3, we are interestred in the +x direction\n",
    "idx = (k3.x < 0) * 1\n",
    "p3_thru_coeff = eig_mode3.alpha[0,:,idx]\n",
    "p3_reflected_coeff = eig_mode3.alpha[0,:,1-idx]\n",
    "\n",
    "# transmittance\n",
    "S31 = p3_thru_coeff/p1_thru_coeff\n",
    "S11 = p1_reflected_coeff/p1_thru_coeff\n",
    "trans = abs(S31)**2\n",
    "reflected = abs(S11)**2\n",
    "\n",
    "print(\"----------------------------------\")\n",
    "print(f\"Parameters: radius={ring_radius:.1f}\")\n",
    "print(f\"Frequencies: {mode1_freqs}\")\n",
    "print(f\"Transmitted fraction: {trans}\")\n",
    "print(f\"Reflected fraction: {reflected}\")"
   ]
  },
  {
   "cell_type": "code",
   "execution_count": 204,
   "metadata": {},
   "outputs": [
    {
     "data": {
      "text/plain": [
       "(Vector3<1.3224906945535888, -1.3224906945535886, 0.0>,\n",
       " Vector3<1.322490694553588, -1.3224906945535877, 0.0>)"
      ]
     },
     "execution_count": 204,
     "metadata": {},
     "output_type": "execute_result"
    }
   ],
   "source": [
    "#These should be oblique\n",
    "k1, k3"
   ]
  },
  {
   "cell_type": "markdown",
   "metadata": {},
   "source": [
    "# Milestones\n",
    "\n",
    "Goal: Compute the transmission profile for bend radii between 1.5um and 10um. \n",
    "\n",
    "- Q: Is the reflection significant for any radius? What explain the loss?\n",
    "- Q: What is the formula total size of the simulation region? How many pixels are there?\n",
    "- Q: If each pixel can host 3-dimensional E-field and H-field vectors with 64bit complex float stored in each dimension, how many megabytes of data needs to be stored at each time step? Is it feasible to save all this information throughout the FDTD simulation?\n",
    "- Bonus: Collect the simulation runtime for each radius. How does it change with different radii?\n",
    "- Bonus: At what resolution does the accuracy of the simulation start degrading? In other words, if halving the resolution only results in a 1% relative difference in the most important target metric, it is still a good resolution."
   ]
  },
  {
   "cell_type": "code",
   "execution_count": 200,
   "metadata": {},
   "outputs": [],
   "source": [
    "S31 = p3_thru_coeff/p1_thru_coeff\n",
    "S11 = p1_reflected_coeff/p1_thru_coeff"
   ]
  },
  {
   "cell_type": "code",
   "execution_count": 201,
   "metadata": {},
   "outputs": [],
   "source": [
    "S31_mag = np.abs(S31)\n",
    "S31_phase = np.unwrap(np.angle(S31))\n",
    "\n",
    "S11_mag = np.abs(S11)\n",
    "S11_phase = np.unwrap(np.angle(S11))"
   ]
  },
  {
   "cell_type": "code",
   "execution_count": 202,
   "metadata": {},
   "outputs": [
    {
     "data": {
      "image/png": "[encoded data removed]",
      "text/plain": [
       "<Figure size 360x576 with 2 Axes>"
      ]
     },
     "metadata": {
      "needs_background": "light"
     },
     "output_type": "display_data"
    }
   ],
   "source": [
    "# Plot S21\n",
    "f, (ax1, ax2) = plt.subplots(2, 1, sharex=True, figsize=(5, 8))\n",
    "ax1.plot(1/mode1_freqs, 10 * np.log10(S31_mag), '.-')\n",
    "ax1.set_title(\"S31\")\n",
    "ax1.set_xlabel(r\"$\\lambda$ (um)\")\n",
    "ax1.set_ylabel(\"Magnitude (dB)\")\n",
    "ax1.set_ylim(None, 0)\n",
    "ax1.grid()\n",
    "\n",
    "ax2.plot(1/mode1_freqs, S31_phase, '.-')\n",
    "ax2.set_xlabel(r\"$\\lambda$ (um)\")\n",
    "ax2.set_ylabel(\"Phase (rad)\")\n",
    "ax2.grid()\n",
    "plt.tight_layout()"
   ]
  },
  {
   "cell_type": "code",
   "execution_count": 203,
   "metadata": {
    "scrolled": false
   },
   "outputs": [
    {
     "data": {
      "image/png": "[encoded data removed]",
      "text/plain": [
       "<Figure size 360x576 with 2 Axes>"
      ]
     },
     "metadata": {
      "needs_background": "light"
     },
     "output_type": "display_data"
    }
   ],
   "source": [
    "# Plot S11\n",
    "f, (ax1, ax2) = plt.subplots(2, 1, sharex=True, figsize=(5, 8))\n",
    "ax1.plot(1/mode1_freqs, 10 * np.log10(S11_mag), '.-')\n",
    "ax1.set_title(\"S11\")\n",
    "ax1.set_xlabel(r\"$\\lambda$ (um)\")\n",
    "ax1.set_ylabel(\"Magnitude (dB)\")\n",
    "ax1.set_ylim(None, 0)\n",
    "ax1.grid()\n",
    "\n",
    "ax2.plot(1/mode1_freqs, S11_phase, '.-')\n",
    "ax2.set_xlabel(r\"$\\lambda$ (um)\")\n",
    "ax2.set_ylabel(\"Phase (rad)\")\n",
    "ax2.grid()\n",
    "plt.tight_layout()"
   ]
  },
  {
   "cell_type": "code",
   "execution_count": null,
   "metadata": {},
   "outputs": [],
   "source": []
  }
 ],
 "metadata": {
  "kernelspec": {
   "display_name": "all_tools [~/home/ELE559/anaconda3/envs/all_tools/]",
   "language": "python",
   "name": "conda_all_tools"
  },
  "language_info": {
   "codemirror_mode": {
    "name": "ipython",
    "version": 3
   },
   "file_extension": ".py",
   "mimetype": "text/x-python",
   "name": "python",
   "nbconvert_exporter": "python",
   "pygments_lexer": "ipython3",
   "version": "3.7.6"
  }
 },
 "nbformat": 4,
 "nbformat_minor": 5
}
