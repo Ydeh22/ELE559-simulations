{
 "cells": [
  {
   "cell_type": "markdown",
   "metadata": {},
   "source": [
    "# GDS geometries and MEEP\n",
    "\n",
    "Last week you were introduced to zeropdk, a way to create GDS masks. Today I will use zeropdk to define a complex geometry that we can then import into MEEP."
   ]
  },
  {
   "cell_type": "code",
   "execution_count": null,
   "metadata": {},
   "outputs": [],
   "source": [
    "import pya\n",
    "\n",
    "layout = pya.Layout()\n",
    "dbu = layout.dbu = 0.001\n",
    "TOP = layout.create_cell(\"TOP\")\n",
    "\n",
    "origin = pya.DPoint(0, 0)\n",
    "ex = pya.DVector(1, 0)\n",
    "ey = pya.DVector(0, 1)\n",
    "\n",
    "MZI_Broadband_DC(\"test\").place_cell(TOP, origin)\n",
    "print(\"Wrote to demo2_output.gds\")\n",
    "layout.write(\"demo2_output.gds\")"
   ]
  },
  {
   "cell_type": "code",
   "execution_count": null,
   "metadata": {},
   "outputs": [],
   "source": [
    "res = 50        # pixels/μm\n",
    "d = 0.12        # branch separation\n",
    "\n",
    "gdsII_file = 'coupler.gds'\n",
    "CELL_LAYER = 0\n",
    "PORT1_LAYER = 1\n",
    "PORT2_LAYER = 2\n",
    "PORT3_LAYER = 3\n",
    "PORT4_LAYER = 4\n",
    "SOURCE_LAYER = 5\n",
    "UPPER_BRANCH_LAYER = 31\n",
    "LOWER_BRANCH_LAYER = 32\n",
    "default_d = 0.3\n",
    "\n",
    "t_oxide = 1.0\n",
    "t_Si = 0.22\n",
    "t_air = 0.78\n",
    "\n",
    "dpml = 1\n",
    "cell_thickness = dpml+t_oxide+t_Si+t_air+dpml\n",
    "si_zmin = 0\n",
    "\n",
    "oxide = mp.Medium(epsilon=2.25)\n",
    "silicon=mp.Medium(epsilon=12)\n",
    "\n",
    "lcen = 1.55\n",
    "fcen = 1/lcen\n",
    "df = 0.2*fcen\n",
    "\n",
    "# read cell size, volumes for source region and flux monitors,\n",
    "# and coupler geometry from GDSII file\n",
    "upper_branch = mp.get_GDSII_prisms(silicon, gdsII_file, UPPER_BRANCH_LAYER, si_zmin, si_zmax)\n",
    "lower_branch = mp.get_GDSII_prisms(silicon, gdsII_file, LOWER_BRANCH_LAYER, si_zmin, si_zmax)\n",
    "\n",
    "cell = mp.GDSII_vol(gdsII_file, CELL_LAYER, cell_zmin, cell_zmax)\n",
    "p1 = mp.GDSII_vol(gdsII_file, PORT1_LAYER, si_zmin, si_zmax)\n",
    "p2 = mp.GDSII_vol(gdsII_file, PORT2_LAYER, si_zmin, si_zmax)\n",
    "p3 = mp.GDSII_vol(gdsII_file, PORT3_LAYER, si_zmin, si_zmax)\n",
    "p4 = mp.GDSII_vol(gdsII_file, PORT4_LAYER, si_zmin, si_zmax)\n",
    "src_vol = mp.GDSII_vol(gdsII_file, SOURCE_LAYER, si_zmin, si_zmax)\n",
    "\n",
    "geometry = upper_branch+lower_branch\n",
    "\n",
    "sources = [mp.EigenModeSource(src=mp.GaussianSource(fcen,fwidth=df),\n",
    "                              size=src_vol.size,\n",
    "                              center=src_vol.center,\n",
    "                              eig_band=1,\n",
    "                              eig_parity=mp.NO_PARITY if three_d else mp.EVEN_Y+mp.ODD_Z,\n",
    "                              eig_match_freq=True)]\n",
    "\n",
    "# Display simulation object\n",
    "sim = mp.Simulation(resolution=res,\n",
    "                    eps_averaging=False,\n",
    "                    subpixel_maxeval=1,\n",
    "                    subpixel_tol=1,\n",
    "                    cell_size=cell.size,\n",
    "                    boundary_layers=[mp.PML(dpml)],\n",
    "                    sources=sources,\n",
    "                    geometry=geometry)\n",
    "\n",
    "mode1 = sim.add_mode_monitor(fcen, 0, 1, mp.ModeRegion(volume=p1))\n",
    "mode2 = sim.add_mode_monitor(fcen, 0, 1, mp.ModeRegion(volume=p2))\n",
    "mode3 = sim.add_mode_monitor(fcen, 0, 1, mp.ModeRegion(volume=p3))\n",
    "mode4 = sim.add_mode_monitor(fcen, 0, 1, mp.ModeRegion(volume=p4))"
   ]
  }
 ],
 "metadata": {
  "kernelspec": {
   "display_name": "PyMeep",
   "language": "python",
   "name": "pymeep"
  },
  "language_info": {
   "codemirror_mode": {
    "name": "ipython",
    "version": 3
   },
   "file_extension": ".py",
   "mimetype": "text/x-python",
   "name": "python",
   "nbconvert_exporter": "python",
   "pygments_lexer": "ipython3",
   "version": "3.7.6"
  }
 },
 "nbformat": 4,
 "nbformat_minor": 4
}
