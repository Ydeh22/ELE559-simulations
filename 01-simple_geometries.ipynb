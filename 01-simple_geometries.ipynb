{
 "cells": [
  {
   "cell_type": "markdown",
   "metadata": {},
   "source": [
    "# Defining geometries for MEEP/MPB\n",
    "\n",
    "Simple shapes can be directly defined in PyMEEP. Later, we will see how to import arbitrary shapes made with more specialized tools.\n",
    "For visualization, we will call the Python packages [Matplotlib](https://matplotlib.org/) and [Ipyvolume](https://ipyvolume.readthedocs.io/en/latest/).\n",
    "\n",
    "References :\n",
    "\n",
    "1. https://mpb.readthedocs.io/en/latest/Python_Tutorial/\n",
    "2. https://mpb.readthedocs.io/en/latest/Python_User_Interface/\n",
    "2. http://www.simpetuscloud.com/projects.html#mpb_waveguide"
   ]
  },
  {
   "cell_type": "code",
   "execution_count": 10,
   "metadata": {},
   "outputs": [],
   "source": [
    "# Import meep and mpb (from meep)\n",
    "import meep as mp\n",
    "from meep import mpb\n",
    "\n",
    "# arrays\n",
    "import numpy as np\n",
    "\n",
    "# plotting\n",
    "import matplotlib.pyplot as plt"
   ]
  },
  {
   "cell_type": "markdown",
   "metadata": {},
   "source": [
    "# Cross-section of a strip waveguide\n",
    "\n",
    "As a (useful) example, let's characterize a strip waveguide (Figure from [3])\n",
    "\n",
    "![alt text](http://www.simpetus.com/files/SOI_waveguide_bands.png)\n",
    "\n",
    "The left image is the geometry we want to simulate. Since we have translational invariance along $x$, the propagation direction, we will only consider the $yz$ cross-section. The right image contains the information we want : dispersion relation (allowed modes), and field profiles.\n",
    "\n",
    "## 1. Computational domain\n",
    "\n",
    "Since the computer has finite memory, our geometry will live inside a \"super\" geometry. For MPB, this \"supercell\" always has periodic boundary conditions. But if it is big enough, we don't expect it to have an effect on localized modes, which is what we are trying to solve for a waveguide.\n",
    "\n",
    "### 1.1 A note on geometry\n",
    "\n",
    "By default, everything is 3D. For a waveguide, we can use the translational invariance along the propagation direction (say, $x$) to do a 2D simulation. Then, the only thing that matters is the geometries' intersection with the yz plane (x=0). We can set this when we define the size of the computational cell, controlled by the geometry_lattice argument, an object of the meep.Lattice class: we can set some of the dimensions to have a size 0, which reduces the dimensionality of the system. [1]\n",
    "\n",
    "### 1.2 A note on units\n",
    "\n",
    "Since Maxwell's equations with linear permittivity are [scale-invariant](https://mpb.readthedocs.io/en/latest/Python_Tutorial/#a-few-words-on-units), a simulation in MPB with units of $x$ outputs frequencies equivalent to $f=x/\\lambda$. By default, dimensions are in microns. For instance, to look for the wavelength response at $1.5\\mu$m, we look at frequency $1/1.5 = 0.6667$ (the physical frequency outside of MPB would be $f=c/\\lambda$).\n",
    "\n",
    "Let's define the supercell :"
   ]
  },
  {
   "cell_type": "code",
   "execution_count": 11,
   "metadata": {},
   "outputs": [],
   "source": [
    "sc_y = 2  # supercell width (um)\n",
    "sc_z = 2  # supercell height (um)\n",
    "resolution = 64  # pixels/um\n",
    "geometry_lattice = mp.Lattice(size=mp.Vector3(0, sc_y, sc_z)) # Computational domain object"
   ]
  },
  {
   "cell_type": "markdown",
   "metadata": {},
   "source": [
    "Here, we used variables to parametrize the supercell. The resolution should be a multiple of 2 for better results."
   ]
  },
  {
   "cell_type": "code",
   "execution_count": 12,
   "metadata": {},
   "outputs": [],
   "source": [
    "# Parameters for the waveguide\n",
    "w = 0.5  # Si width (um)\n",
    "h = 0.25  # Si height (um)\n",
    "\n",
    "# Materials\n",
    "Si = mp.Medium(index=3.45)\n",
    "SiO2 = mp.Medium(index=1.45)"
   ]
  },
  {
   "cell_type": "markdown",
   "metadata": {},
   "source": [
    "## 2. Geometry\n",
    "\n",
    "The geometry that will be passed to the solver is a list of meep objects. Objects typically have a shape and index. Later objects in the list will be overlaid \"on top\" of earlier objects, effectively replacing them (useful to draw holes). See https://meep.readthedocs.io/en/latest/Python_User_Interface/#geometricobject for common geometries."
   ]
  },
  {
   "cell_type": "code",
   "execution_count": 13,
   "metadata": {},
   "outputs": [],
   "source": [
    "# define the 2d blocks for the strip and substrate\n",
    "geometry = [mp.Block(size=mp.Vector3(mp.inf, mp.inf, 0.5 * (sc_z - h)),\n",
    "                     center=mp.Vector3(z=0.25 * (sc_z + h)), material=SiO2),\n",
    "            mp.Block(size=mp.Vector3(mp.inf, w, h), material=Si)]"
   ]
  },
  {
   "cell_type": "markdown",
   "metadata": {},
   "source": [
    "## 3 - Visualizing the geometry"
   ]
  },
  {
   "cell_type": "markdown",
   "metadata": {},
   "source": [
    "While we could directly convert the geometry object above into a visualization, MPB and MEEP offer an easy way to display the dielectric distribution once the simulation has been initialized. The function we are interested in is `ModeSolver.init_params(p, reset_fields)` [2]"
   ]
  },
  {
   "cell_type": "code",
   "execution_count": 14,
   "metadata": {},
   "outputs": [
    {
     "name": "stdout",
     "output_type": "stream",
     "text": [
      "Working in 3 dimensions.\n",
      "Grid size is 1 x 128 x 128.\n",
      "Solving for 1 bands at a time.\n",
      "Creating Maxwell data...\n",
      "Mesh size is 3.\n",
      "Lattice vectors:\n",
      "     (1, 0, 0)\n",
      "     (0, 2, 0)\n",
      "     (0, 0, 2)\n",
      "Cell volume = 4\n",
      "Reciprocal lattice vectors (/ 2 pi):\n",
      "     (1, -0, 0)\n",
      "     (-0, 0.5, -0)\n",
      "     (0, -0, 0.5)\n",
      "Geometric objects:\n",
      "     block, center = (0,0,0.5625)\n",
      "          size (1e+20,1e+20,0.875)\n",
      "          axes (1,0,0), (0,1,0), (0,0,1)\n",
      "     block, center = (0,0,0)\n",
      "          size (1e+20,0.5,0.25)\n",
      "          axes (1,0,0), (0,1,0), (0,0,1)\n",
      "Geometric object tree has depth 2 and 8 object nodes (vs. 2 actual objects)\n",
      "Initializing epsilon function...\n",
      "Allocating fields...\n",
      "Solving for band polarization: .\n",
      "Initializing fields to random numbers...\n"
     ]
    }
   ],
   "source": [
    "ms = mpb.ModeSolver(\n",
    "    geometry_lattice=geometry_lattice,\n",
    "    geometry=geometry,\n",
    "    resolution=resolution)\n",
    "ms.init_params(mp.NO_PARITY, True)"
   ]
  },
  {
   "cell_type": "markdown",
   "metadata": {},
   "source": [
    "Let's ask the modesolver for the permittivity distribution it will simulate and plot it :"
   ]
  },
  {
   "cell_type": "code",
   "execution_count": 16,
   "metadata": {},
   "outputs": [
    {
     "name": "stdout",
     "output_type": "stream",
     "text": [
      "epsilon: 1-11.9025, mean 1.82332, harm. mean 1.3534, 47.7539% > 1, 7.55167% \"fill\"\n"
     ]
    },
    {
     "data": {
      "image/png": "[encoded data removed]",
      "text/plain": [
       "<Figure size 432x288 with 2 Axes>"
      ]
     },
     "metadata": {
      "needs_background": "light"
     },
     "output_type": "display_data"
    }
   ],
   "source": [
    "fig, ax = plt.subplots(figsize=(6, 4))\n",
    "\n",
    "n = np.sqrt(ms.get_epsilon())\n",
    "\n",
    "pos = ax.imshow(n.T, cmap='gray_r', interpolation='spline36', extent=[-sc_y/2,sc_y/2,-sc_z/2,sc_z/2] )\n",
    "cbar = fig.colorbar(pos, ax=ax)\n",
    "cbar.set_label('n')\n",
    "ax.set_xlabel('y')\n",
    "ax.set_ylabel('z')\n",
    "plt.show()"
   ]
  },
  {
   "cell_type": "markdown",
   "metadata": {},
   "source": [
    "# 2.5D photonic crystal\n",
    "\n",
    "It is just as easy to define different elements and to extend to 3D. The periodic boundary conditions of MPB make a cell containing a single element automatically a photonic crystal. To simulate defect modes, one can proceed as above i.e. have a larger computational domain with the bounded mode decaying before reaching the boundary.\n"
   ]
  },
  {
   "cell_type": "code",
   "execution_count": 17,
   "metadata": {},
   "outputs": [
    {
     "name": "stdout",
     "output_type": "stream",
     "text": [
      "Working in 3 dimensions.\n",
      "Grid size is 16 x 16 x 64.\n",
      "Solving for 1 bands at a time.\n",
      "Creating Maxwell data...\n",
      "Mesh size is 3.\n",
      "Lattice vectors:\n",
      "     (0.5, 0, 0)\n",
      "     (0, 0.5, 0)\n",
      "     (0, 0, 2)\n",
      "Cell volume = 0.5\n",
      "Reciprocal lattice vectors (/ 2 pi):\n",
      "     (2, -0, 0)\n",
      "     (-0, 2, -0)\n",
      "     (0, -0, 0.5)\n",
      "Geometric objects:\n",
      "     cylinder, center = (0,0,0)\n",
      "          radius 0.2, height 0.875, axis (0, 0, 1)\n",
      "Geometric object tree has depth 1 and 1 object nodes (vs. 1 actual objects)\n",
      "Initializing epsilon function...\n",
      "Allocating fields...\n",
      "Solving for band polarization: .\n",
      "Initializing fields to random numbers...\n"
     ]
    }
   ],
   "source": [
    "# Supercell\n",
    "sc_x = 0.5 # um\n",
    "sc_y = 0.5 # um\n",
    "sc_z = 2 # um\n",
    "resolution = 32  # pixels/um\n",
    "geometry_lattice = mp.Lattice(size=mp.Vector3(sc_x, sc_y, sc_z)) # Computational domain object\n",
    "\n",
    "# Objects\n",
    "geometry = [mp.Cylinder(radius=0.2, height=0.5 * (sc_z - h), material=Si)] # 200nm radius cylinder\n",
    "\n",
    "# ModeSolver\n",
    "ms = mpb.ModeSolver(\n",
    "    geometry_lattice=geometry_lattice,\n",
    "    geometry=geometry,\n",
    "    resolution=resolution)\n",
    "ms.default_material = SiO2 # Default fill for background\n",
    "ms.init_params(mp.NO_PARITY, True)"
   ]
  },
  {
   "cell_type": "code",
   "execution_count": 8,
   "metadata": {},
   "outputs": [
    {
     "name": "stdout",
     "output_type": "stream",
     "text": [
      "epsilon: 2.1025-11.9025, mean 4.25806, harm. mean 2.62689, 100% > 1, 21.9955% \"fill\"\n",
      "(16, 16, 64)\n"
     ]
    },
    {
     "data": {
      "image/png": "[encoded data removed]",
      "text/plain": [
       "<Figure size 432x288 with 2 Axes>"
      ]
     },
     "metadata": {
      "needs_background": "light"
     },
     "output_type": "display_data"
    }
   ],
   "source": [
    "fig, ax = plt.subplots(figsize=(6, 4))\n",
    "\n",
    "n = np.sqrt(ms.get_epsilon())\n",
    "print(np.shape(n))\n",
    "nxy = n[:,:,int(sc_z*resolution/2)]\n",
    "\n",
    "pos = ax.imshow(nxy, cmap='gray_r', interpolation='spline36', extent=[-sc_x/2,sc_x/2,-sc_y/2,sc_y/2] )\n",
    "cbar = fig.colorbar(pos, ax=ax)\n",
    "cbar.set_label('n')\n",
    "ax.set_title('xy cut for z={0}um'.format(sc_z/2))\n",
    "ax.set_xlabel('x')\n",
    "ax.set_ylabel('y')\n",
    "plt.show()"
   ]
  },
  {
   "cell_type": "code",
   "execution_count": 9,
   "metadata": {},
   "outputs": [
    {
     "name": "stdout",
     "output_type": "stream",
     "text": [
      "epsilon: 2.1025-11.9025, mean 4.25806, harm. mean 2.62689, 100% > 1, 21.9955% \"fill\"\n",
      "(16, 16, 64)\n"
     ]
    },
    {
     "data": {
      "image/png": "[encoded data removed]",
      "text/plain": [
       "<Figure size 432x288 with 2 Axes>"
      ]
     },
     "metadata": {
      "needs_background": "light"
     },
     "output_type": "display_data"
    }
   ],
   "source": [
    "fig, ax = plt.subplots(figsize=(6, 4))\n",
    "\n",
    "n = np.sqrt(ms.get_epsilon())\n",
    "print(np.shape(n))\n",
    "nxy = n[:,:,0]\n",
    "\n",
    "pos = ax.imshow(nxy, cmap='gray_r', interpolation='spline36', extent=[-sc_x/2,sc_x/2,-sc_y/2,sc_y/2] )\n",
    "cbar = fig.colorbar(pos, ax=ax)\n",
    "cbar.set_label('n')\n",
    "ax.set_title('xy cut for z={0}um'.format(0))\n",
    "ax.set_xlabel('x')\n",
    "ax.set_ylabel('y')\n",
    "plt.show()"
   ]
  },
  {
   "cell_type": "code",
   "execution_count": 10,
   "metadata": {},
   "outputs": [
    {
     "name": "stderr",
     "output_type": "stream",
     "text": [
      "/home/ELE559/anaconda3/envs/mp/lib/python3.7/site-packages/traittypes/traittypes.py:101: UserWarning: Given trait value dtype \"float64\" does not match required type \"float64\". A coerced copy has been created.\n",
      "  np.dtype(self.dtype).name))\n",
      "/home/ELE559/anaconda3/envs/mp/lib/python3.7/site-packages/ipyvolume/serialize.py:81: RuntimeWarning: invalid value encountered in true_divide\n",
      "  gradient = gradient / np.sqrt(gradient[0]**2 + gradient[1]**2 + gradient[2]**2)\n"
     ]
    },
    {
     "data": {
      "application/vnd.jupyter.widget-view+json": {
       "model_id": "b62522c74aff49b9986db2271daffdcb",
       "version_major": 2,
       "version_minor": 0
      },
      "text/plain": [
       "VBox(children=(VBox(children=(HBox(children=(Label(value='levels:'), FloatSlider(value=0.0, max=1.0, step=0.00…"
      ]
     },
     "metadata": {},
     "output_type": "display_data"
    }
   ],
   "source": [
    "import ipyvolume as ipv\n",
    "ipv.quickvolshow(n, level=[0,1.45,3.45])"
   ]
  }
 ],
 "metadata": {
  "kernelspec": {
   "display_name": "mp [~/home/ELE559/anaconda3/envs/mp/]",
   "language": "python",
   "name": "conda_mp"
  },
  "language_info": {
   "codemirror_mode": {
    "name": "ipython",
    "version": 3
   },
   "file_extension": ".py",
   "mimetype": "text/x-python",
   "name": "python",
   "nbconvert_exporter": "python",
   "pygments_lexer": "ipython3",
   "version": "3.7.6"
  }
 },
 "nbformat": 4,
 "nbformat_minor": 4
}
